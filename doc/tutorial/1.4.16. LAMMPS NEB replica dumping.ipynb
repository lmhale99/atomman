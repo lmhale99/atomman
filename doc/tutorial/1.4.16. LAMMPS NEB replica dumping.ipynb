{
 "cells": [
  {
   "cell_type": "markdown",
   "id": "8d0e5209-f1d6-442f-8576-eafe7aa9b146",
   "metadata": {},
   "source": [
    "# Introduction to atomman: LAMMPS NEB replica dumping\n",
    "\n",
    "__Lucas M. Hale__, [lucas.hale@nist.gov](mailto:lucas.hale@nist.gov?Subject=ipr-demo), _Materials Science and Engineering Division, NIST_.\n",
    "    \n",
    "[Disclaimers](http://www.nist.gov/public_affairs/disclaimer.cfm) "
   ]
  },
  {
   "cell_type": "markdown",
   "id": "a132fb16-fec3-4a0f-a95e-530188bc4641",
   "metadata": {},
   "source": [
    "## 1. Introduction<a id='section1'></a>\n",
    "\n",
    "The 'neb_replica' dump style is specifically used for setting up NEB calculations in LAMMPS.  LAMMPS sets up NEB calculations by first defining the system for the first replica as is normally done in LAMMPS for other calculations.  The initial configurations in the other replicas are then defined by providing positions for the subset of atoms in the system that are to be subjected to NEB forces during the calculation.  These replica files only contain atom ids and positions for the NEB atoms.  Depending on the LAMMPS options, either a single final replica can be defined and intermediate ones are generated based on linear displacements, or atomic positions can be defined for all replicas with a separate replica file for each.   \n",
    "\n",
    "__Note:__ The generated files only contain atom ids and positions for a subset of atoms.  As such, this style does not provide a complete description of a system and should only be used for setting up LAMMPS NEB calculations \n",
    "\n",
    "*Added version 1.4.11*"
   ]
  },
  {
   "cell_type": "code",
   "execution_count": 1,
   "id": "6639d23d-ec94-4bbc-a37a-3d4be5313a85",
   "metadata": {
    "tags": []
   },
   "outputs": [
    {
     "name": "stdout",
     "output_type": "stream",
     "text": [
      "atomman version = 1.5.0\n",
      "Notebook executed on 2024-12-11\n"
     ]
    }
   ],
   "source": [
    "# Standard Python libraries\n",
    "import datetime\n",
    "\n",
    "# http://www.numpy.org/\n",
    "import numpy as np\n",
    "\n",
    "import atomman as am\n",
    "import atomman.unitconvert as uc\n",
    "\n",
    "# Show atomman version\n",
    "print('atomman version =', am.__version__)\n",
    "\n",
    "# Show date of Notebook execution\n",
    "print('Notebook executed on', datetime.date.today())"
   ]
  },
  {
   "cell_type": "markdown",
   "id": "3cec7dfa-8c9f-403d-bde2-3cbb10c7666e",
   "metadata": {},
   "source": [
    "Generate test system information (CsCl)"
   ]
  },
  {
   "cell_type": "code",
   "execution_count": 2,
   "id": "0c6dbe35-9167-447f-ab32-6ea8000d065d",
   "metadata": {
    "tags": []
   },
   "outputs": [
    {
     "name": "stdout",
     "output_type": "stream",
     "text": [
      "avect =  [ 3.200,  0.000,  0.000]\n",
      "bvect =  [ 0.000,  3.200,  0.000]\n",
      "cvect =  [ 0.000,  0.000,  3.200]\n",
      "origin = [ 0.000,  0.000,  0.000]\n",
      "natoms = 2\n",
      "natypes = 2\n",
      "symbols = ('Cs', 'Cl')\n",
      "pbc = [ True  True  True]\n",
      "per-atom properties = ['atype', 'pos', 'a_id']\n",
      "     id |   atype |  pos[0] |  pos[1] |  pos[2]\n",
      "      0 |       1 |   0.000 |   0.000 |   0.000\n",
      "      1 |       2 |   1.600 |   1.600 |   1.600\n"
     ]
    },
    {
     "data": {
      "text/html": [
       "<div>\n",
       "<style scoped>\n",
       "    .dataframe tbody tr th:only-of-type {\n",
       "        vertical-align: middle;\n",
       "    }\n",
       "\n",
       "    .dataframe tbody tr th {\n",
       "        vertical-align: top;\n",
       "    }\n",
       "\n",
       "    .dataframe thead th {\n",
       "        text-align: right;\n",
       "    }\n",
       "</style>\n",
       "<table border=\"1\" class=\"dataframe\">\n",
       "  <thead>\n",
       "    <tr style=\"text-align: right;\">\n",
       "      <th></th>\n",
       "      <th>atype</th>\n",
       "      <th>pos[0]</th>\n",
       "      <th>pos[1]</th>\n",
       "      <th>pos[2]</th>\n",
       "      <th>a_id</th>\n",
       "    </tr>\n",
       "  </thead>\n",
       "  <tbody>\n",
       "    <tr>\n",
       "      <th>0</th>\n",
       "      <td>1</td>\n",
       "      <td>0.0</td>\n",
       "      <td>0.0</td>\n",
       "      <td>0.0</td>\n",
       "      <td>499</td>\n",
       "    </tr>\n",
       "    <tr>\n",
       "      <th>1</th>\n",
       "      <td>2</td>\n",
       "      <td>1.6</td>\n",
       "      <td>1.6</td>\n",
       "      <td>1.6</td>\n",
       "      <td>500</td>\n",
       "    </tr>\n",
       "  </tbody>\n",
       "</table>\n",
       "</div>"
      ],
      "text/plain": [
       "   atype  pos[0]  pos[1]  pos[2]  a_id\n",
       "0      1     0.0     0.0     0.0   499\n",
       "1      2     1.6     1.6     1.6   500"
      ]
     },
     "execution_count": 2,
     "metadata": {},
     "output_type": "execute_result"
    }
   ],
   "source": [
    "# Generate box\n",
    "alat = uc.set_in_units(3.2, 'angstrom')\n",
    "box = am.Box(a=alat, b=alat, c=alat)\n",
    "\n",
    "# Generate atoms with atype, pos, and a_id properties\n",
    "atype = [1, 2]\n",
    "pos = [[0,0,0], [0.5, 0.5, 0.5]]\n",
    "a_id = [499, 500]\n",
    "atoms = am.Atoms(pos=pos, atype=atype, a_id=a_id)\n",
    "\n",
    "# Build system from box and atoms, and scale atoms\n",
    "system = am.System(atoms=atoms, box=box, scale=True, symbols=['Cs', 'Cl'])\n",
    "\n",
    "# Print system information\n",
    "print(system)\n",
    "system.atoms_df()"
   ]
  },
  {
   "cell_type": "markdown",
   "id": "5ba7414a-81f3-4c78-a74b-d54f2b3441ea",
   "metadata": {},
   "source": [
    "## 2. System.dump('neb_replica')<a id='section2'></a>\n",
    "\n",
    "Generates a LAMMPS NEB replica file based on the System.  __Note__: this format only captures per-atom data for each atom's id and position.  Therefore, it does not offer a lossless representation of a System object.\n",
    "\n",
    "Parameters\n",
    "\n",
    "- __f__ (*str or file-like object, option*) File path or file-like object to write the content to.  If not given, then the content is returned as a str.\n",
    "- __id_key__ (*str, optional*) The name of the atoms property of system to use for the atomic ids. If not given, then the indices of the atoms will be used which should only be done if the atoms in the given system have the same number and order as the reference system used for the initial/first replica.  This atoms property should map the moved atoms to the corresponding ids of the initial/first replica. \n",
    "- __id_start0__ (*bool, optional*) LAMMPS ids start at 1 whereas atomman uses atom indices which start at 0.  If idstart0 is True (default) then this indicates that the id_key values are relative to the atomman atoms indices and should be increased by 1 when dumped.  If False, then the id_key values are used as is and assumed to be relative to the LAMMPS atom ids.\n",
    "- __float_format__ (*str, optional*) c-style formatting string for floating point values.  Default value is '%.13f'.replica   \n",
    "\n",
    "Returns\n",
    "\n",
    "- __neb_replica_str__ (*str*) The configuration of the neb replica, returned if f is not given."
   ]
  },
  {
   "cell_type": "markdown",
   "id": "8d9392d3-701e-4d21-9e76-9246982c8468",
   "metadata": {},
   "source": [
    "Usage notes: The dump style will include all atoms in the System, but typically you only want a subset of atoms from the original reference system.  You can achieve this by defining a new system with only the NEB-subjected atoms in it or by using atoms_ix to slice the system.\n",
    "\n",
    "The default settings for this dump style will set the atom ids to be equal to their atom index+1.  This should only be used if the atoms to be subjected to NEB forces correspond to the first atoms in the original system, or the replicas contain all atoms of the original system (i.e. all atoms are to be subjected to NEB forces)."
   ]
  },
  {
   "cell_type": "code",
   "execution_count": 3,
   "id": "4bc2f019-e2f0-4acc-875a-dc669f05680b",
   "metadata": {
    "tags": []
   },
   "outputs": [
    {
     "name": "stdout",
     "output_type": "stream",
     "text": [
      "2\n",
      "1 0.0000000000000 0.0000000000000 0.0000000000000\n",
      "2 1.6000000000000 1.6000000000000 1.6000000000000\n",
      "\n"
     ]
    }
   ],
   "source": [
    "replica = system.dump('neb_replica')\n",
    "print(replica)"
   ]
  },
  {
   "cell_type": "markdown",
   "id": "3da3cc0e-3d9a-4782-8e58-118908d9d65e",
   "metadata": {},
   "source": [
    "For most cases, you will want to set an id_key property to associate with the atom ids.  The id_start0 parameter then controls if id_key values start at 0 (like is used for the atomman atomic indices) or at 1 (like is used for the LAMMPS atom ids). \n",
    "\n",
    "With id_start0=True (default) all ids are equal to a_id+1."
   ]
  },
  {
   "cell_type": "code",
   "execution_count": 4,
   "id": "044a426c-b698-4d11-ae62-7bc34741cf44",
   "metadata": {
    "tags": []
   },
   "outputs": [
    {
     "name": "stdout",
     "output_type": "stream",
     "text": [
      "2\n",
      "500 0.0000000000000 0.0000000000000 0.0000000000000\n",
      "501 1.6000000000000 1.6000000000000 1.6000000000000\n",
      "\n"
     ]
    }
   ],
   "source": [
    "# \n",
    "replica = system.dump('neb_replica', id_key='a_id')\n",
    "print(replica)"
   ]
  },
  {
   "cell_type": "code",
   "execution_count": 5,
   "id": "8e7c9abc-773d-4a5a-bfc1-84483b1689e5",
   "metadata": {
    "tags": []
   },
   "outputs": [
    {
     "name": "stdout",
     "output_type": "stream",
     "text": [
      "2\n",
      "499 0.0000000000000 0.0000000000000 0.0000000000000\n",
      "500 1.6000000000000 1.6000000000000 1.6000000000000\n",
      "\n"
     ]
    }
   ],
   "source": [
    "# With id_start0=False all ids are equal to a_id\n",
    "replica = system.dump('neb_replica', id_key='a_id', id_start0=False)\n",
    "print(replica)"
   ]
  },
  {
   "cell_type": "markdown",
   "id": "aed1950b-348e-4883-a83d-3c6c5c4ff4be",
   "metadata": {},
   "source": [
    " "
   ]
  }
 ],
 "metadata": {
  "kernelspec": {
   "display_name": "Python 311",
   "language": "python",
   "name": "py11"
  },
  "language_info": {
   "codemirror_mode": {
    "name": "ipython",
    "version": 3
   },
   "file_extension": ".py",
   "mimetype": "text/x-python",
   "name": "python",
   "nbconvert_exporter": "python",
   "pygments_lexer": "ipython3",
   "version": "3.11.5"
  }
 },
 "nbformat": 4,
 "nbformat_minor": 5
}
