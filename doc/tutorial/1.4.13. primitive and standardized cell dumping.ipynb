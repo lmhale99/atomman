{
 "cells": [
  {
   "cell_type": "markdown",
   "id": "3ed392e9",
   "metadata": {},
   "source": [
    "# Introduction to atomman: primitive and standardized cell dumping\n",
    "\n",
    "__Lucas M. Hale__, [lucas.hale@nist.gov](mailto:lucas.hale@nist.gov?Subject=ipr-demo), _Materials Science and Engineering Division, NIST_.\n",
    "    \n",
    "[Disclaimers](http://www.nist.gov/public_affairs/disclaimer.cfm) "
   ]
  },
  {
   "cell_type": "markdown",
   "id": "ac7ad7a0",
   "metadata": {},
   "source": [
    "## 1. Introduction<a id='section1'></a>\n",
    "\n",
    "The \"standardize_cell\" and \"primitive_cell\" dump styles use [spglib](https://github.com/spglib/spglib) to analyze the symmetry of a given atomman System, and return a new standardized System based on the symmetry. These methods are useful if you are starting with a cell with unknown symmetry and you want to obtain a standardized unit cell representation of it.\n",
    "\n",
    "The \"standardize_cell\" dump style is a wrapper around the spglib.standardize_cell() method, while the \"primitive_cell\" style is a wrapper around the spglib.find_primitive() method. The former is the more generalized method, with the latter corresponding to the subset where the to_primitive setting is set to True.  \"primitive_cell\" is retained for consistency.\n",
    "\n",
    "**NOTES**: These dump styles require that spglib be installed.  The symmetry analysis works best when the input systems are small and the atoms are at/close to their ideal (minimized) positions. Also, see the \"conventional_to_primitive\" dump method in the next notebook for an alternative method with different advantages and disadvantages.\n",
    "\n",
    "*\"primitive_cell\" added version 1.4.6* \n",
    "\n",
    "*\"standardize_cell\" added version 1.5.0*"
   ]
  },
  {
   "cell_type": "markdown",
   "id": "98f526e4",
   "metadata": {},
   "source": [
    "**Library Imports**"
   ]
  },
  {
   "cell_type": "code",
   "execution_count": 1,
   "id": "ec71591a",
   "metadata": {},
   "outputs": [
    {
     "name": "stdout",
     "output_type": "stream",
     "text": [
      "atomman version = 1.5.0\n",
      "Notebook executed on 2025-02-25\n"
     ]
    }
   ],
   "source": [
    "# Standard Python libraries\n",
    "import datetime\n",
    "\n",
    "# http://www.numpy.org/\n",
    "import numpy as np\n",
    "\n",
    "import atomman as am\n",
    "import atomman.unitconvert as uc\n",
    "\n",
    "# Show atomman version\n",
    "print('atomman version =', am.__version__)\n",
    "\n",
    "# Show date of Notebook execution\n",
    "print('Notebook executed on', datetime.date.today())"
   ]
  },
  {
   "cell_type": "markdown",
   "id": "7a7fadd8",
   "metadata": {},
   "source": [
    "## 2. Dump<a id='section2'></a>"
   ]
  },
  {
   "cell_type": "markdown",
   "id": "f6af51f5-ecf5-44dd-8be8-b29f34213958",
   "metadata": {},
   "source": [
    "### 2.1. System.dump('standardize_cell')\n",
    "\n",
    "Wrapper around spglib.standardize_cell() that finds a standardized unit cell for the system.  This works best for small systems where atoms are already close to or at ideal positions.\n",
    "\n",
    "Parameters\n",
    "\n",
    "- __symprec__ (*float, optional*) Absolute length tolerance to use in identifying symmetry of atomic sites and system boundaries. Default value is 1e-5.\n",
    "- __to_primitive__ (*bool, optional*) If True, the returned unit cell will be primitive.  If False (default), the returned unit cell will be conventional.\n",
    "- __no_idealize__ (*bool, optional*) If False (default) the lengths and angles of box vectors and atomic positions will all be idealized based on symmetry.  Setting this to True turns off the idealization.\n",
    "- __angle_tolerance__ (*float, optional*) Symmetry search tolerance in the unit of angle deg.  The spglib documentation suggests that this is normally not to be used, and giving a negative value (default) will use an optimized internal algorithm instead.\n",
    "- __normalize__ (*str or None*) Indicates which normalization scheme, if any, to use on the identified primitive cell.  None will return exactly as obtained from spglib. Default value is 'lammps', meaning that the cell will be compatible with LAMMPS.\n",
    "        \n",
    "Returns\n",
    "\n",
    "- __ucell__ (*atomman.System*) The identified standardized unit cell as a System object."
   ]
  },
  {
   "cell_type": "code",
   "execution_count": 2,
   "id": "e1adc316-f8ce-4385-8a0b-f27b6835249d",
   "metadata": {},
   "outputs": [
    {
     "name": "stdout",
     "output_type": "stream",
     "text": [
      "avect =  [ 4.050,  0.000,  0.000]\n",
      "bvect =  [ 0.000,  4.050,  0.000]\n",
      "cvect =  [ 0.000,  0.000,  4.050]\n",
      "origin = [ 0.000,  0.000,  0.000]\n",
      "natoms = 4\n",
      "natypes = 1\n",
      "symbols = ('Al',)\n",
      "pbc = [ True  True  True]\n",
      "per-atom properties = ['atype', 'pos']\n",
      "     id |   atype |  pos[0] |  pos[1] |  pos[2]\n",
      "      0 |       1 |   0.000 |   0.000 |   0.000\n",
      "      1 |       1 |   0.000 |   2.025 |   2.025\n",
      "      2 |       1 |   2.025 |   0.000 |   2.025\n",
      "      3 |       1 |   2.025 |   2.025 |   0.000\n"
     ]
    }
   ],
   "source": [
    "# Create a 3x3x3 fcc supercell\n",
    "fcc = am.load('prototype', 'A1--Cu--fcc', a=4.05, symbols='Al')\n",
    "system = fcc.supersize(3,3,3)\n",
    "\n",
    "# Dump the standardized cell\n",
    "s_ucell = system.dump('standardize_cell')\n",
    "print(s_ucell)"
   ]
  },
  {
   "cell_type": "markdown",
   "id": "88d97c09-122c-4693-9385-7882b41c3cb4",
   "metadata": {},
   "source": [
    "### 2.2. System.dump('primitive_cell')\n",
    "\n",
    "Wrapper around spglib.find_primitive() that finds a primitive unit cell for the system.  This works best for small systems where atoms are already close to or at ideal positions.\n",
    "\n",
    "Parameters\n",
    "\n",
    "- **symprec** (*float, optional*) Absolute length tolerance to use in identifying symmetry of atomic sites and system boundaries. Default value is 1e-5.\n",
    "- **normalize** (*str  or None, optional*) Indicates which normalization scheme, if any, to use on the identified primitive cell.  None will return exactly as obtained from spglib. Default value is 'lammps', meaning that the cell will be compatible with LAMMPS.\n",
    "        \n",
    "Returns\n",
    "\n",
    "- **ucell** (*atomman.System*) The identified primitive unit cell as a System object."
   ]
  },
  {
   "cell_type": "code",
   "execution_count": 3,
   "id": "e6e6fa25",
   "metadata": {
    "tags": []
   },
   "outputs": [
    {
     "name": "stdout",
     "output_type": "stream",
     "text": [
      "avect =  [ 2.864,  0.000,  0.000]\n",
      "bvect =  [ 1.432,  2.480,  0.000]\n",
      "cvect =  [ 1.432,  0.827,  2.338]\n",
      "origin = [ 0.000,  0.000,  0.000]\n",
      "natoms = 1\n",
      "natypes = 1\n",
      "symbols = ('Al',)\n",
      "pbc = [ True  True  True]\n",
      "per-atom properties = ['atype', 'pos']\n",
      "     id |   atype |  pos[0] |  pos[1] |  pos[2]\n",
      "      0 |       1 |   0.000 |   0.000 |   0.000\n"
     ]
    }
   ],
   "source": [
    "# Create a 3x3x3 fcc supercell\n",
    "fcc = am.load('prototype', 'A1--Cu--fcc', a=4.05, symbols='Al')\n",
    "system = fcc.supersize(3,3,3)\n",
    "\n",
    "# Dump the primitive cell\n",
    "p_ucell = system.dump('primitive_cell')\n",
    "print(p_ucell)"
   ]
  },
  {
   "cell_type": "code",
   "execution_count": null,
   "id": "13a5bb12-8408-445c-a167-f12338944995",
   "metadata": {},
   "outputs": [],
   "source": []
  }
 ],
 "metadata": {
  "kernelspec": {
   "display_name": "ipr",
   "language": "python",
   "name": "ipr"
  },
  "language_info": {
   "codemirror_mode": {
    "name": "ipython",
    "version": 3
   },
   "file_extension": ".py",
   "mimetype": "text/x-python",
   "name": "python",
   "nbconvert_exporter": "python",
   "pygments_lexer": "ipython3",
   "version": "3.11.11"
  }
 },
 "nbformat": 4,
 "nbformat_minor": 5
}
