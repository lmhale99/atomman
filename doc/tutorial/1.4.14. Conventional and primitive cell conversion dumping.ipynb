{
 "cells": [
  {
   "cell_type": "markdown",
   "id": "f4231a81",
   "metadata": {},
   "source": [
    "# Introduction to atomman: conventional-primitive cell dumping\n",
    "\n",
    "__Lucas M. Hale__, [lucas.hale@nist.gov](mailto:lucas.hale@nist.gov?Subject=ipr-demo), _Materials Science and Engineering Division, NIST_.\n",
    "    \n",
    "[Disclaimers](http://www.nist.gov/public_affairs/disclaimer.cfm) "
   ]
  },
  {
   "cell_type": "markdown",
   "id": "6209dbb6",
   "metadata": {},
   "source": [
    "## 1. Introduction<a id='section1'></a>\n",
    "\n",
    "The 'conventional_to_primitive' and 'primitive_to_conventional' dump styles provide a means of converting between primitive and conventional representations of unit cells in a reversible way.  These system conversions are based on the vector_primitive_to_conventional and vector_conventional_to_primitive operations in atomman.tools.miller, which makes it possible to easily switch between the two reference states.\n",
    "\n",
    "__NOTE__: These conversion methods should only be used on unit cells in which you know what the proper conventional cell setting is. For more general primitive cell identification, use the 'primitive_cell' dump method.\n",
    "\n",
    "*Added version 1.4.8*"
   ]
  },
  {
   "cell_type": "markdown",
   "id": "e6e9639c",
   "metadata": {},
   "source": [
    "**Library Imports**"
   ]
  },
  {
   "cell_type": "code",
   "execution_count": 1,
   "id": "91fa7a69",
   "metadata": {},
   "outputs": [
    {
     "name": "stdout",
     "output_type": "stream",
     "text": [
      "atomman version = 1.5.0\n",
      "Notebook executed on 2024-12-11\n"
     ]
    }
   ],
   "source": [
    "# Standard Python libraries\n",
    "import datetime\n",
    "\n",
    "# http://www.numpy.org/\n",
    "import numpy as np\n",
    "\n",
    "import atomman as am\n",
    "import atomman.unitconvert as uc\n",
    "\n",
    "# Show atomman version\n",
    "print('atomman version =', am.__version__)\n",
    "\n",
    "# Show date of Notebook execution\n",
    "print('Notebook executed on', datetime.date.today())"
   ]
  },
  {
   "cell_type": "markdown",
   "id": "2cd6d0f0",
   "metadata": {},
   "source": [
    "## 2. Dump conventional_to_primitive<a id='section2'></a>\n",
    "\n",
    "Transforms a conventional unit cell system of a specified Bravais space lattice setting into a primitive unit cell. The primitive_to_conventional and conventional_to_primitive dump styles are meant to be inverse operations, within floating point precision, to provide compatible primitive and conventional unit cells.\n",
    "\n",
    "NOTE: This dump style expects that the original starting system is a conventional unit cell, and only limited checks are performed to assert this!  Use the 'primitive_cell' dump style for a more comprehensive primitive unit cell identifier.\n",
    "\n",
    "Parameters\n",
    "\n",
    "- __system__ (*atomman.System*) A conventional unit cell system to find the corresponding primitive unit cell for.\n",
    "- __setting__ (*str, optional*) The conventional cell space lattice setting. Allowed values are 'p' for primitive, 'f' for face-centered, 'i' for body centered, and 'a', 'b', or 'c' for side-centered.\n",
    "- __smallshift__ (*array-like object or None, optional*) A small rigid body shift to apply to the atomic positions when searching for which atoms are within the primitive cell.  This helps avoid identification issues when atoms are directly on the box boundaries. The default value of None will use a smallshift of [0.001, 0.001, 0.001].\n",
    "- __rtol__ (*float, optional*) Relative tolerance to use for numpy.isclose.  This is used here to check that the conventional cell has atoms in the expected lattice positions for the given setting.\n",
    "- __atol__ (*float, optional*) Absolute tolerance to use for numpy.isclose.  This is used here to check that the conventional cell has atoms in the expected lattice positions for the given setting.\n",
    "- __check_basis__ (*bool, optional*) If True (default), a quick check will be performed on the system to see if it appears consistent with a Bravais space lattice with the given setting.  Turning this check off may be necessary for more complex cases, such as non-conventional cell representations and complex unit cells where no atoms are at the lattice site [0, 0, 0].\n",
    "- __check_family__ (*bool, optional*) If True (default), then the Bravais space lattice check will include a check that the crystal family is consistent with a Bravais lattice of the given setting. For example, Bravais lattices with setting 'f' only exist for cubic and orthogonal cells.  This check is not done if either check_family or check_basis is False.  Turning this off allows for transformations of non-conventional cells.\n",
    "- __return_transform__ (*bool, optional*) Indicates if the Cartesian transformation matrix associated with rotating from the conventional cell to primitive cell orientations is returned.  Default value is False.\n",
    "\n",
    "Returns\n",
    "\n",
    "- __p_ucell__ (*atomman.System*) The primitive unit cell obtained by transforming the given conventional unit cell system.\n",
    "- __transform__ (*numpy.ndarray*) The Cartesian transformation matrix associated with converting from the primitive cell orientation to the conventional cell orientation.  Only returned if return_transform is True."
   ]
  },
  {
   "cell_type": "code",
   "execution_count": 2,
   "id": "c0663d4a",
   "metadata": {},
   "outputs": [
    {
     "name": "stdout",
     "output_type": "stream",
     "text": [
      "avect =  [ 4.050,  0.000,  0.000]\n",
      "bvect =  [ 0.000,  4.050,  0.000]\n",
      "cvect =  [ 0.000,  0.000,  4.050]\n",
      "origin = [ 0.000,  0.000,  0.000]\n",
      "natoms = 4\n",
      "natypes = 1\n",
      "symbols = ('Al',)\n",
      "pbc = [ True  True  True]\n",
      "per-atom properties = ['atype', 'pos']\n",
      "     id |   atype |  pos[0] |  pos[1] |  pos[2]\n",
      "      0 |       1 |   0.000 |   0.000 |   0.000\n",
      "      1 |       1 |   0.000 |   2.025 |   2.025\n",
      "      2 |       1 |   2.025 |   0.000 |   2.025\n",
      "      3 |       1 |   2.025 |   2.025 |   0.000\n"
     ]
    }
   ],
   "source": [
    "c_ucell = am.load('prototype', 'A1--Cu--fcc', a=4.05, symbols='Al')\n",
    "print(c_ucell)"
   ]
  },
  {
   "cell_type": "code",
   "execution_count": 3,
   "id": "3b049292",
   "metadata": {},
   "outputs": [
    {
     "name": "stdout",
     "output_type": "stream",
     "text": [
      "avect =  [ 2.864,  0.000,  0.000]\n",
      "bvect =  [ 1.432,  2.480,  0.000]\n",
      "cvect =  [ 1.432,  0.827,  2.338]\n",
      "origin = [ 0.000,  0.000,  0.000]\n",
      "natoms = 1\n",
      "natypes = 1\n",
      "symbols = ('Al',)\n",
      "pbc = [ True  True  True]\n",
      "per-atom properties = ['atype', 'pos']\n",
      "     id |   atype |  pos[0] |  pos[1] |  pos[2]\n",
      "      0 |       1 |   0.000 |   0.000 |   0.000\n"
     ]
    }
   ],
   "source": [
    "p_ucell = c_ucell.dump('conventional_to_primitive', setting='f')\n",
    "print(p_ucell)"
   ]
  },
  {
   "cell_type": "markdown",
   "id": "e9c423ad",
   "metadata": {},
   "source": [
    "## 3. Dump primitive_to_conventional<a id='section3'></a>\n",
    "\n",
    "Transforms a primitive unit cell system into a conventional unit cell system of the given Bravais space lattice setting.  The primitive_to_conventional and conventional_to_primitive dump styles are meant to be inverse operations, within floating point precision, to provide compatible primitive and conventional unit cells.\n",
    "\n",
    "NOTE: This dump style expects that the original starting system is a primitive unit cell, although no checks are performed to assert this!\n",
    "\n",
    "Parameters\n",
    "\n",
    "- __system__ (*atomman.System*) A primitive unit cell system to find the corresponding conventional unit cell for.\n",
    "- __setting__ (*str, optional*) The conventional cell space group lattice setting. Allowed values are 'p' for primitive, 'f' for face-centered, 'i' for body centered, and 'a', 'b', or 'c' for side-centered.\n",
    "- __return_transform__ (*bool, optional*) Indicates if the Cartesian transformation matrix associated with rotating from the primitive cell to conventional cell orientations is returned.  Default value is False.\n",
    "\n",
    "Returns\n",
    "\n",
    "- __c_ucell__ (*atomman.System*) The conventional unit cell obtained by transforming the given primitive unit cell system.\n",
    "- __transform__ (*numpy.ndarray*) The Cartesian transformation matrix associated with converting from the primitive cell orientation to the conventional cell orientation.  Only returned if return_transform is True."
   ]
  },
  {
   "cell_type": "code",
   "execution_count": 4,
   "id": "b305b7f3",
   "metadata": {},
   "outputs": [
    {
     "name": "stdout",
     "output_type": "stream",
     "text": [
      "avect =  [ 4.050,  0.000,  0.000]\n",
      "bvect =  [ 0.000,  4.050,  0.000]\n",
      "cvect =  [ 0.000,  0.000,  4.050]\n",
      "origin = [ 0.000,  0.000,  0.000]\n",
      "natoms = 4\n",
      "natypes = 1\n",
      "symbols = ('Al',)\n",
      "pbc = [ True  True  True]\n",
      "per-atom properties = ['atype', 'pos']\n",
      "     id |   atype |  pos[0] |  pos[1] |  pos[2]\n",
      "      0 |       1 |   4.050 |   0.000 |   0.000\n",
      "      1 |       1 |   2.025 |   2.025 |   0.000\n",
      "      2 |       1 |   0.000 |   2.025 |   2.025\n",
      "      3 |       1 |   2.025 |   0.000 |   2.025\n"
     ]
    }
   ],
   "source": [
    "c_ucell2 = p_ucell.dump('primitive_to_conventional', setting='f')\n",
    "print(c_ucell2)"
   ]
  },
  {
   "cell_type": "markdown",
   "id": "73552934",
   "metadata": {},
   "source": [
    " "
   ]
  }
 ],
 "metadata": {
  "kernelspec": {
   "display_name": "Python 311",
   "language": "python",
   "name": "py11"
  },
  "language_info": {
   "codemirror_mode": {
    "name": "ipython",
    "version": 3
   },
   "file_extension": ".py",
   "mimetype": "text/x-python",
   "name": "python",
   "nbconvert_exporter": "python",
   "pygments_lexer": "ipython3",
   "version": "3.11.5"
  }
 },
 "nbformat": 4,
 "nbformat_minor": 5
}
