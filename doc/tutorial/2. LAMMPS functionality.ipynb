{
 "cells": [
  {
   "cell_type": "markdown",
   "metadata": {},
   "source": [
    "# Introduction to atomman: LAMMPS functionality\n",
    "\n",
    "__Lucas M. Hale__, [lucas.hale@nist.gov](mailto:lucas.hale@nist.gov?Subject=ipr-demo), _Materials Science and Engineering Division, NIST_.\n",
    "    \n",
    "[Disclaimers](http://www.nist.gov/public_affairs/disclaimer.cfm)"
   ]
  },
  {
   "cell_type": "markdown",
   "metadata": {},
   "source": [
    "## 1. Introduction<a id='section1'></a>\n",
    "\n",
    "This Notebook provides an introduction to interacting with LAMMPS using atomman by working through a demonstration simulation."
   ]
  },
  {
   "cell_type": "markdown",
   "metadata": {},
   "source": [
    "**Library Imports**"
   ]
  },
  {
   "cell_type": "code",
   "execution_count": 1,
   "metadata": {},
   "outputs": [
    {
     "name": "stdout",
     "output_type": "stream",
     "text": [
      "atomman version = 1.5.0\n",
      "Notebook executed on 2025-02-24\n"
     ]
    }
   ],
   "source": [
    "# Standard libraries\n",
    "from pathlib import Path\n",
    "import datetime\n",
    "\n",
    "# http://www.numpy.org/\n",
    "import numpy as np             \n",
    "\n",
    "# http://matplotlib.org/\n",
    "import matplotlib.pyplot as plt \n",
    "%matplotlib inline\n",
    "\n",
    "# https://github.com/usnistgov/atomman\n",
    "import atomman as am            \n",
    "import atomman.lammps as lmp\n",
    "import atomman.unitconvert as uc\n",
    "\n",
    "# Show atomman version\n",
    "print('atomman version =', am.__version__)\n",
    "\n",
    "# Show date of Notebook execution\n",
    "print('Notebook executed on', datetime.date.today())"
   ]
  },
  {
   "cell_type": "markdown",
   "metadata": {},
   "source": [
    "## 2. Interatomic Potential Control<a id='section2'></a>\n",
    "\n",
    "LAMMPS is capable of using a wide array of interatomic potential styles, which are defined through a combination of LAMMPS commands and potential parameter files.  In atomman, the LAMMPS commands can be automatically generated using the Potentials class and structured data model files."
   ]
  },
  {
   "cell_type": "markdown",
   "metadata": {},
   "source": [
    "### 2.1. Load potential from database\n",
    "\n",
    "Any LAMMPS-compatible potential in the NIST Interatomic Potentials Repository can be loaded/downloaded using load_lammps_potential().  "
   ]
  },
  {
   "cell_type": "code",
   "execution_count": 2,
   "metadata": {},
   "outputs": [],
   "source": [
    "# Load potential based on its unique ID\n",
    "pot_id = '2015--Pascuet-M-I--Al--LAMMPS--ipr1'\n",
    "potential = am.load_lammps_potential(id=pot_id, getfiles=True)"
   ]
  },
  {
   "cell_type": "markdown",
   "metadata": {},
   "source": [
    "### 2.2. Potential parameter files\n",
    "\n",
    "Setting getfiles=True will copy/download the potential parameter files from the local/remote library database to the current working directory in a subfolder matching the potential's id."
   ]
  },
  {
   "cell_type": "code",
   "execution_count": 3,
   "metadata": {},
   "outputs": [
    {
     "name": "stdout",
     "output_type": "stream",
     "text": [
      "2015--Pascuet-M-I--Al--LAMMPS--ipr1/Al.meam\n",
      "re(1,1) =   2.86378\n",
      "attrac(1,1) = 0.39558\n",
      "repuls(1,1) = 0.09806\n",
      "Cmin(1,1,1) = 1.00769\n",
      "Cmax(1,1,1) = 2.31407\n",
      "#\n",
      "rc = 5.0\n",
      "delr = 0.1\n",
      "augt1 = 1\n",
      "\n",
      "\n",
      "2015--Pascuet-M-I--Al--LAMMPS--ipr1/library-Al.meam\n",
      "# References:\n",
      "# elt        lat     z       ielement     atwt\n",
      "# alpha      b0      b1      b2           b3    alat    esub    asub\n",
      "# t0         t1              t2           t3            rozero  ibar\n",
      "#\n",
      "'Al'        'fcc'   12.     13           26.9815\n",
      "  4.68604   1.56205   5.39270   5.29601  -1.00047   4.05000   3.35999   1.06859\n",
      "1.0  -1.54917  -1.28508  10.01041 1.0 0 \n",
      "\n",
      "\n"
     ]
    }
   ],
   "source": [
    "for fname in Path(pot_id).glob('*'):\n",
    "    print(fname)\n",
    "    with open(fname) as f:\n",
    "        print(f.read())\n",
    "    print()"
   ]
  },
  {
   "cell_type": "markdown",
   "metadata": {},
   "source": [
    "### 2.3. lammps.Potential Class\n",
    "\n",
    "The load_lammps_potential() function returns a Potential object that can be used to explore properties of the potential and generate LAMMPS input commands."
   ]
  },
  {
   "cell_type": "markdown",
   "metadata": {},
   "source": [
    "Basic properties can be directly obtained."
   ]
  },
  {
   "cell_type": "code",
   "execution_count": 4,
   "metadata": {},
   "outputs": [
    {
     "name": "stdout",
     "output_type": "stream",
     "text": [
      "str(potential) ->        potential_LAMMPS record named 2015--Pascuet-M-I--Al--LAMMPS--ipr1\n",
      "potential.units ->       metal\n",
      "potential.atom_style ->  atomic\n",
      "potential.pair_style ->  meam\n",
      "potential.symbols ->     ['Al']\n",
      "potential.elements() ->  ['Al']\n",
      "potential.masses() ->    [26.9815]\n"
     ]
    }
   ],
   "source": [
    "# Show that basic properties can be directly obtained\n",
    "print('str(potential) ->       ', potential)\n",
    "print('potential.units ->      ', potential.units)\n",
    "print('potential.atom_style -> ', potential.atom_style)\n",
    "print('potential.pair_style -> ', potential.pair_style)\n",
    "print('potential.symbols ->    ', potential.symbols)\n",
    "print('potential.elements() -> ', potential.elements())\n",
    "print('potential.masses() ->   ', potential.masses())"
   ]
  },
  {
   "cell_type": "markdown",
   "metadata": {},
   "source": [
    "The LAMMPS command lines for the potential are auto-generated based on a list of symbols corresponding to LAMMPS atom types. This fully works for all LAMMPS pair_styles, with only the hybrid and hybrid/overlay styles having limitations."
   ]
  },
  {
   "cell_type": "code",
   "execution_count": 5,
   "metadata": {},
   "outputs": [
    {
     "name": "stdout",
     "output_type": "stream",
     "text": [
      "potential.pair_info() ->\n",
      "print \"Potential 2015--Pascuet-M-I--Al--LAMMPS--ipr1 listed in the NIST Interatomic Potentials Repository:\"\n",
      "print \"https://www.ctcms.nist.gov/potentials/entry/2015--Pascuet-M-I-Fernandez-J-R--Al/2015--Pascuet-M-I--Al--LAMMPS--ipr1.html\"\n",
      "print \"Publication(s) related to the potential:\"\n",
      "print \"https://doi.org/10.1016/j.jnucmat.2015.09.030\"\n",
      "print \"Parameter file(s) can be downloaded at:\"\n",
      "print \"https://www.ctcms.nist.gov/potentials/Download/2015--Pascuet-M-I-Fernandez-J-R--Al/1/Al.meam\"\n",
      "print \"https://www.ctcms.nist.gov/potentials/Download/2015--Pascuet-M-I-Fernandez-J-R--Al/1/library-Al.meam\"\n",
      "\n",
      "pair_style meam \n",
      "pair_coeff * * 2015--Pascuet-M-I--Al--LAMMPS--ipr1/library-Al.meam Al 2015--Pascuet-M-I--Al--LAMMPS--ipr1/Al.meam Al\n",
      "\n",
      "mass 1 26.9815\n",
      "\n",
      "\n"
     ]
    }
   ],
   "source": [
    "print('potential.pair_info() ->')\n",
    "print(potential.pair_info())"
   ]
  },
  {
   "cell_type": "code",
   "execution_count": 6,
   "metadata": {},
   "outputs": [
    {
     "name": "stdout",
     "output_type": "stream",
     "text": [
      "potential.pair_info(['Al', 'Al', 'Al']) ->\n",
      "print \"Potential 2015--Pascuet-M-I--Al--LAMMPS--ipr1 listed in the NIST Interatomic Potentials Repository:\"\n",
      "print \"https://www.ctcms.nist.gov/potentials/entry/2015--Pascuet-M-I-Fernandez-J-R--Al/2015--Pascuet-M-I--Al--LAMMPS--ipr1.html\"\n",
      "print \"Publication(s) related to the potential:\"\n",
      "print \"https://doi.org/10.1016/j.jnucmat.2015.09.030\"\n",
      "print \"Parameter file(s) can be downloaded at:\"\n",
      "print \"https://www.ctcms.nist.gov/potentials/Download/2015--Pascuet-M-I-Fernandez-J-R--Al/1/Al.meam\"\n",
      "print \"https://www.ctcms.nist.gov/potentials/Download/2015--Pascuet-M-I-Fernandez-J-R--Al/1/library-Al.meam\"\n",
      "\n",
      "pair_style meam \n",
      "pair_coeff * * 2015--Pascuet-M-I--Al--LAMMPS--ipr1/library-Al.meam Al 2015--Pascuet-M-I--Al--LAMMPS--ipr1/Al.meam Al Al Al\n",
      "\n",
      "mass 1 26.9815\n",
      "mass 2 26.9815\n",
      "mass 3 26.9815\n",
      "\n",
      "\n"
     ]
    }
   ],
   "source": [
    "print(\"potential.pair_info(['Al', 'Al', 'Al']) ->\")\n",
    "print(potential.pair_info(['Al', 'Al', 'Al']))"
   ]
  },
  {
   "cell_type": "markdown",
   "metadata": {},
   "source": [
    "## 3. Generate initial system<a id='section3'></a>"
   ]
  },
  {
   "cell_type": "markdown",
   "metadata": {},
   "source": [
    "### 3.1. Load relaxed crystal \n",
    "\n",
    "A crystalline system can be easily generated using a unit cell system either defined in atomman, imported from another format, or accessed from the potentials database.  For simplicity, here we will get the relaxed fcc structure for the potential."
   ]
  },
  {
   "cell_type": "markdown",
   "metadata": {},
   "source": [
    "Load fcc prototype with Al lattice constant"
   ]
  },
  {
   "cell_type": "code",
   "execution_count": 7,
   "metadata": {},
   "outputs": [
    {
     "name": "stdout",
     "output_type": "stream",
     "text": [
      "avect =  [ 4.050,  0.000,  0.000]\n",
      "bvect =  [ 0.000,  4.050,  0.000]\n",
      "cvect =  [ 0.000,  0.000,  4.050]\n",
      "origin = [ 0.000,  0.000,  0.000]\n",
      "natoms = 4\n",
      "natypes = 1\n",
      "symbols = ('Al',)\n",
      "pbc = [ True  True  True]\n",
      "per-atom properties = ['atype', 'pos']\n",
      "     id |   atype |  pos[0] |  pos[1] |  pos[2]\n",
      "      0 |       1 |   0.000 |   0.000 |   0.000\n",
      "      1 |       1 |   0.000 |   2.025 |   2.025\n",
      "      2 |       1 |   2.025 |   0.000 |   2.025\n",
      "      3 |       1 |   2.025 |   2.025 |   0.000\n"
     ]
    }
   ],
   "source": [
    "system = am.load('crystal', family='A1--Cu--fcc', potential=potential)\n",
    "print(system)"
   ]
  },
  {
   "cell_type": "markdown",
   "metadata": {},
   "source": [
    "### 3.2. Manipulate system\n",
    "\n",
    "More complicated atomic configurations can then be generated by manipulating the seed system and the atoms contained within. Here, we'll limit the manipulations to making the system a 3x3x3 supercell of itself."
   ]
  },
  {
   "cell_type": "code",
   "execution_count": 8,
   "metadata": {},
   "outputs": [
    {
     "name": "stdout",
     "output_type": "stream",
     "text": [
      "Supercell has 108 atoms\n"
     ]
    }
   ],
   "source": [
    "system = system.supersize(3,3,3)\n",
    "print('Supercell has', system.natoms, 'atoms')"
   ]
  },
  {
   "cell_type": "markdown",
   "metadata": {},
   "source": [
    "### 3.3. Save to atom data file\n",
    "\n",
    "System.dump('atom_data') outputs the system to a LAMMPS atom data file. Quick notes on the parameters used here\n",
    "\n",
    "- Giving potential allows for the appropriate units and atom_style settings to be used.\n",
    "- The float_format value used here is a small precision to enhance clarity of print statements below. Typically, the precision should be large (default value is '%.13f').\n",
    "- Setting return_pair_info=True will return the LAMMPS commands for both the system and the potential together.  This is the preferred method as it ensures compatibility with all potential pair styles currently in the database."
   ]
  },
  {
   "cell_type": "code",
   "execution_count": 9,
   "metadata": {},
   "outputs": [],
   "source": [
    "# Save System to 'atom.dat' atom data file \n",
    "system_pair_info = system.dump('atom_data', f='atom.dat',\n",
    "                          potential=potential,\n",
    "                          float_format='%.4f',    # Remove or make larger precision for real runs!\n",
    "                          )"
   ]
  },
  {
   "cell_type": "markdown",
   "metadata": {},
   "source": [
    "Show the returned LAMMPS command lines"
   ]
  },
  {
   "cell_type": "code",
   "execution_count": 10,
   "metadata": {},
   "outputs": [
    {
     "name": "stdout",
     "output_type": "stream",
     "text": [
      "units metal\n",
      "atom_style atomic\n",
      "\n",
      "boundary p p p\n",
      "read_data atom.dat\n",
      "\n",
      "print \"Potential 2015--Pascuet-M-I--Al--LAMMPS--ipr1 listed in the NIST Interatomic Potentials Repository:\"\n",
      "print \"https://www.ctcms.nist.gov/potentials/entry/2015--Pascuet-M-I-Fernandez-J-R--Al/2015--Pascuet-M-I--Al--LAMMPS--ipr1.html\"\n",
      "print \"Publication(s) related to the potential:\"\n",
      "print \"https://doi.org/10.1016/j.jnucmat.2015.09.030\"\n",
      "print \"Parameter file(s) can be downloaded at:\"\n",
      "print \"https://www.ctcms.nist.gov/potentials/Download/2015--Pascuet-M-I-Fernandez-J-R--Al/1/Al.meam\"\n",
      "print \"https://www.ctcms.nist.gov/potentials/Download/2015--Pascuet-M-I-Fernandez-J-R--Al/1/library-Al.meam\"\n",
      "\n",
      "pair_style meam \n",
      "pair_coeff * * 2015--Pascuet-M-I--Al--LAMMPS--ipr1/library-Al.meam Al 2015--Pascuet-M-I--Al--LAMMPS--ipr1/Al.meam Al\n",
      "\n",
      "mass 1 26.9815\n",
      "\n",
      "\n"
     ]
    }
   ],
   "source": [
    "print(system_pair_info)"
   ]
  },
  {
   "cell_type": "markdown",
   "metadata": {},
   "source": [
    "Show the contents of the data file"
   ]
  },
  {
   "cell_type": "code",
   "execution_count": 11,
   "metadata": {},
   "outputs": [
    {
     "name": "stdout",
     "output_type": "stream",
     "text": [
      "\n",
      "108 atoms\n",
      "1 atom types\n",
      "0.0000 12.1500 xlo xhi\n",
      "0.0000 12.1500 ylo yhi\n",
      "0.0000 12.1500 zlo zhi\n",
      "\n",
      "Atoms # atomic\n",
      "\n",
      "1 1 0.0000 0.0000 0.0000\n",
      "2 1 0.0000 2.0250 2.0250\n",
      "3 1 2.0250 0.0000 2.0250\n",
      "4 1 2.0250 2.0250 0.0000\n",
      "5 1 4.0500 0.0000 0.0000\n",
      "6 1 4.0500 2.0250 2.0250\n",
      "7 1 6.0750 0.0000 2.0250\n",
      "8 1 6.0750 2.0250 0.0000\n",
      "9 1 8.1000 0.0000 0.0000\n",
      "10 1 8.1000 2.0250 2.0250\n",
      "11 1 10.1250 0.0000 2.0250\n",
      "12 1 10.1250 2.0250 0.0000\n",
      "13 1 0.0000 4.0500 0.0000\n",
      "14 1 0.0000 6.0750 2.0250\n",
      "15 1 2.0250 4.0500 2.0250\n",
      "16 1 2.0250 6.0750 0.0000\n",
      "17 1 4.0500 4.0500 0.0000\n",
      "18 1 4.0500 6.0750 2.0250\n",
      "19 1 6.0750 4.0500 2.0250\n",
      "20 1 6.0750 6.0750 0.0000\n",
      "21 1 8.1000 4.0500 0.0000\n",
      "22 1 8.1000 6.0750 2.0250\n",
      "23 1 10.1250 4.0500 2.0250\n",
      "24 1 10.1250 6.0750 0.0000\n",
      "25 1 0.0000 8.1000 0.0000\n",
      "26 1 0.0000 10.1250 2.0250\n",
      "27 1 2.0250 8.1000 2.0250\n",
      "28 1 2.0250 10.1250 0.0000\n",
      "29 1 4.0500 8.1000 0.0000\n",
      "30 1 4.0500 10.1250 2.0250\n",
      "31 1 6.0750 8.1000 2.0250\n",
      "32 1 6.0750 10.1250 0.0000\n",
      "33 1 8.1000 8.1000 0.0000\n",
      "34 1 8.1000 10.1250 2.0250\n",
      "35 1 10.1250 8.1000 2.0250\n",
      "36 1 10.1250 10.1250 0.0000\n",
      "37 1 0.0000 0.0000 4.0500\n",
      "38 1 0.0000 2.0250 6.0750\n",
      "39 1 2.0250 0.0000 6.0750\n",
      "40 1 2.0250 2.0250 4.0500\n",
      "41 1 4.0500 0.0000 4.0500\n",
      "42 1 4.0500 2.0250 6.0750\n",
      "43 1 6.0750 0.0000 6.0750\n",
      "44 1 6.0750 2.0250 4.0500\n",
      "45 1 8.1000 0.0000 4.0500\n",
      "46 1 8.1000 2.0250 6.0750\n",
      "47 1 10.1250 0.0000 6.0750\n",
      "48 1 10.1250 2.0250 4.0500\n",
      "49 1 0.0000 4.0500 4.0500\n",
      "50 1 0.0000 6.0750 6.0750\n",
      "51 1 2.0250 4.0500 6.0750\n",
      "52 1 2.0250 6.0750 4.0500\n",
      "53 1 4.0500 4.0500 4.0500\n",
      "54 1 4.0500 6.0750 6.0750\n",
      "55 1 6.0750 4.0500 6.0750\n",
      "56 1 6.0750 6.0750 4.0500\n",
      "57 1 8.1000 4.0500 4.0500\n",
      "58 1 8.1000 6.0750 6.0750\n",
      "59 1 10.1250 4.0500 6.0750\n",
      "60 1 10.1250 6.0750 4.0500\n",
      "61 1 0.0000 8.1000 4.0500\n",
      "62 1 0.0000 10.1250 6.0750\n",
      "63 1 2.0250 8.1000 6.0750\n",
      "64 1 2.0250 10.1250 4.0500\n",
      "65 1 4.0500 8.1000 4.0500\n",
      "66 1 4.0500 10.1250 6.0750\n",
      "67 1 6.0750 8.1000 6.0750\n",
      "68 1 6.0750 10.1250 4.0500\n",
      "69 1 8.1000 8.1000 4.0500\n",
      "70 1 8.1000 10.1250 6.0750\n",
      "71 1 10.1250 8.1000 6.0750\n",
      "72 1 10.1250 10.1250 4.0500\n",
      "73 1 0.0000 0.0000 8.1000\n",
      "74 1 0.0000 2.0250 10.1250\n",
      "75 1 2.0250 0.0000 10.1250\n",
      "76 1 2.0250 2.0250 8.1000\n",
      "77 1 4.0500 0.0000 8.1000\n",
      "78 1 4.0500 2.0250 10.1250\n",
      "79 1 6.0750 0.0000 10.1250\n",
      "80 1 6.0750 2.0250 8.1000\n",
      "81 1 8.1000 0.0000 8.1000\n",
      "82 1 8.1000 2.0250 10.1250\n",
      "83 1 10.1250 0.0000 10.1250\n",
      "84 1 10.1250 2.0250 8.1000\n",
      "85 1 0.0000 4.0500 8.1000\n",
      "86 1 0.0000 6.0750 10.1250\n",
      "87 1 2.0250 4.0500 10.1250\n",
      "88 1 2.0250 6.0750 8.1000\n",
      "89 1 4.0500 4.0500 8.1000\n",
      "90 1 4.0500 6.0750 10.1250\n",
      "91 1 6.0750 4.0500 10.1250\n",
      "92 1 6.0750 6.0750 8.1000\n",
      "93 1 8.1000 4.0500 8.1000\n",
      "94 1 8.1000 6.0750 10.1250\n",
      "95 1 10.1250 4.0500 10.1250\n",
      "96 1 10.1250 6.0750 8.1000\n",
      "97 1 0.0000 8.1000 8.1000\n",
      "98 1 0.0000 10.1250 10.1250\n",
      "99 1 2.0250 8.1000 10.1250\n",
      "100 1 2.0250 10.1250 8.1000\n",
      "101 1 4.0500 8.1000 8.1000\n",
      "102 1 4.0500 10.1250 10.1250\n",
      "103 1 6.0750 8.1000 10.1250\n",
      "104 1 6.0750 10.1250 8.1000\n",
      "105 1 8.1000 8.1000 8.1000\n",
      "106 1 8.1000 10.1250 10.1250\n",
      "107 1 10.1250 8.1000 10.1250\n",
      "108 1 10.1250 10.1250 8.1000\n",
      "\n"
     ]
    }
   ],
   "source": [
    "with open('atom.dat') as f:\n",
    "    print(f.read())"
   ]
  },
  {
   "cell_type": "markdown",
   "metadata": {},
   "source": [
    "## 4. Converting to/from LAMMPS units<a id='section4'></a>\n",
    "\n",
    "LAMMPS performs its calculations with values in one of multiple sets of pre-defined units.  The atomman.lammps.style submodule has some useful functions when working with different units options.\n",
    "\n",
    "**atomman.lammps.style.timestep()**\n",
    "\n",
    "The lammps.style.timestep() function returns the default timestep value for a given LAMMPS units option.\n",
    "\n",
    "Parameters\n",
    "\n",
    "- **units** (*str*) the LAMMPS units option being used.\n",
    "\n",
    "**atomman.lammps.style.unit()**\n",
    "\n",
    "The lammps.style.unit() function returns a dictionary giving the units associated with physical quantities as used by LAMMPS with a given units option.\n",
    "\n",
    "Parameters\n",
    "\n",
    "- **units** (*str*) the LAMMPS units option being used."
   ]
  },
  {
   "cell_type": "code",
   "execution_count": 12,
   "metadata": {},
   "outputs": [
    {
     "name": "stdout",
     "output_type": "stream",
     "text": [
      "0.001\n"
     ]
    }
   ],
   "source": [
    "timestep = lmp.style.timestep(potential.units)\n",
    "print(timestep)"
   ]
  },
  {
   "cell_type": "code",
   "execution_count": 13,
   "metadata": {},
   "outputs": [
    {
     "name": "stdout",
     "output_type": "stream",
     "text": [
      "OrderedDict([('mass', 'g/mol'), ('length', 'angstrom'), ('time', 'ps'), ('energy', 'eV'), ('velocity', 'angstrom/ps'), ('force', 'eV/angstrom'), ('torque', 'eV'), ('temperature', 'K'), ('pressure', 'bar'), ('dynamic viscosity', 'Pa*s/10'), ('charge', 'e'), ('dipole', 'e*angstrom'), ('electric field', 'V/angstrom'), ('density', 'g/cm^3'), ('ang-mom', 'angstrom*angstrom/ps*g/mol'), ('ang-vel', '1/ps')])\n"
     ]
    }
   ],
   "source": [
    "lammps_unit = lmp.style.unit(potential.units)\n",
    "print(lammps_unit)"
   ]
  },
  {
   "cell_type": "markdown",
   "metadata": {},
   "source": [
    "## 5. Composing LAMMPS Input Scripts<a id='section5'></a>\n",
    "\n",
    "LAMMPS scripts can easily be constructed by combining the system_info generated from System.dump('atom_data'), the pair_info from Potential.pair_info(), and any user-defined input lines.  This allows for specific simulation actions to easily be perfored across different potentials or initial configurations."
   ]
  },
  {
   "cell_type": "markdown",
   "metadata": {},
   "source": [
    "### 5.1. Show content generated in previous sections"
   ]
  },
  {
   "cell_type": "markdown",
   "metadata": {},
   "source": [
    "Show system_pair_info generated in Section 3.3."
   ]
  },
  {
   "cell_type": "code",
   "execution_count": 14,
   "metadata": {},
   "outputs": [
    {
     "name": "stdout",
     "output_type": "stream",
     "text": [
      "units metal\n",
      "atom_style atomic\n",
      "\n",
      "boundary p p p\n",
      "read_data atom.dat\n",
      "\n",
      "print \"Potential 2015--Pascuet-M-I--Al--LAMMPS--ipr1 listed in the NIST Interatomic Potentials Repository:\"\n",
      "print \"https://www.ctcms.nist.gov/potentials/entry/2015--Pascuet-M-I-Fernandez-J-R--Al/2015--Pascuet-M-I--Al--LAMMPS--ipr1.html\"\n",
      "print \"Publication(s) related to the potential:\"\n",
      "print \"https://doi.org/10.1016/j.jnucmat.2015.09.030\"\n",
      "print \"Parameter file(s) can be downloaded at:\"\n",
      "print \"https://www.ctcms.nist.gov/potentials/Download/2015--Pascuet-M-I-Fernandez-J-R--Al/1/Al.meam\"\n",
      "print \"https://www.ctcms.nist.gov/potentials/Download/2015--Pascuet-M-I-Fernandez-J-R--Al/1/library-Al.meam\"\n",
      "\n",
      "pair_style meam \n",
      "pair_coeff * * 2015--Pascuet-M-I--Al--LAMMPS--ipr1/library-Al.meam Al 2015--Pascuet-M-I--Al--LAMMPS--ipr1/Al.meam Al\n",
      "\n",
      "mass 1 26.9815\n",
      "\n",
      "\n"
     ]
    }
   ],
   "source": [
    "print(system_pair_info)"
   ]
  },
  {
   "cell_type": "markdown",
   "metadata": {},
   "source": [
    "### 5.2. Write LAMMPS input script template\n",
    "\n",
    "LAMMPS scripts can be dynamically generated using Python functions or templates that take the above info lines and other values as parameters. Here, we demonstrate a LAMMPS input template script where all fields to be filled in in Python are delimited with <> brackets."
   ]
  },
  {
   "cell_type": "code",
   "execution_count": 15,
   "metadata": {},
   "outputs": [],
   "source": [
    "template = \"\"\"\n",
    "<system_pair_info>\n",
    "\n",
    "# Define temperature and dependent variables\n",
    "variable T equal <temperature>\n",
    "variable twoT equal 2*$T\n",
    "\n",
    "# Define equilibrium pressure\n",
    "variable P equal <pressure>\n",
    "\n",
    "# Define timestep and dependent variables\n",
    "variable deltat equal <timestep>\n",
    "variable Trelax equal 100*${deltat}\n",
    "variable Prelax equal 1000*${deltat}\n",
    "\n",
    "# Initialize atomic velocities with twoT\n",
    "velocity all create ${twoT} 124352\n",
    "\n",
    "# Define thermo steps and properties\n",
    "thermo 100\n",
    "thermo_style custom step temp press lx ly lz\n",
    "\n",
    "# Define dump \n",
    "dump mydump all atom 100000 *.dump\n",
    "\n",
    "# Specify timestep\n",
    "timestep ${deltat}\n",
    "\n",
    "# Apply npt conditions\n",
    "fix 1 all npt temp $T $T ${Trelax} iso $P $P ${Prelax}\n",
    "\n",
    "# Run simulation\n",
    "run 100000\n",
    "\"\"\"           "
   ]
  },
  {
   "cell_type": "markdown",
   "metadata": {},
   "source": [
    "### 5.3. Fill in the template with atomman.tools.filltemplate()\n",
    "\n",
    "The template can then be easily filled in with the atomman.tools.filltemplate() function. \n",
    "\n",
    "Parameters\n",
    "\n",
    "- **template** (*str or file-like object*) is the template to fill in.\n",
    "\n",
    "- **variable** (*dict*) gives the delimited keys and corresponding values to insert into the template.\n",
    "\n",
    "- **s_delimiter** (*str*) the starting delimiter for identifying variable names.\n",
    "\n",
    "- **e_delimiter** (*str*) the ending delimiter for identifying variable names."
   ]
  },
  {
   "cell_type": "markdown",
   "metadata": {},
   "source": [
    "Build dictionary of template variables"
   ]
  },
  {
   "cell_type": "code",
   "execution_count": 16,
   "metadata": {},
   "outputs": [
    {
     "name": "stdout",
     "output_type": "stream",
     "text": [
      "{'system_pair_info': 'units metal\\natom_style atomic\\n\\nboundary p p p\\nread_data atom.dat\\n\\nprint \"Potential 2015--Pascuet-M-I--Al--LAMMPS--ipr1 listed in the NIST Interatomic Potentials Repository:\"\\nprint \"https://www.ctcms.nist.gov/potentials/entry/2015--Pascuet-M-I-Fernandez-J-R--Al/2015--Pascuet-M-I--Al--LAMMPS--ipr1.html\"\\nprint \"Publication(s) related to the potential:\"\\nprint \"https://doi.org/10.1016/j.jnucmat.2015.09.030\"\\nprint \"Parameter file(s) can be downloaded at:\"\\nprint \"https://www.ctcms.nist.gov/potentials/Download/2015--Pascuet-M-I-Fernandez-J-R--Al/1/Al.meam\"\\nprint \"https://www.ctcms.nist.gov/potentials/Download/2015--Pascuet-M-I-Fernandez-J-R--Al/1/library-Al.meam\"\\n\\npair_style meam \\npair_coeff * * 2015--Pascuet-M-I--Al--LAMMPS--ipr1/library-Al.meam Al 2015--Pascuet-M-I--Al--LAMMPS--ipr1/Al.meam Al\\n\\nmass 1 26.9815\\n\\n', 'timestep': 0.001, 'temperature': 100, 'pressure': 0.0}\n"
     ]
    }
   ],
   "source": [
    "lammps_variable = {}\n",
    "\n",
    "# Generated above\n",
    "lammps_variable['system_pair_info'] = system_pair_info\n",
    "\n",
    "# Set timestep to default value for LAMMPS units\n",
    "lammps_variable['timestep'] = lmp.style.timestep(units=potential.units)\n",
    "\n",
    "# Specify temperature to equilibriate at (always in Kelvin)\n",
    "lammps_variable['temperature'] = 100\n",
    "\n",
    "# Specify pressure to equilibriate at\n",
    "pressure = uc.set_in_units(0.0, 'MPa')\n",
    "lammps_variable['pressure'] = uc.get_in_units(pressure, lammps_unit['pressure'])\n",
    "\n",
    "print(lammps_variable)"
   ]
  },
  {
   "cell_type": "markdown",
   "metadata": {},
   "source": [
    "Fill in template"
   ]
  },
  {
   "cell_type": "code",
   "execution_count": 17,
   "metadata": {},
   "outputs": [
    {
     "name": "stdout",
     "output_type": "stream",
     "text": [
      "\n",
      "units metal\n",
      "atom_style atomic\n",
      "\n",
      "boundary p p p\n",
      "read_data atom.dat\n",
      "\n",
      "print \"Potential 2015--Pascuet-M-I--Al--LAMMPS--ipr1 listed in the NIST Interatomic Potentials Repository:\"\n",
      "print \"https://www.ctcms.nist.gov/potentials/entry/2015--Pascuet-M-I-Fernandez-J-R--Al/2015--Pascuet-M-I--Al--LAMMPS--ipr1.html\"\n",
      "print \"Publication(s) related to the potential:\"\n",
      "print \"https://doi.org/10.1016/j.jnucmat.2015.09.030\"\n",
      "print \"Parameter file(s) can be downloaded at:\"\n",
      "print \"https://www.ctcms.nist.gov/potentials/Download/2015--Pascuet-M-I-Fernandez-J-R--Al/1/Al.meam\"\n",
      "print \"https://www.ctcms.nist.gov/potentials/Download/2015--Pascuet-M-I-Fernandez-J-R--Al/1/library-Al.meam\"\n",
      "\n",
      "pair_style meam \n",
      "pair_coeff * * 2015--Pascuet-M-I--Al--LAMMPS--ipr1/library-Al.meam Al 2015--Pascuet-M-I--Al--LAMMPS--ipr1/Al.meam Al\n",
      "\n",
      "mass 1 26.9815\n",
      "\n",
      "\n",
      "\n",
      "# Define temperature and dependent variables\n",
      "variable T equal 100\n",
      "variable twoT equal 2*$T\n",
      "\n",
      "# Define equilibrium pressure\n",
      "variable P equal 0.0\n",
      "\n",
      "# Define timestep and dependent variables\n",
      "variable deltat equal 0.001\n",
      "variable Trelax equal 100*${deltat}\n",
      "variable Prelax equal 1000*${deltat}\n",
      "\n",
      "# Initialize atomic velocities with twoT\n",
      "velocity all create ${twoT} 124352\n",
      "\n",
      "# Define thermo steps and properties\n",
      "thermo 100\n",
      "thermo_style custom step temp press lx ly lz\n",
      "\n",
      "# Define dump \n",
      "dump mydump all atom 100000 *.dump\n",
      "\n",
      "# Specify timestep\n",
      "timestep ${deltat}\n",
      "\n",
      "# Apply npt conditions\n",
      "fix 1 all npt temp $T $T ${Trelax} iso $P $P ${Prelax}\n",
      "\n",
      "# Run simulation\n",
      "run 100000\n",
      "\n"
     ]
    }
   ],
   "source": [
    "# Generate script from template and lammps_variable\n",
    "script = am.tools.filltemplate(template, lammps_variable, '<', '>')\n",
    "\n",
    "# Save script to 'nvt.in'\n",
    "with open('nvt.in', 'w') as f:\n",
    "    f.write(script)\n",
    "\n",
    "# Show contents of 'nvt.in'    \n",
    "with open('nvt.in') as f:\n",
    "    print(f.read())"
   ]
  },
  {
   "cell_type": "markdown",
   "metadata": {},
   "source": [
    "## 6. Run LAMMPS<a id='section6'></a>\n",
    "\n",
    "The LAMMPS simulation can be ran from within Python using the run() function."
   ]
  },
  {
   "cell_type": "markdown",
   "metadata": {},
   "source": [
    "Specify your lammps executable"
   ]
  },
  {
   "cell_type": "code",
   "execution_count": 18,
   "metadata": {},
   "outputs": [],
   "source": [
    "lammps_exe = '/home/lmh1/LAMMPS/2022-06-23/src/lmp_mpi'"
   ]
  },
  {
   "cell_type": "markdown",
   "metadata": {},
   "source": [
    "Run the simulation "
   ]
  },
  {
   "cell_type": "code",
   "execution_count": 19,
   "metadata": {},
   "outputs": [],
   "source": [
    "output = lmp.run(lammps_exe, 'nvt.in')"
   ]
  },
  {
   "cell_type": "markdown",
   "metadata": {},
   "source": [
    "The resulting simulation data is returned as a Log object, which containes the thermo data from the log.lammps files. "
   ]
  },
  {
   "cell_type": "markdown",
   "metadata": {},
   "source": [
    "## 7. Analyzing Thermo Results<a id='section7'></a>\n",
    "\n",
    "Data for each simulation run/minimization is stored in the returned Log object.  Each Simulation has a thermo property that is a pandas.DataFrame of the LAMMPS thermo data.\n",
    "\n",
    "*Updated version 1.3.7*: Each simulation is now represented using a Simulation class rather than a dictionary."
   ]
  },
  {
   "cell_type": "markdown",
   "metadata": {},
   "source": [
    "Show thermo data column names for the first (and only) simulation run."
   ]
  },
  {
   "cell_type": "code",
   "execution_count": 20,
   "metadata": {},
   "outputs": [
    {
     "name": "stdout",
     "output_type": "stream",
     "text": [
      "['Step', 'Temp', 'Press', 'Lx', 'Ly', 'Lz']\n"
     ]
    }
   ],
   "source": [
    "print(list(output.simulations[0].thermo.keys()))"
   ]
  },
  {
   "cell_type": "markdown",
   "metadata": {},
   "source": [
    "For backwards compatibility, the thermo can also be accessed as if the simulation was still a dictionary."
   ]
  },
  {
   "cell_type": "code",
   "execution_count": 21,
   "metadata": {},
   "outputs": [
    {
     "name": "stdout",
     "output_type": "stream",
     "text": [
      "['Step', 'Temp', 'Press', 'Lx', 'Ly', 'Lz']\n"
     ]
    }
   ],
   "source": [
    "print(list(output.simulations[0]['thermo'].keys()))"
   ]
  },
  {
   "cell_type": "markdown",
   "metadata": {},
   "source": [
    "Plot temperature vs. run step"
   ]
  },
  {
   "cell_type": "code",
   "execution_count": 22,
   "metadata": {},
   "outputs": [
    {
     "data": {
      "image/png": "[encoded data removed]",
      "text/plain": [
       "<Figure size 640x480 with 1 Axes>"
      ]
     },
     "metadata": {},
     "output_type": "display_data"
    }
   ],
   "source": [
    "# Pull out data\n",
    "steps = output.simulations[0].thermo.Step\n",
    "temps = output.simulations[0].thermo.Temp\n",
    "\n",
    "# Plot\n",
    "plt.plot(steps, temps)\n",
    "plt.xlabel('Step')\n",
    "plt.ylabel('Temperature (K)')\n",
    "plt.show()"
   ]
  },
  {
   "cell_type": "markdown",
   "metadata": {},
   "source": [
    "Plot pressure vs. run step (note unit conversions)"
   ]
  },
  {
   "cell_type": "code",
   "execution_count": 23,
   "metadata": {},
   "outputs": [
    {
     "data": {
      "image/png": "[encoded data removed]",
      "text/plain": [
       "<Figure size 640x480 with 1 Axes>"
      ]
     },
     "metadata": {},
     "output_type": "display_data"
    }
   ],
   "source": [
    "# Convert steps to time in atomman working units\n",
    "steps = output.simulations[0].thermo.Step\n",
    "time = uc.set_in_units(timestep, lammps_unit['time']) * steps\n",
    "\n",
    "# Convert press to atomman working units\n",
    "press = uc.set_in_units(output.simulations[0].thermo.Press, lammps_unit['pressure'])\n",
    "\n",
    "# Plot in ps and GPa\n",
    "plt.plot(uc.get_in_units(steps, 'ps'), uc.get_in_units(press, 'GPa'))\n",
    "plt.xlabel('Time (ps)')\n",
    "plt.ylabel('Pressure (GPa)')\n",
    "plt.show()"
   ]
  },
  {
   "cell_type": "markdown",
   "metadata": {},
   "source": [
    "## 8 Reading in dump files <a id='section8'></a>\n",
    "\n",
    "Finally, any dump files generated by the LAMMPS simulation can be loaded into atomman as Systems.  "
   ]
  },
  {
   "cell_type": "code",
   "execution_count": 24,
   "metadata": {},
   "outputs": [
    {
     "name": "stdout",
     "output_type": "stream",
     "text": [
      "avect =  [12.184,  0.000,  0.000]\n",
      "bvect =  [ 0.000, 12.184,  0.000]\n",
      "cvect =  [ 0.000,  0.000, 12.184]\n",
      "origin = [-0.017, -0.017, -0.017]\n"
     ]
    },
    {
     "data": {
      "text/html": [
       "<div>\n",
       "<style scoped>\n",
       "    .dataframe tbody tr th:only-of-type {\n",
       "        vertical-align: middle;\n",
       "    }\n",
       "\n",
       "    .dataframe tbody tr th {\n",
       "        vertical-align: top;\n",
       "    }\n",
       "\n",
       "    .dataframe thead th {\n",
       "        text-align: right;\n",
       "    }\n",
       "</style>\n",
       "<table border=\"1\" class=\"dataframe\">\n",
       "  <thead>\n",
       "    <tr style=\"text-align: right;\">\n",
       "      <th></th>\n",
       "      <th>atype</th>\n",
       "      <th>pos[0]</th>\n",
       "      <th>pos[1]</th>\n",
       "      <th>pos[2]</th>\n",
       "      <th>atom_id</th>\n",
       "    </tr>\n",
       "  </thead>\n",
       "  <tbody>\n",
       "    <tr>\n",
       "      <th>0</th>\n",
       "      <td>1</td>\n",
       "      <td>-0.065207</td>\n",
       "      <td>0.005483</td>\n",
       "      <td>-0.067225</td>\n",
       "      <td>1</td>\n",
       "    </tr>\n",
       "    <tr>\n",
       "      <th>1</th>\n",
       "      <td>1</td>\n",
       "      <td>0.015215</td>\n",
       "      <td>1.971269</td>\n",
       "      <td>2.016629</td>\n",
       "      <td>2</td>\n",
       "    </tr>\n",
       "    <tr>\n",
       "      <th>2</th>\n",
       "      <td>1</td>\n",
       "      <td>1.960085</td>\n",
       "      <td>-0.049912</td>\n",
       "      <td>1.947913</td>\n",
       "      <td>3</td>\n",
       "    </tr>\n",
       "    <tr>\n",
       "      <th>3</th>\n",
       "      <td>1</td>\n",
       "      <td>2.036744</td>\n",
       "      <td>2.018590</td>\n",
       "      <td>0.026100</td>\n",
       "      <td>4</td>\n",
       "    </tr>\n",
       "    <tr>\n",
       "      <th>4</th>\n",
       "      <td>1</td>\n",
       "      <td>4.021746</td>\n",
       "      <td>-0.062975</td>\n",
       "      <td>0.013582</td>\n",
       "      <td>5</td>\n",
       "    </tr>\n",
       "    <tr>\n",
       "      <th>...</th>\n",
       "      <td>...</td>\n",
       "      <td>...</td>\n",
       "      <td>...</td>\n",
       "      <td>...</td>\n",
       "      <td>...</td>\n",
       "    </tr>\n",
       "    <tr>\n",
       "      <th>103</th>\n",
       "      <td>1</td>\n",
       "      <td>6.007576</td>\n",
       "      <td>10.140925</td>\n",
       "      <td>8.201928</td>\n",
       "      <td>104</td>\n",
       "    </tr>\n",
       "    <tr>\n",
       "      <th>104</th>\n",
       "      <td>1</td>\n",
       "      <td>8.188295</td>\n",
       "      <td>8.184810</td>\n",
       "      <td>8.220727</td>\n",
       "      <td>105</td>\n",
       "    </tr>\n",
       "    <tr>\n",
       "      <th>105</th>\n",
       "      <td>1</td>\n",
       "      <td>8.018944</td>\n",
       "      <td>10.181569</td>\n",
       "      <td>10.211785</td>\n",
       "      <td>106</td>\n",
       "    </tr>\n",
       "    <tr>\n",
       "      <th>106</th>\n",
       "      <td>1</td>\n",
       "      <td>10.180948</td>\n",
       "      <td>8.081238</td>\n",
       "      <td>10.182349</td>\n",
       "      <td>107</td>\n",
       "    </tr>\n",
       "    <tr>\n",
       "      <th>107</th>\n",
       "      <td>1</td>\n",
       "      <td>10.151513</td>\n",
       "      <td>10.160260</td>\n",
       "      <td>8.191060</td>\n",
       "      <td>108</td>\n",
       "    </tr>\n",
       "  </tbody>\n",
       "</table>\n",
       "<p>108 rows × 5 columns</p>\n",
       "</div>"
      ],
      "text/plain": [
       "     atype     pos[0]     pos[1]     pos[2]  atom_id\n",
       "0        1  -0.065207   0.005483  -0.067225        1\n",
       "1        1   0.015215   1.971269   2.016629        2\n",
       "2        1   1.960085  -0.049912   1.947913        3\n",
       "3        1   2.036744   2.018590   0.026100        4\n",
       "4        1   4.021746  -0.062975   0.013582        5\n",
       "..     ...        ...        ...        ...      ...\n",
       "103      1   6.007576  10.140925   8.201928      104\n",
       "104      1   8.188295   8.184810   8.220727      105\n",
       "105      1   8.018944  10.181569  10.211785      106\n",
       "106      1  10.180948   8.081238  10.182349      107\n",
       "107      1  10.151513  10.160260   8.191060      108\n",
       "\n",
       "[108 rows x 5 columns]"
      ]
     },
     "execution_count": 24,
     "metadata": {},
     "output_type": "execute_result"
    }
   ],
   "source": [
    "system = am.load('atom_dump', '100000.dump', symbols='Al')\n",
    "print(system.box)\n",
    "system.atoms_df()"
   ]
  },
  {
   "cell_type": "code",
   "execution_count": 25,
   "metadata": {},
   "outputs": [
    {
     "data": {
      "application/3dmoljs_load.v0": "<div id=\"3dmolviewer_17404142190350213\"  style=\"position: relative; width: 800px; height: 800px;\">\n        <p id=\"3dmolwarning_17404142190350213\" style=\"background-color:#ffcccc;color:black\">3Dmol.js failed to load for some reason.  Please check your browser console for error messages.<br></p>\n        </div>\n<script>\n\nvar loadScriptAsync = function(uri){\n  return new Promise((resolve, reject) => {\n    //this is to ignore the existence of requirejs amd\n    var savedexports, savedmodule;\n    if (typeof exports !== 'undefined') savedexports = exports;\n    else exports = {}\n    if (typeof module !== 'undefined') savedmodule = module;\n    else module = {}\n\n    var tag = document.createElement('script');\n    tag.src = uri;\n    tag.async = true;\n    tag.onload = () => {\n        exports = savedexports;\n        module = savedmodule;\n        resolve();\n    };\n  var firstScriptTag = document.getElementsByTagName('script')[0];\n  firstScriptTag.parentNode.insertBefore(tag, firstScriptTag);\n});\n};\n\nif(typeof $3Dmolpromise === 'undefined') {\n$3Dmolpromise = null;\n  $3Dmolpromise = loadScriptAsync('https://cdnjs.cloudflare.com/ajax/libs/3Dmol/2.4.2/3Dmol-min.js');\n}\n\nvar viewer_17404142190350213 = null;\nvar warn = document.getElementById(\"3dmolwarning_17404142190350213\");\nif(warn) {\n    warn.parentNode.removeChild(warn);\n}\n$3Dmolpromise.then(function() {\nviewer_17404142190350213 = $3Dmol.createViewer(document.getElementById(\"3dmolviewer_17404142190350213\"),{backgroundColor:\"white\"});\nviewer_17404142190350213.zoomTo();\n\tviewer_17404142190350213.addModel(\"CRYST1   12.184   12.184   12.184  90.00  90.00  90.00 P 1\\nMODEL     1\\nHETATM    1 UNX  MOL     1      -0.048   0.022  -0.050  1.00  0.00          X1.0\\nHETATM    2 UNX  MOL     1       0.032   1.988   2.033  1.00  0.00          X1.0\\nHETATM    3 UNX  MOL     1       1.977  -0.033   1.965  1.00  0.00          X1.0\\nHETATM    4 UNX  MOL     1       2.054   2.035   0.043  1.00  0.00          X1.0\\nHETATM    5 UNX  MOL     1       4.039  -0.046   0.030  1.00  0.00          X1.0\\nHETATM    6 UNX  MOL     1       4.002   2.002   1.969  1.00  0.00          X1.0\\nHETATM    7 UNX  MOL     1       6.095   0.059   1.969  1.00  0.00          X1.0\\nHETATM    8 UNX  MOL     1       6.049   2.059  -0.039  1.00  0.00          X1.0\\nHETATM    9 UNX  MOL     1       8.149   0.075   0.029  1.00  0.00          X1.0\\nHETATM   10 UNX  MOL     1       8.072   2.094   2.060  1.00  0.00          X1.0\\nHETATM   11 UNX  MOL     1      10.143  -0.041   2.008  1.00  0.00          X1.0\\nHETATM   12 UNX  MOL     1      10.217   2.068  -0.014  1.00  0.00          X1.0\\nHETATM   13 UNX  MOL     1      -0.032   4.043   0.018  1.00  0.00          X1.0\\nHETATM   14 UNX  MOL     1       0.049   6.117   2.072  1.00  0.00          X1.0\\nHETATM   15 UNX  MOL     1       2.016   4.065   2.081  1.00  0.00          X1.0\\nHETATM   16 UNX  MOL     1       2.043   6.076   0.028  1.00  0.00          X1.0\\nHETATM   17 UNX  MOL     1       4.082   4.093  -0.018  1.00  0.00          X1.0\\nHETATM   18 UNX  MOL     1       4.106   6.064   2.017  1.00  0.00          X1.0\\nHETATM   19 UNX  MOL     1       6.095   4.117   1.967  1.00  0.00          X1.0\\nHETATM   20 UNX  MOL     1       6.142   6.155  -0.033  1.00  0.00          X1.0\\nHETATM   21 UNX  MOL     1       8.120   4.083   0.026  1.00  0.00          X1.0\\nHETATM   22 UNX  MOL     1       8.183   6.048   2.054  1.00  0.00          X1.0\\nHETATM   23 UNX  MOL     1      10.192   4.029   2.052  1.00  0.00          X1.0\\nHETATM   24 UNX  MOL     1      10.236   6.024   0.033  1.00  0.00          X1.0\\nHETATM   25 UNX  MOL     1       0.036   8.090   0.020  1.00  0.00          X1.0\\nHETATM   26 UNX  MOL     1       0.027  10.147   2.086  1.00  0.00          X1.0\\nHETATM   27 UNX  MOL     1       2.062   8.097   1.982  1.00  0.00          X1.0\\nHETATM   28 UNX  MOL     1       1.973  10.171   0.061  1.00  0.00          X1.0\\nHETATM   29 UNX  MOL     1       4.101   8.161   0.002  1.00  0.00          X1.0\\nHETATM   30 UNX  MOL     1       4.093  10.164   2.018  1.00  0.00          X1.0\\nHETATM   31 UNX  MOL     1       6.084   8.122   2.026  1.00  0.00          X1.0\\nHETATM   32 UNX  MOL     1       6.105  10.155  -0.049  1.00  0.00          X1.0\\nHETATM   33 UNX  MOL     1       8.261   8.059   0.019  1.00  0.00          X1.0\\nHETATM   34 UNX  MOL     1       8.131  10.111   1.879  1.00  0.00          X1.0\\nHETATM   35 UNX  MOL     1      10.143   8.163   2.025  1.00  0.00          X1.0\\nHETATM   36 UNX  MOL     1      10.185  10.164  -0.025  1.00  0.00          X1.0\\nHETATM   37 UNX  MOL     1      -0.028   0.047   4.027  1.00  0.00          X1.0\\nHETATM   38 UNX  MOL     1       0.061   2.052   6.063  1.00  0.00          X1.0\\nHETATM   39 UNX  MOL     1       1.996  -0.037   6.088  1.00  0.00          X1.0\\nHETATM   40 UNX  MOL     1       2.029   2.042   4.023  1.00  0.00          X1.0\\nHETATM   41 UNX  MOL     1       4.026   0.012   4.044  1.00  0.00          X1.0\\nHETATM   42 UNX  MOL     1       4.003   2.039   6.102  1.00  0.00          X1.0\\nHETATM   43 UNX  MOL     1       6.121  -0.034   5.970  1.00  0.00          X1.0\\nHETATM   44 UNX  MOL     1       5.988   2.076   4.015  1.00  0.00          X1.0\\nHETATM   45 UNX  MOL     1       8.094  -0.093   3.995  1.00  0.00          X1.0\\nHETATM   46 UNX  MOL     1       8.130   1.988   6.115  1.00  0.00          X1.0\\nHETATM   47 UNX  MOL     1      10.151  -0.066   6.181  1.00  0.00          X1.0\\nHETATM   48 UNX  MOL     1      10.191   2.000   4.131  1.00  0.00          X1.0\\nHETATM   49 UNX  MOL     1      -0.048   4.048   4.068  1.00  0.00          X1.0\\nHETATM   50 UNX  MOL     1      -0.064   5.996   6.054  1.00  0.00          X1.0\\nHETATM   51 UNX  MOL     1       2.066   4.095   6.083  1.00  0.00          X1.0\\nHETATM   52 UNX  MOL     1       2.050   6.149   4.051  1.00  0.00          X1.0\\nHETATM   53 UNX  MOL     1       4.104   3.995   4.014  1.00  0.00          X1.0\\nHETATM   54 UNX  MOL     1       4.084   6.138   6.046  1.00  0.00          X1.0\\nHETATM   55 UNX  MOL     1       6.025   4.085   6.144  1.00  0.00          X1.0\\nHETATM   56 UNX  MOL     1       6.063   6.128   4.040  1.00  0.00          X1.0\\nHETATM   57 UNX  MOL     1       8.027   4.080   4.041  1.00  0.00          X1.0\\nHETATM   58 UNX  MOL     1       8.079   6.102   6.020  1.00  0.00          X1.0\\nHETATM   59 UNX  MOL     1      10.097   4.041   6.132  1.00  0.00          X1.0\\nHETATM   60 UNX  MOL     1      10.157   6.078   4.120  1.00  0.00          X1.0\\nHETATM   61 UNX  MOL     1      -0.044   8.155   4.087  1.00  0.00          X1.0\\nHETATM   62 UNX  MOL     1      -0.014  10.140   6.107  1.00  0.00          X1.0\\nHETATM   63 UNX  MOL     1       2.033   8.070   6.078  1.00  0.00          X1.0\\nHETATM   64 UNX  MOL     1       1.982  10.162   4.041  1.00  0.00          X1.0\\nHETATM   65 UNX  MOL     1       4.096   8.132   4.058  1.00  0.00          X1.0\\nHETATM   66 UNX  MOL     1       4.023  10.148   6.090  1.00  0.00          X1.0\\nHETATM   67 UNX  MOL     1       6.126   8.148   6.092  1.00  0.00          X1.0\\nHETATM   68 UNX  MOL     1       6.065  10.197   3.975  1.00  0.00          X1.0\\nHETATM   69 UNX  MOL     1       8.122   8.136   4.057  1.00  0.00          X1.0\\nHETATM   70 UNX  MOL     1       8.052  10.095   6.155  1.00  0.00          X1.0\\nHETATM   71 UNX  MOL     1      10.179   8.142   6.179  1.00  0.00          X1.0\\nHETATM   72 UNX  MOL     1      10.090  10.169   4.092  1.00  0.00          X1.0\\nHETATM   73 UNX  MOL     1      -0.053   0.021   8.099  1.00  0.00          X1.0\\nHETATM   74 UNX  MOL     1       0.035   2.033  10.067  1.00  0.00          X1.0\\nHETATM   75 UNX  MOL     1       1.937   0.001  10.107  1.00  0.00          X1.0\\nHETATM   76 UNX  MOL     1       2.063   2.108   8.101  1.00  0.00          X1.0\\nHETATM   77 UNX  MOL     1       4.144   0.009   8.075  1.00  0.00          X1.0\\nHETATM   78 UNX  MOL     1       4.021   1.984  10.184  1.00  0.00          X1.0\\nHETATM   79 UNX  MOL     1       6.127   0.050  10.231  1.00  0.00          X1.0\\nHETATM   80 UNX  MOL     1       6.056   1.980   8.106  1.00  0.00          X1.0\\nHETATM   81 UNX  MOL     1       8.039  -0.040   8.137  1.00  0.00          X1.0\\nHETATM   82 UNX  MOL     1       8.170   2.010  10.118  1.00  0.00          X1.0\\nHETATM   83 UNX  MOL     1      10.131  -0.024  10.174  1.00  0.00          X1.0\\nHETATM   84 UNX  MOL     1      10.146   2.054   8.071  1.00  0.00          X1.0\\nHETATM   85 UNX  MOL     1      -0.026   4.079   8.129  1.00  0.00          X1.0\\nHETATM   86 UNX  MOL     1       0.045   6.138  10.159  1.00  0.00          X1.0\\nHETATM   87 UNX  MOL     1       2.039   4.046  10.245  1.00  0.00          X1.0\\nHETATM   88 UNX  MOL     1       1.999   6.119   8.077  1.00  0.00          X1.0\\nHETATM   89 UNX  MOL     1       4.012   4.146   8.166  1.00  0.00          X1.0\\nHETATM   90 UNX  MOL     1       4.103   6.076  10.126  1.00  0.00          X1.0\\nHETATM   91 UNX  MOL     1       6.112   4.020  10.103  1.00  0.00          X1.0\\nHETATM   92 UNX  MOL     1       6.155   6.148   8.119  1.00  0.00          X1.0\\nHETATM   93 UNX  MOL     1       8.067   4.024   8.090  1.00  0.00          X1.0\\nHETATM   94 UNX  MOL     1       8.191   6.003  10.182  1.00  0.00          X1.0\\nHETATM   95 UNX  MOL     1      10.242   4.067  10.138  1.00  0.00          X1.0\\nHETATM   96 UNX  MOL     1      10.128   6.099   8.124  1.00  0.00          X1.0\\nHETATM   97 UNX  MOL     1       0.033   8.045   8.099  1.00  0.00          X1.0\\nHETATM   98 UNX  MOL     1       0.025  10.088  10.163  1.00  0.00          X1.0\\nHETATM   99 UNX  MOL     1       2.078   8.069  10.169  1.00  0.00          X1.0\\nHETATM  100 UNX  MOL     1       2.072  10.202   8.181  1.00  0.00          X1.0\\nHETATM  101 UNX  MOL     1       4.090   8.128   8.181  1.00  0.00          X1.0\\nHETATM  102 UNX  MOL     1       3.963  10.162  10.197  1.00  0.00          X1.0\\nHETATM  103 UNX  MOL     1       6.163   8.125  10.126  1.00  0.00          X1.0\\nHETATM  104 UNX  MOL     1       6.024  10.158   8.219  1.00  0.00          X1.0\\nHETATM  105 UNX  MOL     1       8.205   8.202   8.237  1.00  0.00          X1.0\\nHETATM  106 UNX  MOL     1       8.036  10.198  10.229  1.00  0.00          X1.0\\nHETATM  107 UNX  MOL     1      10.198   8.098  10.199  1.00  0.00          X1.0\\nHETATM  108 UNX  MOL     1      10.168  10.177   8.208  1.00  0.00          X1.0\\nENDMDL\\n\",\"pdb\");\n\tviewer_17404142190350213.addUnitCell();\n\tviewer_17404142190350213.setStyle({\"model\": -1, \"serial\": 1},{\"sphere\": {\"radius\": 1.0, \"color\": \"#7dff7a\"}});\n\tviewer_17404142190350213.setStyle({\"model\": -1, \"serial\": 2},{\"sphere\": {\"radius\": 1.0, \"color\": \"#7dff7a\"}});\n\tviewer_17404142190350213.setStyle({\"model\": -1, \"serial\": 3},{\"sphere\": {\"radius\": 1.0, \"color\": \"#7dff7a\"}});\n\tviewer_17404142190350213.setStyle({\"model\": -1, \"serial\": 4},{\"sphere\": {\"radius\": 1.0, \"color\": \"#7dff7a\"}});\n\tviewer_17404142190350213.setStyle({\"model\": -1, \"serial\": 5},{\"sphere\": {\"radius\": 1.0, \"color\": \"#7dff7a\"}});\n\tviewer_17404142190350213.setStyle({\"model\": -1, \"serial\": 6},{\"sphere\": {\"radius\": 1.0, \"color\": \"#7dff7a\"}});\n\tviewer_17404142190350213.setStyle({\"model\": -1, \"serial\": 7},{\"sphere\": {\"radius\": 1.0, \"color\": \"#7dff7a\"}});\n\tviewer_17404142190350213.setStyle({\"model\": -1, \"serial\": 8},{\"sphere\": {\"radius\": 1.0, \"color\": \"#7dff7a\"}});\n\tviewer_17404142190350213.setStyle({\"model\": -1, \"serial\": 9},{\"sphere\": {\"radius\": 1.0, \"color\": \"#7dff7a\"}});\n\tviewer_17404142190350213.setStyle({\"model\": -1, \"serial\": 10},{\"sphere\": {\"radius\": 1.0, \"color\": \"#7dff7a\"}});\n\tviewer_17404142190350213.setStyle({\"model\": -1, \"serial\": 11},{\"sphere\": {\"radius\": 1.0, \"color\": \"#7dff7a\"}});\n\tviewer_17404142190350213.setStyle({\"model\": -1, \"serial\": 12},{\"sphere\": {\"radius\": 1.0, \"color\": \"#7dff7a\"}});\n\tviewer_17404142190350213.setStyle({\"model\": -1, \"serial\": 13},{\"sphere\": {\"radius\": 1.0, \"color\": \"#7dff7a\"}});\n\tviewer_17404142190350213.setStyle({\"model\": -1, \"serial\": 14},{\"sphere\": {\"radius\": 1.0, \"color\": \"#7dff7a\"}});\n\tviewer_17404142190350213.setStyle({\"model\": -1, \"serial\": 15},{\"sphere\": {\"radius\": 1.0, \"color\": \"#7dff7a\"}});\n\tviewer_17404142190350213.setStyle({\"model\": -1, \"serial\": 16},{\"sphere\": {\"radius\": 1.0, \"color\": \"#7dff7a\"}});\n\tviewer_17404142190350213.setStyle({\"model\": -1, \"serial\": 17},{\"sphere\": {\"radius\": 1.0, \"color\": \"#7dff7a\"}});\n\tviewer_17404142190350213.setStyle({\"model\": -1, \"serial\": 18},{\"sphere\": {\"radius\": 1.0, \"color\": \"#7dff7a\"}});\n\tviewer_17404142190350213.setStyle({\"model\": -1, \"serial\": 19},{\"sphere\": {\"radius\": 1.0, \"color\": \"#7dff7a\"}});\n\tviewer_17404142190350213.setStyle({\"model\": -1, \"serial\": 20},{\"sphere\": {\"radius\": 1.0, \"color\": \"#7dff7a\"}});\n\tviewer_17404142190350213.setStyle({\"model\": -1, \"serial\": 21},{\"sphere\": {\"radius\": 1.0, \"color\": \"#7dff7a\"}});\n\tviewer_17404142190350213.setStyle({\"model\": -1, \"serial\": 22},{\"sphere\": {\"radius\": 1.0, \"color\": \"#7dff7a\"}});\n\tviewer_17404142190350213.setStyle({\"model\": -1, \"serial\": 23},{\"sphere\": {\"radius\": 1.0, \"color\": \"#7dff7a\"}});\n\tviewer_17404142190350213.setStyle({\"model\": -1, \"serial\": 24},{\"sphere\": {\"radius\": 1.0, \"color\": \"#7dff7a\"}});\n\tviewer_17404142190350213.setStyle({\"model\": -1, \"serial\": 25},{\"sphere\": {\"radius\": 1.0, \"color\": \"#7dff7a\"}});\n\tviewer_17404142190350213.setStyle({\"model\": -1, \"serial\": 26},{\"sphere\": {\"radius\": 1.0, \"color\": \"#7dff7a\"}});\n\tviewer_17404142190350213.setStyle({\"model\": -1, \"serial\": 27},{\"sphere\": {\"radius\": 1.0, \"color\": \"#7dff7a\"}});\n\tviewer_17404142190350213.setStyle({\"model\": -1, \"serial\": 28},{\"sphere\": {\"radius\": 1.0, \"color\": \"#7dff7a\"}});\n\tviewer_17404142190350213.setStyle({\"model\": -1, \"serial\": 29},{\"sphere\": {\"radius\": 1.0, \"color\": \"#7dff7a\"}});\n\tviewer_17404142190350213.setStyle({\"model\": -1, \"serial\": 30},{\"sphere\": {\"radius\": 1.0, \"color\": \"#7dff7a\"}});\n\tviewer_17404142190350213.setStyle({\"model\": -1, \"serial\": 31},{\"sphere\": {\"radius\": 1.0, \"color\": \"#7dff7a\"}});\n\tviewer_17404142190350213.setStyle({\"model\": -1, \"serial\": 32},{\"sphere\": {\"radius\": 1.0, \"color\": \"#7dff7a\"}});\n\tviewer_17404142190350213.setStyle({\"model\": -1, \"serial\": 33},{\"sphere\": {\"radius\": 1.0, \"color\": \"#7dff7a\"}});\n\tviewer_17404142190350213.setStyle({\"model\": -1, \"serial\": 34},{\"sphere\": {\"radius\": 1.0, \"color\": \"#7dff7a\"}});\n\tviewer_17404142190350213.setStyle({\"model\": -1, \"serial\": 35},{\"sphere\": {\"radius\": 1.0, \"color\": \"#7dff7a\"}});\n\tviewer_17404142190350213.setStyle({\"model\": -1, \"serial\": 36},{\"sphere\": {\"radius\": 1.0, \"color\": \"#7dff7a\"}});\n\tviewer_17404142190350213.setStyle({\"model\": -1, \"serial\": 37},{\"sphere\": {\"radius\": 1.0, \"color\": \"#7dff7a\"}});\n\tviewer_17404142190350213.setStyle({\"model\": -1, \"serial\": 38},{\"sphere\": {\"radius\": 1.0, \"color\": \"#7dff7a\"}});\n\tviewer_17404142190350213.setStyle({\"model\": -1, \"serial\": 39},{\"sphere\": {\"radius\": 1.0, \"color\": \"#7dff7a\"}});\n\tviewer_17404142190350213.setStyle({\"model\": -1, \"serial\": 40},{\"sphere\": {\"radius\": 1.0, \"color\": \"#7dff7a\"}});\n\tviewer_17404142190350213.setStyle({\"model\": -1, \"serial\": 41},{\"sphere\": {\"radius\": 1.0, \"color\": \"#7dff7a\"}});\n\tviewer_17404142190350213.setStyle({\"model\": -1, \"serial\": 42},{\"sphere\": {\"radius\": 1.0, \"color\": \"#7dff7a\"}});\n\tviewer_17404142190350213.setStyle({\"model\": -1, \"serial\": 43},{\"sphere\": {\"radius\": 1.0, \"color\": \"#7dff7a\"}});\n\tviewer_17404142190350213.setStyle({\"model\": -1, \"serial\": 44},{\"sphere\": {\"radius\": 1.0, \"color\": \"#7dff7a\"}});\n\tviewer_17404142190350213.setStyle({\"model\": -1, \"serial\": 45},{\"sphere\": {\"radius\": 1.0, \"color\": \"#7dff7a\"}});\n\tviewer_17404142190350213.setStyle({\"model\": -1, \"serial\": 46},{\"sphere\": {\"radius\": 1.0, \"color\": \"#7dff7a\"}});\n\tviewer_17404142190350213.setStyle({\"model\": -1, \"serial\": 47},{\"sphere\": {\"radius\": 1.0, \"color\": \"#7dff7a\"}});\n\tviewer_17404142190350213.setStyle({\"model\": -1, \"serial\": 48},{\"sphere\": {\"radius\": 1.0, \"color\": \"#7dff7a\"}});\n\tviewer_17404142190350213.setStyle({\"model\": -1, \"serial\": 49},{\"sphere\": {\"radius\": 1.0, \"color\": \"#7dff7a\"}});\n\tviewer_17404142190350213.setStyle({\"model\": -1, \"serial\": 50},{\"sphere\": {\"radius\": 1.0, \"color\": \"#7dff7a\"}});\n\tviewer_17404142190350213.setStyle({\"model\": -1, \"serial\": 51},{\"sphere\": {\"radius\": 1.0, \"color\": \"#7dff7a\"}});\n\tviewer_17404142190350213.setStyle({\"model\": -1, \"serial\": 52},{\"sphere\": {\"radius\": 1.0, \"color\": \"#7dff7a\"}});\n\tviewer_17404142190350213.setStyle({\"model\": -1, \"serial\": 53},{\"sphere\": {\"radius\": 1.0, \"color\": \"#7dff7a\"}});\n\tviewer_17404142190350213.setStyle({\"model\": -1, \"serial\": 54},{\"sphere\": {\"radius\": 1.0, \"color\": \"#7dff7a\"}});\n\tviewer_17404142190350213.setStyle({\"model\": -1, \"serial\": 55},{\"sphere\": {\"radius\": 1.0, \"color\": \"#7dff7a\"}});\n\tviewer_17404142190350213.setStyle({\"model\": -1, \"serial\": 56},{\"sphere\": {\"radius\": 1.0, \"color\": \"#7dff7a\"}});\n\tviewer_17404142190350213.setStyle({\"model\": -1, \"serial\": 57},{\"sphere\": {\"radius\": 1.0, \"color\": \"#7dff7a\"}});\n\tviewer_17404142190350213.setStyle({\"model\": -1, \"serial\": 58},{\"sphere\": {\"radius\": 1.0, \"color\": \"#7dff7a\"}});\n\tviewer_17404142190350213.setStyle({\"model\": -1, \"serial\": 59},{\"sphere\": {\"radius\": 1.0, \"color\": \"#7dff7a\"}});\n\tviewer_17404142190350213.setStyle({\"model\": -1, \"serial\": 60},{\"sphere\": {\"radius\": 1.0, \"color\": \"#7dff7a\"}});\n\tviewer_17404142190350213.setStyle({\"model\": -1, \"serial\": 61},{\"sphere\": {\"radius\": 1.0, \"color\": \"#7dff7a\"}});\n\tviewer_17404142190350213.setStyle({\"model\": -1, \"serial\": 62},{\"sphere\": {\"radius\": 1.0, \"color\": \"#7dff7a\"}});\n\tviewer_17404142190350213.setStyle({\"model\": -1, \"serial\": 63},{\"sphere\": {\"radius\": 1.0, \"color\": \"#7dff7a\"}});\n\tviewer_17404142190350213.setStyle({\"model\": -1, \"serial\": 64},{\"sphere\": {\"radius\": 1.0, \"color\": \"#7dff7a\"}});\n\tviewer_17404142190350213.setStyle({\"model\": -1, \"serial\": 65},{\"sphere\": {\"radius\": 1.0, \"color\": \"#7dff7a\"}});\n\tviewer_17404142190350213.setStyle({\"model\": -1, \"serial\": 66},{\"sphere\": {\"radius\": 1.0, \"color\": \"#7dff7a\"}});\n\tviewer_17404142190350213.setStyle({\"model\": -1, \"serial\": 67},{\"sphere\": {\"radius\": 1.0, \"color\": \"#7dff7a\"}});\n\tviewer_17404142190350213.setStyle({\"model\": -1, \"serial\": 68},{\"sphere\": {\"radius\": 1.0, \"color\": \"#7dff7a\"}});\n\tviewer_17404142190350213.setStyle({\"model\": -1, \"serial\": 69},{\"sphere\": {\"radius\": 1.0, \"color\": \"#7dff7a\"}});\n\tviewer_17404142190350213.setStyle({\"model\": -1, \"serial\": 70},{\"sphere\": {\"radius\": 1.0, \"color\": \"#7dff7a\"}});\n\tviewer_17404142190350213.setStyle({\"model\": -1, \"serial\": 71},{\"sphere\": {\"radius\": 1.0, \"color\": \"#7dff7a\"}});\n\tviewer_17404142190350213.setStyle({\"model\": -1, \"serial\": 72},{\"sphere\": {\"radius\": 1.0, \"color\": \"#7dff7a\"}});\n\tviewer_17404142190350213.setStyle({\"model\": -1, \"serial\": 73},{\"sphere\": {\"radius\": 1.0, \"color\": \"#7dff7a\"}});\n\tviewer_17404142190350213.setStyle({\"model\": -1, \"serial\": 74},{\"sphere\": {\"radius\": 1.0, \"color\": \"#7dff7a\"}});\n\tviewer_17404142190350213.setStyle({\"model\": -1, \"serial\": 75},{\"sphere\": {\"radius\": 1.0, \"color\": \"#7dff7a\"}});\n\tviewer_17404142190350213.setStyle({\"model\": -1, \"serial\": 76},{\"sphere\": {\"radius\": 1.0, \"color\": \"#7dff7a\"}});\n\tviewer_17404142190350213.setStyle({\"model\": -1, \"serial\": 77},{\"sphere\": {\"radius\": 1.0, \"color\": \"#7dff7a\"}});\n\tviewer_17404142190350213.setStyle({\"model\": -1, \"serial\": 78},{\"sphere\": {\"radius\": 1.0, \"color\": \"#7dff7a\"}});\n\tviewer_17404142190350213.setStyle({\"model\": -1, \"serial\": 79},{\"sphere\": {\"radius\": 1.0, \"color\": \"#7dff7a\"}});\n\tviewer_17404142190350213.setStyle({\"model\": -1, \"serial\": 80},{\"sphere\": {\"radius\": 1.0, \"color\": \"#7dff7a\"}});\n\tviewer_17404142190350213.setStyle({\"model\": -1, \"serial\": 81},{\"sphere\": {\"radius\": 1.0, \"color\": \"#7dff7a\"}});\n\tviewer_17404142190350213.setStyle({\"model\": -1, \"serial\": 82},{\"sphere\": {\"radius\": 1.0, \"color\": \"#7dff7a\"}});\n\tviewer_17404142190350213.setStyle({\"model\": -1, \"serial\": 83},{\"sphere\": {\"radius\": 1.0, \"color\": \"#7dff7a\"}});\n\tviewer_17404142190350213.setStyle({\"model\": -1, \"serial\": 84},{\"sphere\": {\"radius\": 1.0, \"color\": \"#7dff7a\"}});\n\tviewer_17404142190350213.setStyle({\"model\": -1, \"serial\": 85},{\"sphere\": {\"radius\": 1.0, \"color\": \"#7dff7a\"}});\n\tviewer_17404142190350213.setStyle({\"model\": -1, \"serial\": 86},{\"sphere\": {\"radius\": 1.0, \"color\": \"#7dff7a\"}});\n\tviewer_17404142190350213.setStyle({\"model\": -1, \"serial\": 87},{\"sphere\": {\"radius\": 1.0, \"color\": \"#7dff7a\"}});\n\tviewer_17404142190350213.setStyle({\"model\": -1, \"serial\": 88},{\"sphere\": {\"radius\": 1.0, \"color\": \"#7dff7a\"}});\n\tviewer_17404142190350213.setStyle({\"model\": -1, \"serial\": 89},{\"sphere\": {\"radius\": 1.0, \"color\": \"#7dff7a\"}});\n\tviewer_17404142190350213.setStyle({\"model\": -1, \"serial\": 90},{\"sphere\": {\"radius\": 1.0, \"color\": \"#7dff7a\"}});\n\tviewer_17404142190350213.setStyle({\"model\": -1, \"serial\": 91},{\"sphere\": {\"radius\": 1.0, \"color\": \"#7dff7a\"}});\n\tviewer_17404142190350213.setStyle({\"model\": -1, \"serial\": 92},{\"sphere\": {\"radius\": 1.0, \"color\": \"#7dff7a\"}});\n\tviewer_17404142190350213.setStyle({\"model\": -1, \"serial\": 93},{\"sphere\": {\"radius\": 1.0, \"color\": \"#7dff7a\"}});\n\tviewer_17404142190350213.setStyle({\"model\": -1, \"serial\": 94},{\"sphere\": {\"radius\": 1.0, \"color\": \"#7dff7a\"}});\n\tviewer_17404142190350213.setStyle({\"model\": -1, \"serial\": 95},{\"sphere\": {\"radius\": 1.0, \"color\": \"#7dff7a\"}});\n\tviewer_17404142190350213.setStyle({\"model\": -1, \"serial\": 96},{\"sphere\": {\"radius\": 1.0, \"color\": \"#7dff7a\"}});\n\tviewer_17404142190350213.setStyle({\"model\": -1, \"serial\": 97},{\"sphere\": {\"radius\": 1.0, \"color\": \"#7dff7a\"}});\n\tviewer_17404142190350213.setStyle({\"model\": -1, \"serial\": 98},{\"sphere\": {\"radius\": 1.0, \"color\": \"#7dff7a\"}});\n\tviewer_17404142190350213.setStyle({\"model\": -1, \"serial\": 99},{\"sphere\": {\"radius\": 1.0, \"color\": \"#7dff7a\"}});\n\tviewer_17404142190350213.setStyle({\"model\": -1, \"serial\": 100},{\"sphere\": {\"radius\": 1.0, \"color\": \"#7dff7a\"}});\n\tviewer_17404142190350213.setStyle({\"model\": -1, \"serial\": 101},{\"sphere\": {\"radius\": 1.0, \"color\": \"#7dff7a\"}});\n\tviewer_17404142190350213.setStyle({\"model\": -1, \"serial\": 102},{\"sphere\": {\"radius\": 1.0, \"color\": \"#7dff7a\"}});\n\tviewer_17404142190350213.setStyle({\"model\": -1, \"serial\": 103},{\"sphere\": {\"radius\": 1.0, \"color\": \"#7dff7a\"}});\n\tviewer_17404142190350213.setStyle({\"model\": -1, \"serial\": 104},{\"sphere\": {\"radius\": 1.0, \"color\": \"#7dff7a\"}});\n\tviewer_17404142190350213.setStyle({\"model\": -1, \"serial\": 105},{\"sphere\": {\"radius\": 1.0, \"color\": \"#7dff7a\"}});\n\tviewer_17404142190350213.setStyle({\"model\": -1, \"serial\": 106},{\"sphere\": {\"radius\": 1.0, \"color\": \"#7dff7a\"}});\n\tviewer_17404142190350213.setStyle({\"model\": -1, \"serial\": 107},{\"sphere\": {\"radius\": 1.0, \"color\": \"#7dff7a\"}});\n\tviewer_17404142190350213.setStyle({\"model\": -1, \"serial\": 108},{\"sphere\": {\"radius\": 1.0, \"color\": \"#7dff7a\"}});\n\tviewer_17404142190350213.zoomTo();\nviewer_17404142190350213.render();\n});\n</script>",
      "text/html": [
       "<div id=\"3dmolviewer_17404142190350213\"  style=\"position: relative; width: 800px; height: 800px;\">\n",
       "        <p id=\"3dmolwarning_17404142190350213\" style=\"background-color:#ffcccc;color:black\">3Dmol.js failed to load for some reason.  Please check your browser console for error messages.<br></p>\n",
       "        </div>\n",
       "<script>\n",
       "\n",
       "var loadScriptAsync = function(uri){\n",
       "  return new Promise((resolve, reject) => {\n",
       "    //this is to ignore the existence of requirejs amd\n",
       "    var savedexports, savedmodule;\n",
       "    if (typeof exports !== 'undefined') savedexports = exports;\n",
       "    else exports = {}\n",
       "    if (typeof module !== 'undefined') savedmodule = module;\n",
       "    else module = {}\n",
       "\n",
       "    var tag = document.createElement('script');\n",
       "    tag.src = uri;\n",
       "    tag.async = true;\n",
       "    tag.onload = () => {\n",
       "        exports = savedexports;\n",
       "        module = savedmodule;\n",
       "        resolve();\n",
       "    };\n",
       "  var firstScriptTag = document.getElementsByTagName('script')[0];\n",
       "  firstScriptTag.parentNode.insertBefore(tag, firstScriptTag);\n",
       "});\n",
       "};\n",
       "\n",
       "if(typeof $3Dmolpromise === 'undefined') {\n",
       "$3Dmolpromise = null;\n",
       "  $3Dmolpromise = loadScriptAsync('https://cdnjs.cloudflare.com/ajax/libs/3Dmol/2.4.2/3Dmol-min.js');\n",
       "}\n",
       "\n",
       "var viewer_17404142190350213 = null;\n",
       "var warn = document.getElementById(\"3dmolwarning_17404142190350213\");\n",
       "if(warn) {\n",
       "    warn.parentNode.removeChild(warn);\n",
       "}\n",
       "$3Dmolpromise.then(function() {\n",
       "viewer_17404142190350213 = $3Dmol.createViewer(document.getElementById(\"3dmolviewer_17404142190350213\"),{backgroundColor:\"white\"});\n",
       "viewer_17404142190350213.zoomTo();\n",
       "\tviewer_17404142190350213.addModel(\"CRYST1   12.184   12.184   12.184  90.00  90.00  90.00 P 1\\nMODEL     1\\nHETATM    1 UNX  MOL     1      -0.048   0.022  -0.050  1.00  0.00          X1.0\\nHETATM    2 UNX  MOL     1       0.032   1.988   2.033  1.00  0.00          X1.0\\nHETATM    3 UNX  MOL     1       1.977  -0.033   1.965  1.00  0.00          X1.0\\nHETATM    4 UNX  MOL     1       2.054   2.035   0.043  1.00  0.00          X1.0\\nHETATM    5 UNX  MOL     1       4.039  -0.046   0.030  1.00  0.00          X1.0\\nHETATM    6 UNX  MOL     1       4.002   2.002   1.969  1.00  0.00          X1.0\\nHETATM    7 UNX  MOL     1       6.095   0.059   1.969  1.00  0.00          X1.0\\nHETATM    8 UNX  MOL     1       6.049   2.059  -0.039  1.00  0.00          X1.0\\nHETATM    9 UNX  MOL     1       8.149   0.075   0.029  1.00  0.00          X1.0\\nHETATM   10 UNX  MOL     1       8.072   2.094   2.060  1.00  0.00          X1.0\\nHETATM   11 UNX  MOL     1      10.143  -0.041   2.008  1.00  0.00          X1.0\\nHETATM   12 UNX  MOL     1      10.217   2.068  -0.014  1.00  0.00          X1.0\\nHETATM   13 UNX  MOL     1      -0.032   4.043   0.018  1.00  0.00          X1.0\\nHETATM   14 UNX  MOL     1       0.049   6.117   2.072  1.00  0.00          X1.0\\nHETATM   15 UNX  MOL     1       2.016   4.065   2.081  1.00  0.00          X1.0\\nHETATM   16 UNX  MOL     1       2.043   6.076   0.028  1.00  0.00          X1.0\\nHETATM   17 UNX  MOL     1       4.082   4.093  -0.018  1.00  0.00          X1.0\\nHETATM   18 UNX  MOL     1       4.106   6.064   2.017  1.00  0.00          X1.0\\nHETATM   19 UNX  MOL     1       6.095   4.117   1.967  1.00  0.00          X1.0\\nHETATM   20 UNX  MOL     1       6.142   6.155  -0.033  1.00  0.00          X1.0\\nHETATM   21 UNX  MOL     1       8.120   4.083   0.026  1.00  0.00          X1.0\\nHETATM   22 UNX  MOL     1       8.183   6.048   2.054  1.00  0.00          X1.0\\nHETATM   23 UNX  MOL     1      10.192   4.029   2.052  1.00  0.00          X1.0\\nHETATM   24 UNX  MOL     1      10.236   6.024   0.033  1.00  0.00          X1.0\\nHETATM   25 UNX  MOL     1       0.036   8.090   0.020  1.00  0.00          X1.0\\nHETATM   26 UNX  MOL     1       0.027  10.147   2.086  1.00  0.00          X1.0\\nHETATM   27 UNX  MOL     1       2.062   8.097   1.982  1.00  0.00          X1.0\\nHETATM   28 UNX  MOL     1       1.973  10.171   0.061  1.00  0.00          X1.0\\nHETATM   29 UNX  MOL     1       4.101   8.161   0.002  1.00  0.00          X1.0\\nHETATM   30 UNX  MOL     1       4.093  10.164   2.018  1.00  0.00          X1.0\\nHETATM   31 UNX  MOL     1       6.084   8.122   2.026  1.00  0.00          X1.0\\nHETATM   32 UNX  MOL     1       6.105  10.155  -0.049  1.00  0.00          X1.0\\nHETATM   33 UNX  MOL     1       8.261   8.059   0.019  1.00  0.00          X1.0\\nHETATM   34 UNX  MOL     1       8.131  10.111   1.879  1.00  0.00          X1.0\\nHETATM   35 UNX  MOL     1      10.143   8.163   2.025  1.00  0.00          X1.0\\nHETATM   36 UNX  MOL     1      10.185  10.164  -0.025  1.00  0.00          X1.0\\nHETATM   37 UNX  MOL     1      -0.028   0.047   4.027  1.00  0.00          X1.0\\nHETATM   38 UNX  MOL     1       0.061   2.052   6.063  1.00  0.00          X1.0\\nHETATM   39 UNX  MOL     1       1.996  -0.037   6.088  1.00  0.00          X1.0\\nHETATM   40 UNX  MOL     1       2.029   2.042   4.023  1.00  0.00          X1.0\\nHETATM   41 UNX  MOL     1       4.026   0.012   4.044  1.00  0.00          X1.0\\nHETATM   42 UNX  MOL     1       4.003   2.039   6.102  1.00  0.00          X1.0\\nHETATM   43 UNX  MOL     1       6.121  -0.034   5.970  1.00  0.00          X1.0\\nHETATM   44 UNX  MOL     1       5.988   2.076   4.015  1.00  0.00          X1.0\\nHETATM   45 UNX  MOL     1       8.094  -0.093   3.995  1.00  0.00          X1.0\\nHETATM   46 UNX  MOL     1       8.130   1.988   6.115  1.00  0.00          X1.0\\nHETATM   47 UNX  MOL     1      10.151  -0.066   6.181  1.00  0.00          X1.0\\nHETATM   48 UNX  MOL     1      10.191   2.000   4.131  1.00  0.00          X1.0\\nHETATM   49 UNX  MOL     1      -0.048   4.048   4.068  1.00  0.00          X1.0\\nHETATM   50 UNX  MOL     1      -0.064   5.996   6.054  1.00  0.00          X1.0\\nHETATM   51 UNX  MOL     1       2.066   4.095   6.083  1.00  0.00          X1.0\\nHETATM   52 UNX  MOL     1       2.050   6.149   4.051  1.00  0.00          X1.0\\nHETATM   53 UNX  MOL     1       4.104   3.995   4.014  1.00  0.00          X1.0\\nHETATM   54 UNX  MOL     1       4.084   6.138   6.046  1.00  0.00          X1.0\\nHETATM   55 UNX  MOL     1       6.025   4.085   6.144  1.00  0.00          X1.0\\nHETATM   56 UNX  MOL     1       6.063   6.128   4.040  1.00  0.00          X1.0\\nHETATM   57 UNX  MOL     1       8.027   4.080   4.041  1.00  0.00          X1.0\\nHETATM   58 UNX  MOL     1       8.079   6.102   6.020  1.00  0.00          X1.0\\nHETATM   59 UNX  MOL     1      10.097   4.041   6.132  1.00  0.00          X1.0\\nHETATM   60 UNX  MOL     1      10.157   6.078   4.120  1.00  0.00          X1.0\\nHETATM   61 UNX  MOL     1      -0.044   8.155   4.087  1.00  0.00          X1.0\\nHETATM   62 UNX  MOL     1      -0.014  10.140   6.107  1.00  0.00          X1.0\\nHETATM   63 UNX  MOL     1       2.033   8.070   6.078  1.00  0.00          X1.0\\nHETATM   64 UNX  MOL     1       1.982  10.162   4.041  1.00  0.00          X1.0\\nHETATM   65 UNX  MOL     1       4.096   8.132   4.058  1.00  0.00          X1.0\\nHETATM   66 UNX  MOL     1       4.023  10.148   6.090  1.00  0.00          X1.0\\nHETATM   67 UNX  MOL     1       6.126   8.148   6.092  1.00  0.00          X1.0\\nHETATM   68 UNX  MOL     1       6.065  10.197   3.975  1.00  0.00          X1.0\\nHETATM   69 UNX  MOL     1       8.122   8.136   4.057  1.00  0.00          X1.0\\nHETATM   70 UNX  MOL     1       8.052  10.095   6.155  1.00  0.00          X1.0\\nHETATM   71 UNX  MOL     1      10.179   8.142   6.179  1.00  0.00          X1.0\\nHETATM   72 UNX  MOL     1      10.090  10.169   4.092  1.00  0.00          X1.0\\nHETATM   73 UNX  MOL     1      -0.053   0.021   8.099  1.00  0.00          X1.0\\nHETATM   74 UNX  MOL     1       0.035   2.033  10.067  1.00  0.00          X1.0\\nHETATM   75 UNX  MOL     1       1.937   0.001  10.107  1.00  0.00          X1.0\\nHETATM   76 UNX  MOL     1       2.063   2.108   8.101  1.00  0.00          X1.0\\nHETATM   77 UNX  MOL     1       4.144   0.009   8.075  1.00  0.00          X1.0\\nHETATM   78 UNX  MOL     1       4.021   1.984  10.184  1.00  0.00          X1.0\\nHETATM   79 UNX  MOL     1       6.127   0.050  10.231  1.00  0.00          X1.0\\nHETATM   80 UNX  MOL     1       6.056   1.980   8.106  1.00  0.00          X1.0\\nHETATM   81 UNX  MOL     1       8.039  -0.040   8.137  1.00  0.00          X1.0\\nHETATM   82 UNX  MOL     1       8.170   2.010  10.118  1.00  0.00          X1.0\\nHETATM   83 UNX  MOL     1      10.131  -0.024  10.174  1.00  0.00          X1.0\\nHETATM   84 UNX  MOL     1      10.146   2.054   8.071  1.00  0.00          X1.0\\nHETATM   85 UNX  MOL     1      -0.026   4.079   8.129  1.00  0.00          X1.0\\nHETATM   86 UNX  MOL     1       0.045   6.138  10.159  1.00  0.00          X1.0\\nHETATM   87 UNX  MOL     1       2.039   4.046  10.245  1.00  0.00          X1.0\\nHETATM   88 UNX  MOL     1       1.999   6.119   8.077  1.00  0.00          X1.0\\nHETATM   89 UNX  MOL     1       4.012   4.146   8.166  1.00  0.00          X1.0\\nHETATM   90 UNX  MOL     1       4.103   6.076  10.126  1.00  0.00          X1.0\\nHETATM   91 UNX  MOL     1       6.112   4.020  10.103  1.00  0.00          X1.0\\nHETATM   92 UNX  MOL     1       6.155   6.148   8.119  1.00  0.00          X1.0\\nHETATM   93 UNX  MOL     1       8.067   4.024   8.090  1.00  0.00          X1.0\\nHETATM   94 UNX  MOL     1       8.191   6.003  10.182  1.00  0.00          X1.0\\nHETATM   95 UNX  MOL     1      10.242   4.067  10.138  1.00  0.00          X1.0\\nHETATM   96 UNX  MOL     1      10.128   6.099   8.124  1.00  0.00          X1.0\\nHETATM   97 UNX  MOL     1       0.033   8.045   8.099  1.00  0.00          X1.0\\nHETATM   98 UNX  MOL     1       0.025  10.088  10.163  1.00  0.00          X1.0\\nHETATM   99 UNX  MOL     1       2.078   8.069  10.169  1.00  0.00          X1.0\\nHETATM  100 UNX  MOL     1       2.072  10.202   8.181  1.00  0.00          X1.0\\nHETATM  101 UNX  MOL     1       4.090   8.128   8.181  1.00  0.00          X1.0\\nHETATM  102 UNX  MOL     1       3.963  10.162  10.197  1.00  0.00          X1.0\\nHETATM  103 UNX  MOL     1       6.163   8.125  10.126  1.00  0.00          X1.0\\nHETATM  104 UNX  MOL     1       6.024  10.158   8.219  1.00  0.00          X1.0\\nHETATM  105 UNX  MOL     1       8.205   8.202   8.237  1.00  0.00          X1.0\\nHETATM  106 UNX  MOL     1       8.036  10.198  10.229  1.00  0.00          X1.0\\nHETATM  107 UNX  MOL     1      10.198   8.098  10.199  1.00  0.00          X1.0\\nHETATM  108 UNX  MOL     1      10.168  10.177   8.208  1.00  0.00          X1.0\\nENDMDL\\n\",\"pdb\");\n",
       "\tviewer_17404142190350213.addUnitCell();\n",
       "\tviewer_17404142190350213.setStyle({\"model\": -1, \"serial\": 1},{\"sphere\": {\"radius\": 1.0, \"color\": \"#7dff7a\"}});\n",
       "\tviewer_17404142190350213.setStyle({\"model\": -1, \"serial\": 2},{\"sphere\": {\"radius\": 1.0, \"color\": \"#7dff7a\"}});\n",
       "\tviewer_17404142190350213.setStyle({\"model\": -1, \"serial\": 3},{\"sphere\": {\"radius\": 1.0, \"color\": \"#7dff7a\"}});\n",
       "\tviewer_17404142190350213.setStyle({\"model\": -1, \"serial\": 4},{\"sphere\": {\"radius\": 1.0, \"color\": \"#7dff7a\"}});\n",
       "\tviewer_17404142190350213.setStyle({\"model\": -1, \"serial\": 5},{\"sphere\": {\"radius\": 1.0, \"color\": \"#7dff7a\"}});\n",
       "\tviewer_17404142190350213.setStyle({\"model\": -1, \"serial\": 6},{\"sphere\": {\"radius\": 1.0, \"color\": \"#7dff7a\"}});\n",
       "\tviewer_17404142190350213.setStyle({\"model\": -1, \"serial\": 7},{\"sphere\": {\"radius\": 1.0, \"color\": \"#7dff7a\"}});\n",
       "\tviewer_17404142190350213.setStyle({\"model\": -1, \"serial\": 8},{\"sphere\": {\"radius\": 1.0, \"color\": \"#7dff7a\"}});\n",
       "\tviewer_17404142190350213.setStyle({\"model\": -1, \"serial\": 9},{\"sphere\": {\"radius\": 1.0, \"color\": \"#7dff7a\"}});\n",
       "\tviewer_17404142190350213.setStyle({\"model\": -1, \"serial\": 10},{\"sphere\": {\"radius\": 1.0, \"color\": \"#7dff7a\"}});\n",
       "\tviewer_17404142190350213.setStyle({\"model\": -1, \"serial\": 11},{\"sphere\": {\"radius\": 1.0, \"color\": \"#7dff7a\"}});\n",
       "\tviewer_17404142190350213.setStyle({\"model\": -1, \"serial\": 12},{\"sphere\": {\"radius\": 1.0, \"color\": \"#7dff7a\"}});\n",
       "\tviewer_17404142190350213.setStyle({\"model\": -1, \"serial\": 13},{\"sphere\": {\"radius\": 1.0, \"color\": \"#7dff7a\"}});\n",
       "\tviewer_17404142190350213.setStyle({\"model\": -1, \"serial\": 14},{\"sphere\": {\"radius\": 1.0, \"color\": \"#7dff7a\"}});\n",
       "\tviewer_17404142190350213.setStyle({\"model\": -1, \"serial\": 15},{\"sphere\": {\"radius\": 1.0, \"color\": \"#7dff7a\"}});\n",
       "\tviewer_17404142190350213.setStyle({\"model\": -1, \"serial\": 16},{\"sphere\": {\"radius\": 1.0, \"color\": \"#7dff7a\"}});\n",
       "\tviewer_17404142190350213.setStyle({\"model\": -1, \"serial\": 17},{\"sphere\": {\"radius\": 1.0, \"color\": \"#7dff7a\"}});\n",
       "\tviewer_17404142190350213.setStyle({\"model\": -1, \"serial\": 18},{\"sphere\": {\"radius\": 1.0, \"color\": \"#7dff7a\"}});\n",
       "\tviewer_17404142190350213.setStyle({\"model\": -1, \"serial\": 19},{\"sphere\": {\"radius\": 1.0, \"color\": \"#7dff7a\"}});\n",
       "\tviewer_17404142190350213.setStyle({\"model\": -1, \"serial\": 20},{\"sphere\": {\"radius\": 1.0, \"color\": \"#7dff7a\"}});\n",
       "\tviewer_17404142190350213.setStyle({\"model\": -1, \"serial\": 21},{\"sphere\": {\"radius\": 1.0, \"color\": \"#7dff7a\"}});\n",
       "\tviewer_17404142190350213.setStyle({\"model\": -1, \"serial\": 22},{\"sphere\": {\"radius\": 1.0, \"color\": \"#7dff7a\"}});\n",
       "\tviewer_17404142190350213.setStyle({\"model\": -1, \"serial\": 23},{\"sphere\": {\"radius\": 1.0, \"color\": \"#7dff7a\"}});\n",
       "\tviewer_17404142190350213.setStyle({\"model\": -1, \"serial\": 24},{\"sphere\": {\"radius\": 1.0, \"color\": \"#7dff7a\"}});\n",
       "\tviewer_17404142190350213.setStyle({\"model\": -1, \"serial\": 25},{\"sphere\": {\"radius\": 1.0, \"color\": \"#7dff7a\"}});\n",
       "\tviewer_17404142190350213.setStyle({\"model\": -1, \"serial\": 26},{\"sphere\": {\"radius\": 1.0, \"color\": \"#7dff7a\"}});\n",
       "\tviewer_17404142190350213.setStyle({\"model\": -1, \"serial\": 27},{\"sphere\": {\"radius\": 1.0, \"color\": \"#7dff7a\"}});\n",
       "\tviewer_17404142190350213.setStyle({\"model\": -1, \"serial\": 28},{\"sphere\": {\"radius\": 1.0, \"color\": \"#7dff7a\"}});\n",
       "\tviewer_17404142190350213.setStyle({\"model\": -1, \"serial\": 29},{\"sphere\": {\"radius\": 1.0, \"color\": \"#7dff7a\"}});\n",
       "\tviewer_17404142190350213.setStyle({\"model\": -1, \"serial\": 30},{\"sphere\": {\"radius\": 1.0, \"color\": \"#7dff7a\"}});\n",
       "\tviewer_17404142190350213.setStyle({\"model\": -1, \"serial\": 31},{\"sphere\": {\"radius\": 1.0, \"color\": \"#7dff7a\"}});\n",
       "\tviewer_17404142190350213.setStyle({\"model\": -1, \"serial\": 32},{\"sphere\": {\"radius\": 1.0, \"color\": \"#7dff7a\"}});\n",
       "\tviewer_17404142190350213.setStyle({\"model\": -1, \"serial\": 33},{\"sphere\": {\"radius\": 1.0, \"color\": \"#7dff7a\"}});\n",
       "\tviewer_17404142190350213.setStyle({\"model\": -1, \"serial\": 34},{\"sphere\": {\"radius\": 1.0, \"color\": \"#7dff7a\"}});\n",
       "\tviewer_17404142190350213.setStyle({\"model\": -1, \"serial\": 35},{\"sphere\": {\"radius\": 1.0, \"color\": \"#7dff7a\"}});\n",
       "\tviewer_17404142190350213.setStyle({\"model\": -1, \"serial\": 36},{\"sphere\": {\"radius\": 1.0, \"color\": \"#7dff7a\"}});\n",
       "\tviewer_17404142190350213.setStyle({\"model\": -1, \"serial\": 37},{\"sphere\": {\"radius\": 1.0, \"color\": \"#7dff7a\"}});\n",
       "\tviewer_17404142190350213.setStyle({\"model\": -1, \"serial\": 38},{\"sphere\": {\"radius\": 1.0, \"color\": \"#7dff7a\"}});\n",
       "\tviewer_17404142190350213.setStyle({\"model\": -1, \"serial\": 39},{\"sphere\": {\"radius\": 1.0, \"color\": \"#7dff7a\"}});\n",
       "\tviewer_17404142190350213.setStyle({\"model\": -1, \"serial\": 40},{\"sphere\": {\"radius\": 1.0, \"color\": \"#7dff7a\"}});\n",
       "\tviewer_17404142190350213.setStyle({\"model\": -1, \"serial\": 41},{\"sphere\": {\"radius\": 1.0, \"color\": \"#7dff7a\"}});\n",
       "\tviewer_17404142190350213.setStyle({\"model\": -1, \"serial\": 42},{\"sphere\": {\"radius\": 1.0, \"color\": \"#7dff7a\"}});\n",
       "\tviewer_17404142190350213.setStyle({\"model\": -1, \"serial\": 43},{\"sphere\": {\"radius\": 1.0, \"color\": \"#7dff7a\"}});\n",
       "\tviewer_17404142190350213.setStyle({\"model\": -1, \"serial\": 44},{\"sphere\": {\"radius\": 1.0, \"color\": \"#7dff7a\"}});\n",
       "\tviewer_17404142190350213.setStyle({\"model\": -1, \"serial\": 45},{\"sphere\": {\"radius\": 1.0, \"color\": \"#7dff7a\"}});\n",
       "\tviewer_17404142190350213.setStyle({\"model\": -1, \"serial\": 46},{\"sphere\": {\"radius\": 1.0, \"color\": \"#7dff7a\"}});\n",
       "\tviewer_17404142190350213.setStyle({\"model\": -1, \"serial\": 47},{\"sphere\": {\"radius\": 1.0, \"color\": \"#7dff7a\"}});\n",
       "\tviewer_17404142190350213.setStyle({\"model\": -1, \"serial\": 48},{\"sphere\": {\"radius\": 1.0, \"color\": \"#7dff7a\"}});\n",
       "\tviewer_17404142190350213.setStyle({\"model\": -1, \"serial\": 49},{\"sphere\": {\"radius\": 1.0, \"color\": \"#7dff7a\"}});\n",
       "\tviewer_17404142190350213.setStyle({\"model\": -1, \"serial\": 50},{\"sphere\": {\"radius\": 1.0, \"color\": \"#7dff7a\"}});\n",
       "\tviewer_17404142190350213.setStyle({\"model\": -1, \"serial\": 51},{\"sphere\": {\"radius\": 1.0, \"color\": \"#7dff7a\"}});\n",
       "\tviewer_17404142190350213.setStyle({\"model\": -1, \"serial\": 52},{\"sphere\": {\"radius\": 1.0, \"color\": \"#7dff7a\"}});\n",
       "\tviewer_17404142190350213.setStyle({\"model\": -1, \"serial\": 53},{\"sphere\": {\"radius\": 1.0, \"color\": \"#7dff7a\"}});\n",
       "\tviewer_17404142190350213.setStyle({\"model\": -1, \"serial\": 54},{\"sphere\": {\"radius\": 1.0, \"color\": \"#7dff7a\"}});\n",
       "\tviewer_17404142190350213.setStyle({\"model\": -1, \"serial\": 55},{\"sphere\": {\"radius\": 1.0, \"color\": \"#7dff7a\"}});\n",
       "\tviewer_17404142190350213.setStyle({\"model\": -1, \"serial\": 56},{\"sphere\": {\"radius\": 1.0, \"color\": \"#7dff7a\"}});\n",
       "\tviewer_17404142190350213.setStyle({\"model\": -1, \"serial\": 57},{\"sphere\": {\"radius\": 1.0, \"color\": \"#7dff7a\"}});\n",
       "\tviewer_17404142190350213.setStyle({\"model\": -1, \"serial\": 58},{\"sphere\": {\"radius\": 1.0, \"color\": \"#7dff7a\"}});\n",
       "\tviewer_17404142190350213.setStyle({\"model\": -1, \"serial\": 59},{\"sphere\": {\"radius\": 1.0, \"color\": \"#7dff7a\"}});\n",
       "\tviewer_17404142190350213.setStyle({\"model\": -1, \"serial\": 60},{\"sphere\": {\"radius\": 1.0, \"color\": \"#7dff7a\"}});\n",
       "\tviewer_17404142190350213.setStyle({\"model\": -1, \"serial\": 61},{\"sphere\": {\"radius\": 1.0, \"color\": \"#7dff7a\"}});\n",
       "\tviewer_17404142190350213.setStyle({\"model\": -1, \"serial\": 62},{\"sphere\": {\"radius\": 1.0, \"color\": \"#7dff7a\"}});\n",
       "\tviewer_17404142190350213.setStyle({\"model\": -1, \"serial\": 63},{\"sphere\": {\"radius\": 1.0, \"color\": \"#7dff7a\"}});\n",
       "\tviewer_17404142190350213.setStyle({\"model\": -1, \"serial\": 64},{\"sphere\": {\"radius\": 1.0, \"color\": \"#7dff7a\"}});\n",
       "\tviewer_17404142190350213.setStyle({\"model\": -1, \"serial\": 65},{\"sphere\": {\"radius\": 1.0, \"color\": \"#7dff7a\"}});\n",
       "\tviewer_17404142190350213.setStyle({\"model\": -1, \"serial\": 66},{\"sphere\": {\"radius\": 1.0, \"color\": \"#7dff7a\"}});\n",
       "\tviewer_17404142190350213.setStyle({\"model\": -1, \"serial\": 67},{\"sphere\": {\"radius\": 1.0, \"color\": \"#7dff7a\"}});\n",
       "\tviewer_17404142190350213.setStyle({\"model\": -1, \"serial\": 68},{\"sphere\": {\"radius\": 1.0, \"color\": \"#7dff7a\"}});\n",
       "\tviewer_17404142190350213.setStyle({\"model\": -1, \"serial\": 69},{\"sphere\": {\"radius\": 1.0, \"color\": \"#7dff7a\"}});\n",
       "\tviewer_17404142190350213.setStyle({\"model\": -1, \"serial\": 70},{\"sphere\": {\"radius\": 1.0, \"color\": \"#7dff7a\"}});\n",
       "\tviewer_17404142190350213.setStyle({\"model\": -1, \"serial\": 71},{\"sphere\": {\"radius\": 1.0, \"color\": \"#7dff7a\"}});\n",
       "\tviewer_17404142190350213.setStyle({\"model\": -1, \"serial\": 72},{\"sphere\": {\"radius\": 1.0, \"color\": \"#7dff7a\"}});\n",
       "\tviewer_17404142190350213.setStyle({\"model\": -1, \"serial\": 73},{\"sphere\": {\"radius\": 1.0, \"color\": \"#7dff7a\"}});\n",
       "\tviewer_17404142190350213.setStyle({\"model\": -1, \"serial\": 74},{\"sphere\": {\"radius\": 1.0, \"color\": \"#7dff7a\"}});\n",
       "\tviewer_17404142190350213.setStyle({\"model\": -1, \"serial\": 75},{\"sphere\": {\"radius\": 1.0, \"color\": \"#7dff7a\"}});\n",
       "\tviewer_17404142190350213.setStyle({\"model\": -1, \"serial\": 76},{\"sphere\": {\"radius\": 1.0, \"color\": \"#7dff7a\"}});\n",
       "\tviewer_17404142190350213.setStyle({\"model\": -1, \"serial\": 77},{\"sphere\": {\"radius\": 1.0, \"color\": \"#7dff7a\"}});\n",
       "\tviewer_17404142190350213.setStyle({\"model\": -1, \"serial\": 78},{\"sphere\": {\"radius\": 1.0, \"color\": \"#7dff7a\"}});\n",
       "\tviewer_17404142190350213.setStyle({\"model\": -1, \"serial\": 79},{\"sphere\": {\"radius\": 1.0, \"color\": \"#7dff7a\"}});\n",
       "\tviewer_17404142190350213.setStyle({\"model\": -1, \"serial\": 80},{\"sphere\": {\"radius\": 1.0, \"color\": \"#7dff7a\"}});\n",
       "\tviewer_17404142190350213.setStyle({\"model\": -1, \"serial\": 81},{\"sphere\": {\"radius\": 1.0, \"color\": \"#7dff7a\"}});\n",
       "\tviewer_17404142190350213.setStyle({\"model\": -1, \"serial\": 82},{\"sphere\": {\"radius\": 1.0, \"color\": \"#7dff7a\"}});\n",
       "\tviewer_17404142190350213.setStyle({\"model\": -1, \"serial\": 83},{\"sphere\": {\"radius\": 1.0, \"color\": \"#7dff7a\"}});\n",
       "\tviewer_17404142190350213.setStyle({\"model\": -1, \"serial\": 84},{\"sphere\": {\"radius\": 1.0, \"color\": \"#7dff7a\"}});\n",
       "\tviewer_17404142190350213.setStyle({\"model\": -1, \"serial\": 85},{\"sphere\": {\"radius\": 1.0, \"color\": \"#7dff7a\"}});\n",
       "\tviewer_17404142190350213.setStyle({\"model\": -1, \"serial\": 86},{\"sphere\": {\"radius\": 1.0, \"color\": \"#7dff7a\"}});\n",
       "\tviewer_17404142190350213.setStyle({\"model\": -1, \"serial\": 87},{\"sphere\": {\"radius\": 1.0, \"color\": \"#7dff7a\"}});\n",
       "\tviewer_17404142190350213.setStyle({\"model\": -1, \"serial\": 88},{\"sphere\": {\"radius\": 1.0, \"color\": \"#7dff7a\"}});\n",
       "\tviewer_17404142190350213.setStyle({\"model\": -1, \"serial\": 89},{\"sphere\": {\"radius\": 1.0, \"color\": \"#7dff7a\"}});\n",
       "\tviewer_17404142190350213.setStyle({\"model\": -1, \"serial\": 90},{\"sphere\": {\"radius\": 1.0, \"color\": \"#7dff7a\"}});\n",
       "\tviewer_17404142190350213.setStyle({\"model\": -1, \"serial\": 91},{\"sphere\": {\"radius\": 1.0, \"color\": \"#7dff7a\"}});\n",
       "\tviewer_17404142190350213.setStyle({\"model\": -1, \"serial\": 92},{\"sphere\": {\"radius\": 1.0, \"color\": \"#7dff7a\"}});\n",
       "\tviewer_17404142190350213.setStyle({\"model\": -1, \"serial\": 93},{\"sphere\": {\"radius\": 1.0, \"color\": \"#7dff7a\"}});\n",
       "\tviewer_17404142190350213.setStyle({\"model\": -1, \"serial\": 94},{\"sphere\": {\"radius\": 1.0, \"color\": \"#7dff7a\"}});\n",
       "\tviewer_17404142190350213.setStyle({\"model\": -1, \"serial\": 95},{\"sphere\": {\"radius\": 1.0, \"color\": \"#7dff7a\"}});\n",
       "\tviewer_17404142190350213.setStyle({\"model\": -1, \"serial\": 96},{\"sphere\": {\"radius\": 1.0, \"color\": \"#7dff7a\"}});\n",
       "\tviewer_17404142190350213.setStyle({\"model\": -1, \"serial\": 97},{\"sphere\": {\"radius\": 1.0, \"color\": \"#7dff7a\"}});\n",
       "\tviewer_17404142190350213.setStyle({\"model\": -1, \"serial\": 98},{\"sphere\": {\"radius\": 1.0, \"color\": \"#7dff7a\"}});\n",
       "\tviewer_17404142190350213.setStyle({\"model\": -1, \"serial\": 99},{\"sphere\": {\"radius\": 1.0, \"color\": \"#7dff7a\"}});\n",
       "\tviewer_17404142190350213.setStyle({\"model\": -1, \"serial\": 100},{\"sphere\": {\"radius\": 1.0, \"color\": \"#7dff7a\"}});\n",
       "\tviewer_17404142190350213.setStyle({\"model\": -1, \"serial\": 101},{\"sphere\": {\"radius\": 1.0, \"color\": \"#7dff7a\"}});\n",
       "\tviewer_17404142190350213.setStyle({\"model\": -1, \"serial\": 102},{\"sphere\": {\"radius\": 1.0, \"color\": \"#7dff7a\"}});\n",
       "\tviewer_17404142190350213.setStyle({\"model\": -1, \"serial\": 103},{\"sphere\": {\"radius\": 1.0, \"color\": \"#7dff7a\"}});\n",
       "\tviewer_17404142190350213.setStyle({\"model\": -1, \"serial\": 104},{\"sphere\": {\"radius\": 1.0, \"color\": \"#7dff7a\"}});\n",
       "\tviewer_17404142190350213.setStyle({\"model\": -1, \"serial\": 105},{\"sphere\": {\"radius\": 1.0, \"color\": \"#7dff7a\"}});\n",
       "\tviewer_17404142190350213.setStyle({\"model\": -1, \"serial\": 106},{\"sphere\": {\"radius\": 1.0, \"color\": \"#7dff7a\"}});\n",
       "\tviewer_17404142190350213.setStyle({\"model\": -1, \"serial\": 107},{\"sphere\": {\"radius\": 1.0, \"color\": \"#7dff7a\"}});\n",
       "\tviewer_17404142190350213.setStyle({\"model\": -1, \"serial\": 108},{\"sphere\": {\"radius\": 1.0, \"color\": \"#7dff7a\"}});\n",
       "\tviewer_17404142190350213.zoomTo();\n",
       "viewer_17404142190350213.render();\n",
       "});\n",
       "</script>"
      ]
     },
     "metadata": {},
     "output_type": "display_data"
    }
   ],
   "source": [
    "am.plot.py3Dmol.view_3d(system)"
   ]
  },
  {
   "cell_type": "markdown",
   "metadata": {},
   "source": [
    "**File Cleanup**"
   ]
  },
  {
   "cell_type": "code",
   "execution_count": 26,
   "metadata": {},
   "outputs": [],
   "source": [
    "for fname in Path(pot_id).glob('*'):\n",
    "    fname.unlink()\n",
    "Path(pot_id).rmdir()\n",
    "Path('atom.dat').unlink()\n",
    "Path('nvt.in').unlink()\n",
    "Path('log.lammps').unlink()\n",
    "\n",
    "for fname in Path('.').glob('*.dump'):\n",
    "    fname.unlink()"
   ]
  },
  {
   "cell_type": "markdown",
   "metadata": {},
   "source": [
    " "
   ]
  },
  {
   "cell_type": "markdown",
   "metadata": {},
   "source": [
    "  "
   ]
  }
 ],
 "metadata": {
  "anaconda-cloud": {},
  "kernelspec": {
   "display_name": "ipr",
   "language": "python",
   "name": "ipr"
  },
  "language_info": {
   "codemirror_mode": {
    "name": "ipython",
    "version": 3
   },
   "file_extension": ".py",
   "mimetype": "text/x-python",
   "name": "python",
   "nbconvert_exporter": "python",
   "pygments_lexer": "ipython3",
   "version": "3.11.11"
  }
 },
 "nbformat": 4,
 "nbformat_minor": 4
}
