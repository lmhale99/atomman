{
 "cells": [
  {
   "cell_type": "markdown",
   "metadata": {},
   "source": [
    "# Introduction to atomman: Unit conversions\n",
    "\n",
    "__Lucas M. Hale__, [lucas.hale@nist.gov](mailto:lucas.hale@nist.gov?Subject=ipr-demo), _Materials Science and Engineering Division, NIST_.\n",
    "    \n",
    "[Disclaimers](http://www.nist.gov/public_affairs/disclaimer.cfm) "
   ]
  },
  {
   "cell_type": "markdown",
   "metadata": {},
   "source": [
    "## 1. Introduction <a id='section1'></a>\n",
    "\n",
    "*Updated 1.5.1*: The unit conversion tools have been migrated to yabadaba and completely rebuilt in an object-oriented fashion with new features and is no longer dependent on numericalunits.  The atomman.unitconvert module now is a wrapper around the yabadaba.unitconvert object and should behave identically as before for compatibility.\n",
    "\n",
    "The atomman.unitconvert submodule includes tools for handling unit conversions within calculations. The yabadaba.unitconvert module is based on the principles of the [numericalunits](https://pypi.python.org/pypi/numericalunits) package, extending it with useful functions and tools.\n",
    "\n",
    "Units are handled in the following manner:\n",
    "\n",
    "1. Parameters are 'set' using functions that take value(s) and unit fields. The functions convert the values to common working units.\n",
    "\n",
    "2. All calculations are performed in the compatible working units.\n",
    "\n",
    "3. When finished, 'get' functions convert values from the working units to whatever units you want.\n",
    "\n",
    "Note that units are *not* tracked throughout the calculation, only conversions are performed at the beginning and end.  This is advantageous as calculations and functions can be implemented without caring about the units, and there is no extra overhead.  The disadvantage is that there is no explicit checking of compatible conversions, although implicit checking is possible (see [Section #4](#section4), or the [numericalunits](https://pypi.python.org/pypi/numericalunits) documentation.)"
   ]
  },
  {
   "cell_type": "markdown",
   "metadata": {},
   "source": [
    "**Library Imports**"
   ]
  },
  {
   "cell_type": "code",
   "execution_count": 1,
   "metadata": {
    "tags": []
   },
   "outputs": [
    {
     "name": "stdout",
     "output_type": "stream",
     "text": [
      "atomman version = 1.5.0\n",
      "Notebook executed on 2025-02-26\n"
     ]
    }
   ],
   "source": [
    "# Standard Python libraries\n",
    "import datetime\n",
    "\n",
    "# http://www.numpy.org/\n",
    "import numpy as np\n",
    "\n",
    "# https://github.com/usnistgov/atomman\n",
    "import atomman as am\n",
    "\n",
    "# Old atomman unitconvert import - STILL WORKS FOR BACKWARDS COMPATIBILITY\n",
    "#import atomman.unitconvert as uc\n",
    "\n",
    "# New yabadaba unitconvert import\n",
    "from yabadaba import unitconvert as uc\n",
    "\n",
    "# Show atomman version\n",
    "print('atomman version =', am.__version__)\n",
    "\n",
    "# Show date of Notebook execution\n",
    "print('Notebook executed on', datetime.date.today())"
   ]
  },
  {
   "cell_type": "markdown",
   "metadata": {},
   "source": [
    "## 2. Basics <a id='section2'></a>"
   ]
  },
  {
   "cell_type": "markdown",
   "metadata": {},
   "source": [
    "### 2.1. Accessing values and the unit dict\n",
    "\n",
    "The unit dictionary stores all the defined units. This allows for units to be accessed by string."
   ]
  },
  {
   "cell_type": "code",
   "execution_count": 2,
   "metadata": {},
   "outputs": [
    {
     "name": "stdout",
     "output_type": "stream",
     "text": [
      "['A', 'ARichardson', 'Ah', 'C', 'Da', 'F', 'G', 'GHz', 'GHz·2π', 'GJ', 'GL', 'GN', 'GNewton', 'GPa', 'GV', 'GW', 'Gal', 'GeV', 'Gohm', 'Gpc', 'GΩ', 'H', 'Hartree', 'Hz', 'Hz·2π', 'J', 'K', 'KJos', 'L', 'M', 'MEarth', 'MHz', 'MHz·2π', 'MJ', 'ML', 'MN', 'MPa', 'MV', 'MW', 'Mbar', 'MeV', 'Mohm', 'Mpc', 'Msolar', 'MΩ', 'N', 'NA', 'Oe', 'PHz', 'PHz·2π', 'Pa', 'Phi0', 'REarth', 'RKlitz', 'Rgas', 'Rinf', 'Ry', 'S', 'T', 'THz', 'THz·2π', 'TV', 'TW', 'TeV', 'V', 'W', 'Wb', 'Wh', 'Z0', 'aBohr', 'aF', 'aL', 'alphaFS', 'amu', 'angstrom', 'astro_unit', 'atm', 'bar', 'btu', 'c0', 'cbar', 'cm', 'day', 'dbar', 'debye', 'degCinterval', 'degFinterval', 'dyn', 'e', 'eV', 'eotvos', 'eps0', 'erg', 'fA', 'fF', 'fJ', 'fL', 'fM', 'fN', 'fg', 'fm', 'fmol', 'foot', 'fs', 'g', 'g0', 'hPa', 'hPlanck', 'hbar', 'horsepower_imperial', 'horsepower_metric', 'hour', 'inch', 'kB', 'kDa', 'kG', 'kHz', 'kHz·2π', 'kJ', 'kL', 'kN', 'kPa', 'kV', 'kW', 'kWh', 'kbar', 'kcal', 'keV', 'kg', 'km', 'kohm', 'kpc', 'kΩ', 'lbf', 'lbm', 'lightyear', 'm', 'mA', 'mAh', 'mC', 'mG', 'mGal', 'mH', 'mHz', 'mHz·2π', 'mJ', 'mK', 'mL', 'mM', 'mN', 'mS', 'mT', 'mV', 'mW', 'mbar', 'me', 'meV', 'mg', 'mile', 'minute', 'mm', 'mmol', 'mn', 'mohm', 'mol', 'mp', 'ms', 'mtorr', 'mu0', 'mΩ', 'nA', 'nC', 'nF', 'nH', 'nJ', 'nK', 'nL', 'nM', 'nN', 'nS', 'nT', 'nV', 'nW', 'ng', 'nm', 'nmol', 'ns', 'ohm', 'pA', 'pF', 'pJ', 'pK', 'pL', 'pM', 'pN', 'pW', 'pc', 'pg', 'pi', 'pm', 'pmol', 'ps', 'psi', 'rpm', 'rpm·2π', 'rtHz', 's', 'sigmaSB', 'smallcal', 'thou', 'tonne', 'torr', 'uA', 'uBohr', 'uC', 'uF', 'uG', 'uGal', 'uH', 'uJ', 'uK', 'uL', 'uM', 'uN', 'uNuc', 'uS', 'uT', 'uV', 'uW', 'ug', 'um', 'umol', 'us', 'week', 'year', 'Å', 'ħ', 'Ω', 'αFS', 'ε0', 'μ0', 'π', 'σSB']\n"
     ]
    }
   ],
   "source": [
    "print(list(uc.unit.keys()))"
   ]
  },
  {
   "cell_type": "code",
   "execution_count": 3,
   "metadata": {},
   "outputs": [
    {
     "name": "stdout",
     "output_type": "stream",
     "text": [
      "{'A': 'ampere', 'ARichardson': 'Richardson constant', 'Ah': 'amp-hour', 'C': 'coulomb', 'Da': 'dalton', 'F': 'farad', 'G': 'gauss', 'GHz': 'gigahertz', 'GHz·2π': 'gigahertz times 2 pi', 'GJ': 'gigajoule', 'GL': 'gigaliter', 'GN': 'giganewton', 'GNewton': 'Gravitational constant', 'GPa': 'gigapascal', 'GV': 'gigavolt', 'GW': 'gigawatt', 'Gal': 'galileo', 'GeV': 'gigaelectron volt', 'Gohm': 'gigaohm', 'Gpc': 'gigaparsec', 'GΩ': 'gigaohm', 'H': 'henry', 'Hartree': 'Hartree energy, approximately 27.2 eV', 'Hz': 'hertz', 'Hz·2π': 'hertz times 2 pi', 'J': 'joule', 'K': 'kelvin', 'KJos': 'Josephson constant', 'L': 'liter', 'M': 'molar', 'MEarth': 'mass of earth', 'MHz': 'megahertz', 'MHz·2π': 'megahertz times 2 pi', 'MJ': 'megajoule', 'ML': 'megaliter', 'MN': 'meganewton', 'MPa': 'megapascal', 'MV': 'megavolt', 'MW': 'megawatt', 'Mbar': 'megabar', 'MeV': 'megaelectron volt', 'Mohm': 'megaohm', 'Mpc': 'megaparsec', 'Msolar': 'mass of the sun)', 'MΩ': 'megaohm', 'N': 'newton', 'NA': \"Avogadro's number\", 'Oe': 'oersted', 'PHz': 'petahertz', 'PHz·2π': 'petahertz times 2 pi', 'Pa': 'pascal', 'Phi0': 'magnetic flux quantum', 'REarth': 'radius of earth', 'RKlitz': 'von Klitzing constant', 'Rgas': 'ideal gas constant (see README)', 'Rinf': 'Rydberg constant', 'Ry': 'Rydberg energy, approximately 13.6 eV', 'S': 'siemens', 'T': 'tesla', 'THz': 'terahertz', 'THz·2π': 'terahertz times 2 pi', 'TV': 'teravolt', 'TW': 'terawatt', 'TeV': 'teraelectron volt', 'V': 'volt', 'W': 'watt', 'Wb': 'weber', 'Wh': 'watt-hour', 'Z0': 'vacuum impedance, 377 ohms', 'aBohr': 'Bohr radius', 'aF': 'attofarad', 'aL': 'attoliter', 'alphaFS': 'fine-structure constant', 'amu': 'atomic mass unit', 'angstrom': 'angstrom', 'astro_unit': 'astronomical unit', 'atm': 'standard atmosphere pressure', 'bar': 'bar', 'btu': 'British thermal unit', 'c0': 'speed of light in vacuum', 'cbar': 'centibar', 'cm': 'centimeter', 'day': 'solar day', 'dbar': 'decibar', 'debye': 'debye dipole moment, approximately 0.0208 e nm', 'degCinterval': 'temperature difference in degrees Celsius', 'degFinterval': 'temperature difference in degrees Fahrenheit', 'dyn': 'dyne', 'e': 'charge of proton', 'eV': 'electron volt', 'eotvos': 'eotvos', 'eps0': 'electric constant, permittivity of vacuum', 'erg': 'erg', 'fA': 'femtoampere', 'fF': 'femtofarad', 'fJ': 'femtogram', 'fL': 'femtoliter', 'fM': 'femtomolar', 'fN': 'femtonewton', 'fg': 'femtogram', 'fm': 'femtometer', 'fmol': 'femtomole', 'foot': 'foot', 'fs': 'femtosecond', 'g': 'gram', 'g0': 'standard earth gravitational acceleration', 'hPa': 'hectopascal', 'hPlanck': 'planck constant', 'hbar': 'reduced planck constant', 'horsepower_imperial': 'imperial horsepower', 'horsepower_metric': 'metric horsepower', 'hour': 'hour', 'inch': 'inch', 'kB': 'Boltzmann constant', 'kDa': 'kilodalton', 'kG': 'kilogauss', 'kHz': 'kilohertz', 'kHz·2π': 'kilohertz times 2 pi', 'kJ': 'kilojoule', 'kL': 'kiloliter', 'kN': 'kilonewton', 'kPa': 'kilopascal', 'kV': 'kilovolt', 'kW': 'kilowatt', 'kWh': 'kilowatt-hour', 'kbar': 'kilobar', 'kcal': 'kilocalorie (a.k.a large Calorie, dietary Calorie)', 'keV': 'kiloelectron volt', 'kg': 'kilogram', 'km': 'kilometer', 'kohm': 'kiloohm', 'kpc': 'kiloparsec', 'kΩ': 'kiloohm', 'lbf': 'pound-force (international avoirdupois pound)', 'lbm': 'pound mass (international avoirdupois pound)', 'lightyear': 'lightyear', 'm': 'meter', 'mA': 'milliampere', 'mAh': 'milliamp-hour', 'mC': 'millicoulomb', 'mG': 'milligauss', 'mGal': 'milligalileo', 'mH': 'millihenry', 'mHz': 'megahertz', 'mHz·2π': 'millihertz times 2 pi', 'mJ': 'milligram', 'mK': 'millikelvin', 'mL': 'milliliter', 'mM': 'millimolar', 'mN': 'millinewton', 'mS': 'millisiemens', 'mT': 'millitesla', 'mV': 'millivolt', 'mW': 'milliwatt', 'mbar': 'millibar', 'me': 'electron mass', 'meV': 'millielectron volt', 'mg': 'milligram', 'mile': 'mile', 'minute': 'minute', 'mm': 'millimeter', 'mmol': 'millimole', 'mn': 'neutron mass', 'mohm': 'milliohm', 'mol': 'mole', 'mp': 'proton mass', 'ms': 'millisecond', 'mtorr': 'millitorr', 'mu0': 'magnetic constant, permeability of vacuum', 'mΩ': 'milliohm', 'nA': 'nanoampere', 'nC': 'nanocoulomb', 'nF': 'nanofarad', 'nH': 'nanohenry', 'nJ': 'nanogram', 'nK': 'nanokelvin', 'nL': 'nanoliter', 'nM': 'nanomolar', 'nN': 'nanonewton', 'nS': 'nanosiemens', 'nT': 'nanotesla', 'nV': 'nanovolt', 'nW': 'nanowatt', 'ng': 'nanogram', 'nm': 'nanometer', 'nmol': 'nanomole', 'ns': 'nanosecond', 'ohm': 'ohm', 'pA': 'picoampere', 'pF': 'picofarad', 'pJ': 'picogram', 'pK': 'picokelvin', 'pL': 'picoliter', 'pM': 'picomolar', 'pN': 'piconewton', 'pW': 'picowatt', 'pc': 'parsec', 'pg': 'picogram', 'pi': 'pi', 'pm': 'picometer', 'pmol': 'picomole', 'ps': 'picosecond', 'psi': 'pounds force per square inch', 'rpm': 'revolutions per minute', 'rpm·2π': 'revolutions per minute times 2 pi', 'rtHz': 'root Hertz', 's': 'second', 'sigmaSB': 'Stefan-Boltzmann constant', 'smallcal': 'small calorie (a.k.a. gram calorie)', 'thou': 'thousandth of an inch, mil', 'tonne': 'tonne', 'torr': 'torr', 'uA': 'microampere', 'uBohr': 'Bohr magneton', 'uC': 'microcoulomb', 'uF': 'microfarad', 'uG': 'microgauss', 'uGal': 'microgalileo', 'uH': 'microhenry', 'uJ': 'microgram', 'uK': 'microkelvin', 'uL': 'microliter', 'uM': 'micromolar', 'uN': 'micronewton', 'uNuc': 'nuclear magneton', 'uS': 'microsiemens', 'uT': 'microtesla', 'uV': 'microvolt', 'uW': 'microwatt', 'ug': 'microgram', 'um': 'micrometer', 'umol': 'micromole', 'us': 'microsecond', 'week': 'week', 'year': 'sidereal year', 'Å': 'angstrom', 'ħ': 'reduced planck constant', 'Ω': 'ohm', 'αFS': 'fine-structure constant', 'ε0': 'electric constant, permittivity of vacuum', 'μ0': 'magnetic constant, permeability of vacuum', 'π': 'pi', 'σSB': 'Stefan-Boltzmann constant'}\n"
     ]
    }
   ],
   "source": [
    "try:\n",
    "    print(uc.unitdoc)\n",
    "except:\n",
    "    print('new feature of yabadaba.unitconvert - not part of atomman.unitconvert')"
   ]
  },
  {
   "cell_type": "code",
   "execution_count": 4,
   "metadata": {},
   "outputs": [
    {
     "data": {
      "text/plain": [
       "1.0"
      ]
     },
     "execution_count": 4,
     "metadata": {},
     "output_type": "execute_result"
    }
   ],
   "source": [
    "uc.Å"
   ]
  },
  {
   "cell_type": "markdown",
   "metadata": {},
   "source": [
    "### 2.2. Working units\n",
    "\n",
    "By default, atomman defines working units in:\n",
    "    \n",
    "- length = 'angstrom' = 'Å'\n",
    "- mass = 'amu'\n",
    "- energy = 'eV'\n",
    "- charge = 'e'\n",
    "- temperature = 'K'\n",
    "\n",
    "All other units are derived relative to these."
   ]
  },
  {
   "cell_type": "code",
   "execution_count": 30,
   "metadata": {},
   "outputs": [
    {
     "name": "stdout",
     "output_type": "stream",
     "text": [
      "angstrom = 1.6593375596177476e-10\n",
      "amu =      1.7000188734621984e-27\n",
      "eV =       3.1873331996354783e-22\n",
      "e =        6.517694414297583e-19\n",
      "K =        28.915394360139015\n",
      "nm =       1.6593375596177477e-09\n",
      "g =        0.0010237752954183937\n",
      "J =        0.0019893769088854896\n",
      "ps =       3.764250615323231e-11\n"
     ]
    }
   ],
   "source": [
    "print('angstrom =', uc.unit['angstrom'])\n",
    "print('amu =     ', uc.unit['amu'])\n",
    "print('eV =      ', uc.unit['eV'])\n",
    "print('e =       ', uc.unit['e'])\n",
    "print('K =       ', uc.unit['K'])\n",
    "print('nm =      ', uc.unit['nm'])\n",
    "print('g =       ', uc.unit['g'])\n",
    "print('J =       ', uc.unit['J'])\n",
    "print('ps =      ', uc.unit['ps'])"
   ]
  },
  {
   "cell_type": "markdown",
   "metadata": {},
   "source": [
    "### 2.3. reset_units()\n",
    "\n",
    "The working units can be altered using reset_units(). You can specify up to four out of five of length, mass, time, energy, and charge. If less than four values are given, SI units are used. Temperature is always 'K' when values are specified."
   ]
  },
  {
   "cell_type": "code",
   "execution_count": 4,
   "metadata": {},
   "outputs": [
    {
     "name": "stdout",
     "output_type": "stream",
     "text": [
      "angstrom = 0.09999999999999999\n",
      "amu =      1.6605390666e-24\n",
      "eV =       1.6021766339999996e-22\n",
      "e =        1.602176634e-19\n",
      "K =        1.0\n",
      "nm =       0.9999999999999999\n",
      "g =        1.0\n",
      "J =        0.0009999999999999998\n",
      "ps =       1.0\n"
     ]
    }
   ],
   "source": [
    "# Reset working units such that length is in 'nm', mass is in 'g' and time is in 'ps'\n",
    "uc.reset_units(length='nm', mass='g', time='ps')\n",
    "\n",
    "print('angstrom =', uc.unit['angstrom'])\n",
    "print('amu =     ', uc.unit['amu'])\n",
    "print('eV =      ', uc.unit['eV'])\n",
    "print('e =       ', uc.unit['e'])\n",
    "print('K =       ', uc.unit['K'])\n",
    "print('nm =      ', uc.unit['nm'])\n",
    "print('g =       ', uc.unit['g'])\n",
    "print('J =       ', uc.unit['J'])\n",
    "print('ps =      ', uc.unit['ps'])"
   ]
  },
  {
   "cell_type": "markdown",
   "metadata": {},
   "source": [
    "Alternatively, if you call reset_units without arguments it will use the default numericalunits option and generate random working units.  This can be useful for debugging code (see [Section #4](#section4), or the [numericalunits](https://pypi.python.org/pypi/numericalunits) documentation)."
   ]
  },
  {
   "cell_type": "code",
   "execution_count": 5,
   "metadata": {},
   "outputs": [
    {
     "name": "stdout",
     "output_type": "stream",
     "text": [
      "angstrom = 6.156441655028568e-12\n",
      "amu =      3.164814275766646e-26\n",
      "eV =       1.05419055727878e-20\n",
      "e =        2.7686786295353443e-18\n",
      "K =        1.644683792397801\n",
      "nm =       6.156441655028568e-11\n",
      "g =        0.019058957054510568\n",
      "J =        0.06579739929466354\n",
      "ps =       1.0477917381280473e-12\n"
     ]
    }
   ],
   "source": [
    "# Reset working units to random values\n",
    "uc.reset_units()\n",
    "\n",
    "print('angstrom =', uc.unit['angstrom'])\n",
    "print('amu =     ', uc.unit['amu'])\n",
    "print('eV =      ', uc.unit['eV'])\n",
    "print('e =       ', uc.unit['e'])\n",
    "print('K =       ', uc.unit['K'])\n",
    "print('nm =      ', uc.unit['nm'])\n",
    "print('g =       ', uc.unit['g'])\n",
    "print('J =       ', uc.unit['J'])\n",
    "print('ps =      ', uc.unit['ps'])"
   ]
  },
  {
   "cell_type": "code",
   "execution_count": 6,
   "metadata": {},
   "outputs": [],
   "source": [
    "# Return working units to atomman's default\n",
    "uc.reset_units(length='angstrom', mass='amu', energy='eV', charge='e')"
   ]
  },
  {
   "cell_type": "markdown",
   "metadata": {},
   "source": [
    "### 2.4. Setting and getting static values\n",
    "\n",
    "Static numerical values can be set and get in one of two ways:\n",
    "\n",
    "- set by multiplying value by units, and get by dividing by units.\n",
    "\n",
    "- use the set_in_units() and get_in_units() functions."
   ]
  },
  {
   "cell_type": "markdown",
   "metadata": {},
   "source": [
    "#### 2.4.1. Direct setting and getting"
   ]
  },
  {
   "cell_type": "code",
   "execution_count": 7,
   "metadata": {},
   "outputs": [
    {
     "name": "stdout",
     "output_type": "stream",
     "text": [
      "10 angstrom^3 =\n",
      "0.01 nm^3\n"
     ]
    }
   ],
   "source": [
    "# Convert volume from angstrom^3 to nm^3\n",
    "print('10 angstrom^3 =')\n",
    "volume = 10 * uc.unit['angstrom']**3\n",
    "\n",
    "print(volume / uc.unit['nm']**3, 'nm^3')"
   ]
  },
  {
   "cell_type": "code",
   "execution_count": 8,
   "metadata": {},
   "outputs": [
    {
     "name": "stdout",
     "output_type": "stream",
     "text": [
      "5.5 kg/(m*s^2) =\n",
      "5.5 Pa\n"
     ]
    }
   ],
   "source": [
    "# Show Pa = kg/(m*s^2)\n",
    "print('5.5 kg/(m*s^2) =')\n",
    "pressure = 5.5 * uc.unit['kg'] / (uc.unit['m']*uc.unit['s']**2)\n",
    "\n",
    "print(pressure / uc.unit['Pa'], 'Pa')"
   ]
  },
  {
   "cell_type": "code",
   "execution_count": 9,
   "metadata": {},
   "outputs": [
    {
     "name": "stdout",
     "output_type": "stream",
     "text": [
      "[[1100. 1200. 1300.]\n",
      " [1200. 2200. 2300.]\n",
      " [1300. 2300. 3300.]] MPa\n"
     ]
    }
   ],
   "source": [
    "# Show that conversions work with arrays\n",
    "stress = np.array([[1.1, 1.2, 1.3],\n",
    "                   [1.2, 2.2, 2.3],\n",
    "                   [1.3, 2.3, 3.3]]) * uc.unit['GPa']\n",
    "\n",
    "print(stress / uc.unit['MPa'], 'MPa')"
   ]
  },
  {
   "cell_type": "markdown",
   "metadata": {},
   "source": [
    "#### 2.4.2. parse()\n",
    "\n",
    "As the above example shows, expressing complex units can get messy and unclear. The parse() function makes this easier by allowing complex units to be parsed from strings."
   ]
  },
  {
   "cell_type": "code",
   "execution_count": 10,
   "metadata": {},
   "outputs": [
    {
     "name": "stdout",
     "output_type": "stream",
     "text": [
      "10 angstrom^3 =\n",
      "0.01 nm^3\n"
     ]
    }
   ],
   "source": [
    "# Convert volume from angstrom^3 to nm^3\n",
    "print('10 angstrom^3 =')\n",
    "volume = 10 * uc.parse('angstrom^3')\n",
    "\n",
    "print(volume / uc.parse('nm^3'), 'nm^3')"
   ]
  },
  {
   "cell_type": "code",
   "execution_count": 11,
   "metadata": {},
   "outputs": [
    {
     "name": "stdout",
     "output_type": "stream",
     "text": [
      "5.5 kg/(m*s^2) =\n",
      "5.5 Pa\n"
     ]
    }
   ],
   "source": [
    "# Show Pa = kg/(m*s^2)\n",
    "print('5.5 kg/(m*s^2) =')\n",
    "pressure = 5.5 * uc.parse('kg/(m*s^2)')\n",
    "\n",
    "print(pressure / uc.parse('Pa'), 'Pa')"
   ]
  },
  {
   "cell_type": "markdown",
   "metadata": {},
   "source": [
    "#### 2.4.3. set_in_units() and get_in_units()\n",
    "\n",
    "Both functions take a value and a unit string, call parse on the unit string and perform the correct * or /."
   ]
  },
  {
   "cell_type": "code",
   "execution_count": 12,
   "metadata": {},
   "outputs": [
    {
     "name": "stdout",
     "output_type": "stream",
     "text": [
      "10 angstrom^3 =\n",
      "0.01 nm^3\n"
     ]
    }
   ],
   "source": [
    "# Convert volume from angstrom^3 to nm^3\n",
    "print('10 angstrom^3 =')\n",
    "volume = uc.set_in_units(10, 'angstrom^3')\n",
    "\n",
    "print(uc.get_in_units(volume, 'nm^3'), 'nm^3')"
   ]
  },
  {
   "cell_type": "code",
   "execution_count": 13,
   "metadata": {},
   "outputs": [
    {
     "name": "stdout",
     "output_type": "stream",
     "text": [
      "5.5 kg/(m*s^2) =\n",
      "5.5 Pa\n"
     ]
    }
   ],
   "source": [
    "# Show Pa = kg/(m*s^2)\n",
    "print('5.5 kg/(m*s^2) =')\n",
    "pressure = uc.set_in_units(5.5, 'kg/(m*s^2)')\n",
    "\n",
    "print(uc.get_in_units(pressure, 'Pa'), 'Pa')"
   ]
  },
  {
   "cell_type": "code",
   "execution_count": 14,
   "metadata": {},
   "outputs": [
    {
     "name": "stdout",
     "output_type": "stream",
     "text": [
      "[[1100. 1200. 1300.]\n",
      " [1200. 2200. 2300.]\n",
      " [1300. 2300. 3300.]] MPa\n"
     ]
    }
   ],
   "source": [
    "# Show that conversions work with arrays\n",
    "stress = uc.set_in_units(np.array([[1.1, 1.2, 1.3],\n",
    "                                   [1.2, 2.2, 2.3],\n",
    "                                   [1.3, 2.3, 3.3]]), 'GPa')\n",
    "\n",
    "print(uc.get_in_units(stress, 'MPa'), 'MPa')"
   ]
  },
  {
   "cell_type": "markdown",
   "metadata": {},
   "source": [
    "### 2.5. set_literal()\n",
    "\n",
    "Values can also be read in from strings with set_literal()."
   ]
  },
  {
   "cell_type": "code",
   "execution_count": 15,
   "metadata": {},
   "outputs": [
    {
     "name": "stdout",
     "output_type": "stream",
     "text": [
      "10 angstrom^3 =\n",
      "0.01 nm^3\n"
     ]
    }
   ],
   "source": [
    "# Convert volume from angstrom^3 to nm^3\n",
    "print('10 angstrom^3 =')\n",
    "volume = uc.set_literal('10 angstrom^3')\n",
    "\n",
    "print(uc.get_in_units(volume, 'nm^3'), 'nm^3')"
   ]
  },
  {
   "cell_type": "code",
   "execution_count": 16,
   "metadata": {},
   "outputs": [
    {
     "name": "stdout",
     "output_type": "stream",
     "text": [
      "[[1100. 1200. 1300.]\n",
      " [1200. 2200. 2300.]\n",
      " [1300. 2300. 3300.]] MPa\n"
     ]
    }
   ],
   "source": [
    "# Show that conversions work with arrays\n",
    "stress = uc.set_literal(\"\"\"[[1.1, 1.2, 1.3], \n",
    "                            [1.2, 2.2, 2.3], \n",
    "                            [1.3, 2.3, 3.3]] GPa\"\"\")\n",
    "\n",
    "print(uc.get_in_units(stress, 'MPa'), 'MPa')"
   ]
  },
  {
   "cell_type": "markdown",
   "metadata": {},
   "source": [
    "## 3. Data model representations <a id='section3'></a>\n",
    "\n",
    "In addition to the basic conversions, unitconvert also allows for the values to be returned as and extracted from a [DataModelDict](https://github.com/usnistgov/DataModelDict). This provides a means of representing the data equivalently in either JSON or XML."
   ]
  },
  {
   "cell_type": "markdown",
   "metadata": {},
   "source": [
    "### 3.1. model()\n",
    "\n",
    "Values can be converted into a structured data model using model()."
   ]
  },
  {
   "cell_type": "code",
   "execution_count": 17,
   "metadata": {},
   "outputs": [
    {
     "name": "stdout",
     "output_type": "stream",
     "text": [
      "<value>40.0</value><unit>angstrom</unit>\n"
     ]
    }
   ],
   "source": [
    "# Set length as 4 nm\n",
    "length = uc.set_in_units(4, 'nm')\n",
    "\n",
    "# Transform length into a model with units in angstrom\n",
    "lmodel = uc.model(length, 'angstrom')\n",
    "\n",
    "# Print lmodel as XML\n",
    "print(lmodel.xml(full_document=False))"
   ]
  },
  {
   "cell_type": "code",
   "execution_count": 18,
   "metadata": {},
   "outputs": [
    {
     "name": "stdout",
     "output_type": "stream",
     "text": [
      "{\n",
      "  \"value\": [\n",
      "    10.0,\n",
      "    20.0,\n",
      "    30.0,\n",
      "    40.0,\n",
      "    50.0\n",
      "  ],\n",
      "  \"unit\": \"K\"\n",
      "}\n"
     ]
    }
   ],
   "source": [
    "# Set list of temperatures in K\n",
    "temperatures = uc.set_in_units([10,20,30,40,50], 'K')\n",
    "\n",
    "# Transform temperatures into a model with units in K\n",
    "tmodel = uc.model(temperatures, 'K')\n",
    "\n",
    "# Print tmodel as JSON\n",
    "print(tmodel.json(indent=2))"
   ]
  },
  {
   "cell_type": "markdown",
   "metadata": {},
   "source": [
    "For equivalent JSON/XML representation, values with 2 or more dimensions are flattened and the shape is included in the model."
   ]
  },
  {
   "cell_type": "code",
   "execution_count": 19,
   "metadata": {},
   "outputs": [
    {
     "name": "stdout",
     "output_type": "stream",
     "text": [
      "{\"value\": [1100.0000000000002, 0.0, 0.0, 0.0, 2000.0000000000002, 500.00000000000006, 0.0, 500.00000000000006, -1400.0], \"shape\": [3, 3], \"unit\": \"kPa\"}\n",
      "\n",
      "<value>1100.0000000000002</value><value>0.0</value><value>0.0</value><value>0.0</value><value>2000.0000000000002</value><value>500.00000000000006</value><value>0.0</value><value>500.00000000000006</value><value>-1400.0</value><shape>3</shape><shape>3</shape><unit>kPa</unit>\n"
     ]
    }
   ],
   "source": [
    "# Set stress tensor in 'MPa'\n",
    "stress = uc.set_in_units(np.array([[1.1, 0.0, 0.0],\n",
    "                                   [0.0, 2.0, 0.5],\n",
    "                                   [0.0, 0.5, -1.4]]), 'MPa')\n",
    "                         \n",
    "# Transform stress into a model with units in kPa\n",
    "smodel = uc.model(stress, 'kPa')\n",
    "\n",
    "# Print smodel as JSON\n",
    "print(smodel.json())\n",
    "print()\n",
    "\n",
    "# Print smodel as XML\n",
    "print(smodel.xml(full_document=False))"
   ]
  },
  {
   "cell_type": "markdown",
   "metadata": {},
   "source": [
    "### 3.2. value_unit()\n",
    "\n",
    "Values can then be read back in from a model, XML or JSON using value_unit()."
   ]
  },
  {
   "cell_type": "code",
   "execution_count": 20,
   "metadata": {},
   "outputs": [
    {
     "name": "stdout",
     "output_type": "stream",
     "text": [
      "4.0 nm\n"
     ]
    }
   ],
   "source": [
    "# Read lmode to set length\n",
    "length = uc.value_unit(lmodel)\n",
    "\n",
    "# Print length in nm\n",
    "print(uc.get_in_units(length, 'nm'), 'nm')"
   ]
  },
  {
   "cell_type": "code",
   "execution_count": 21,
   "metadata": {},
   "outputs": [
    {
     "name": "stdout",
     "output_type": "stream",
     "text": [
      "[10. 20. 30. 40. 50.] K\n"
     ]
    }
   ],
   "source": [
    "# Read tmodel to set temperatures \n",
    "temperatures = uc.value_unit(tmodel)\n",
    "\n",
    "# Print temperatures in K\n",
    "print(uc.get_in_units(temperatures, 'K'), 'K')"
   ]
  },
  {
   "cell_type": "code",
   "execution_count": 22,
   "metadata": {},
   "outputs": [
    {
     "name": "stdout",
     "output_type": "stream",
     "text": [
      "[[ 1.1  0.   0. ]\n",
      " [ 0.   2.   0.5]\n",
      " [ 0.   0.5 -1.4]] MPa\n"
     ]
    }
   ],
   "source": [
    "# Read smodel to set stress \n",
    "stress = uc.value_unit(smodel)\n",
    "\n",
    "# Print stress in 'MPa'\n",
    "print(uc.get_in_units(stress, 'MPa'), 'MPa')"
   ]
  },
  {
   "cell_type": "markdown",
   "metadata": {},
   "source": [
    "### 3.3. error_unit()\n",
    "\n",
    "Standard errors associated with each given value can also be included in the model, which can then be retrieved using error_unit()."
   ]
  },
  {
   "cell_type": "code",
   "execution_count": 23,
   "metadata": {},
   "outputs": [
    {
     "name": "stdout",
     "output_type": "stream",
     "text": [
      "{\n",
      "  \"value\": [\n",
      "    0.010761924833651224,\n",
      "    0.019055060970069277,\n",
      "    0.030306586239399236,\n",
      "    0.04075359992454745,\n",
      "    0.05040742157492696\n",
      "  ],\n",
      "  \"error\": [\n",
      "    0.002017814807053124,\n",
      "    0.0020301715996898497,\n",
      "    0.001959040155310966,\n",
      "    0.0019370789346875056,\n",
      "    0.002073953763747518\n",
      "  ],\n",
      "  \"unit\": \"m\"\n",
      "}\n"
     ]
    }
   ],
   "source": [
    "# Generate realistic-looking nonsense\n",
    "xcoordinate = np.array([1, 2, 3, 4, 5]) + 0.2 * np.random.rand(5) - 0.1\n",
    "xcoorderror = np.array([0.2, 0.2, 0.2, 0.2, 0.2]) + 0.02 * np.random.rand(5) - 0.01\n",
    "\n",
    "# Assign units to nonsense\n",
    "xcoordinate = uc.set_in_units(xcoordinate, 'cm')\n",
    "xcoorderror = uc.set_in_units(xcoorderror, 'cm')\n",
    "\n",
    "# Generate model of nonsense with error\n",
    "model = uc.model(xcoordinate, 'm', error=xcoorderror)\n",
    "print(model.json(indent=2))"
   ]
  },
  {
   "cell_type": "markdown",
   "metadata": {},
   "source": [
    "Errors can then be similarly extracted from the model using error_unit()"
   ]
  },
  {
   "cell_type": "code",
   "execution_count": 24,
   "metadata": {},
   "outputs": [
    {
     "name": "stdout",
     "output_type": "stream",
     "text": [
      "value = [10.76192483 19.05506097 30.30658624 40.75359992 50.40742157] mm\n",
      "error = [2.01781481 2.0301716  1.95904016 1.93707893 2.07395376] mm\n"
     ]
    }
   ],
   "source": [
    "# Read realistic-looking nonsense back in\n",
    "print('value =', uc.get_in_units(uc.value_unit(model), 'mm'), 'mm')\n",
    "print('error =', uc.get_in_units(uc.error_unit(model), 'mm'), 'mm')"
   ]
  },
  {
   "cell_type": "markdown",
   "metadata": {},
   "source": [
    "## 4. Unit debugging <a id='section4'></a>\n",
    "\n",
    "There is no explicit unit control with unitconvert, but correct unit conversions can still be debugged and tested by seeing if changing the working units changes values."
   ]
  },
  {
   "cell_type": "code",
   "execution_count": 25,
   "metadata": {},
   "outputs": [
    {
     "name": "stdout",
     "output_type": "stream",
     "text": [
      "57 atm = 0.005775525 GPa\n",
      "57 atm = 0.005775524999999999 GPa\n"
     ]
    }
   ],
   "source": [
    "# Print valid conversion\n",
    "print('57 atm =', end=' ')\n",
    "time = uc.set_in_units(57, 'atm')\n",
    "print(uc.get_in_units(time, 'GPa'), 'GPa')\n",
    "\n",
    "# Reset working units to random values\n",
    "uc.reset_units()\n",
    "\n",
    "# Print valid conversion again showing same results\n",
    "print('57 atm =', end=' ')\n",
    "time = uc.set_in_units(57, 'atm')\n",
    "print(uc.get_in_units(time, 'GPa'), 'GPa')"
   ]
  },
  {
   "cell_type": "code",
   "execution_count": 26,
   "metadata": {},
   "outputs": [
    {
     "name": "stdout",
     "output_type": "stream",
     "text": [
      "57 s = 4.821698135250222 GPa\n",
      "57 s = 0.004927657838472809 GPa\n"
     ]
    }
   ],
   "source": [
    "# Print invalid conversion\n",
    "print('57 s =', end=' ')\n",
    "time = uc.set_in_units(57, 's')\n",
    "print(uc.get_in_units(time, 'GPa'), 'GPa')\n",
    "\n",
    "# Reset working units to random values\n",
    "uc.reset_units()\n",
    "\n",
    "# Print invalid conversion again showing different results\n",
    "print('57 s =', end=' ')\n",
    "time = uc.set_in_units(57, 's')\n",
    "print(uc.get_in_units(time, 'GPa'), 'GPa')"
   ]
  },
  {
   "cell_type": "markdown",
   "metadata": {},
   "source": [
    " "
   ]
  }
 ],
 "metadata": {
  "kernelspec": {
   "display_name": "ipr",
   "language": "python",
   "name": "ipr"
  },
  "language_info": {
   "codemirror_mode": {
    "name": "ipython",
    "version": 3
   },
   "file_extension": ".py",
   "mimetype": "text/x-python",
   "name": "python",
   "nbconvert_exporter": "python",
   "pygments_lexer": "ipython3",
   "version": "3.11.11"
  }
 },
 "nbformat": 4,
 "nbformat_minor": 4
}
