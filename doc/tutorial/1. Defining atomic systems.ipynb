{
 "cells": [
  {
   "cell_type": "markdown",
   "metadata": {},
   "source": [
    "# Introduction to atomman: Defining atomic systems\n",
    "\n",
    "__Lucas M. Hale__, [lucas.hale@nist.gov](mailto:lucas.hale@nist.gov?Subject=ipr-demo), _Materials Science and Engineering Division, NIST_.\n",
    "    \n",
    "[Disclaimers](http://www.nist.gov/public_affairs/disclaimer.cfm) "
   ]
  },
  {
   "cell_type": "markdown",
   "metadata": {},
   "source": [
    "## 1. Introduction <a id='section1'></a>\n",
    "\n",
    "This Notebook provides an introduction to creating and manipulating atomistic systems using atomman. "
   ]
  },
  {
   "cell_type": "markdown",
   "metadata": {},
   "source": [
    "**Library Imports**"
   ]
  },
  {
   "cell_type": "code",
   "execution_count": 1,
   "metadata": {},
   "outputs": [
    {
     "name": "stdout",
     "output_type": "stream",
     "text": [
      "atomman version = 1.5.0\n",
      "Notebook executed on 2025-02-24\n"
     ]
    }
   ],
   "source": [
    "# Standard Python libraries\n",
    "import os\n",
    "from copy import deepcopy\n",
    "import datetime\n",
    "\n",
    "# http://www.numpy.org/\n",
    "import numpy as np    \n",
    "\n",
    "# https://github.com/usnistgov/atomman\n",
    "import atomman as am        \n",
    "import atomman.unitconvert as uc\n",
    "\n",
    "# Show atomman version\n",
    "print('atomman version =', am.__version__)\n",
    "\n",
    "# Show date of Notebook execution\n",
    "print('Notebook executed on', datetime.date.today())"
   ]
  },
  {
   "cell_type": "markdown",
   "metadata": {},
   "source": [
    "## 2. Create a System <a id='section2'></a>\n",
    "\n",
    "Atomic systems are represented with three Python objects: Box, Atoms, and System."
   ]
  },
  {
   "cell_type": "markdown",
   "metadata": {},
   "source": [
    "### 2.1. Box\n",
    "\n",
    "The Box class defines a generic parallelepiped for the system's boundaries.  \n",
    "\n",
    "See the [1.1. Box class Jupyter Notebook](1.1. Box class.ipynb) for more detailed information and options."
   ]
  },
  {
   "cell_type": "markdown",
   "metadata": {},
   "source": [
    "#### 2.1.1. Create Box\n",
    "\n",
    "Boxes can be defined using a variety of formats.  Here, we'll define a box using lattice parameters."
   ]
  },
  {
   "cell_type": "code",
   "execution_count": 2,
   "metadata": {},
   "outputs": [],
   "source": [
    "# a = 4.05 angstroms (Al fcc lattice constant)\n",
    "a = uc.set_in_units(4.05, 'angstrom')\n",
    "\n",
    "# Create cubic box\n",
    "box = am.Box.cubic(a=a)"
   ]
  },
  {
   "cell_type": "markdown",
   "metadata": {},
   "source": [
    "#### 2.1.2. Access Box properties"
   ]
  },
  {
   "cell_type": "markdown",
   "metadata": {},
   "source": [
    "The string of Box shows four Cartesian vectors: the three box vectors (avect, bvect, and cvect) and the origin position."
   ]
  },
  {
   "cell_type": "code",
   "execution_count": 3,
   "metadata": {},
   "outputs": [
    {
     "name": "stdout",
     "output_type": "stream",
     "text": [
      "avect =  [ 4.050,  0.000,  0.000]\n",
      "bvect =  [ 0.000,  4.050,  0.000]\n",
      "cvect =  [ 0.000,  0.000,  4.050]\n",
      "origin = [ 0.000,  0.000,  0.000]\n"
     ]
    }
   ],
   "source": [
    "print(box)"
   ]
  },
  {
   "cell_type": "markdown",
   "metadata": {},
   "source": [
    "The parameters of the Box can also be retrieved in a variety of formats.  Some examples are shown here."
   ]
  },
  {
   "cell_type": "code",
   "execution_count": 4,
   "metadata": {},
   "outputs": [
    {
     "name": "stdout",
     "output_type": "stream",
     "text": [
      "a = 4.05\n",
      "b = 4.05\n",
      "c = 4.05\n",
      "alpha = 90.0\n",
      "beta  = 90.0\n",
      "gamma = 90.0\n"
     ]
    }
   ],
   "source": [
    "print('a =', box.a)\n",
    "print('b =', box.b)\n",
    "print('c =', box.c)\n",
    "print('alpha =', box.alpha)\n",
    "print('beta  =', box.beta)\n",
    "print('gamma =', box.gamma)"
   ]
  },
  {
   "cell_type": "markdown",
   "metadata": {},
   "source": [
    "### 2.2. Atoms\n",
    "\n",
    "The Atoms class collects per-atom properties that can be freely assigned. The only limitations are that the number of atoms is constant, and that values for the per-atom properties must be given for all atoms.\n",
    "\n",
    "See the [1.2. Atoms class Jupyter Notebook](1.2. Atoms class.ipynb) for more detailed information and options."
   ]
  },
  {
   "cell_type": "markdown",
   "metadata": {},
   "source": [
    "#### 2.2.1. Create Atoms\n",
    "\n",
    "When initializing an Atoms object, all keyword arguments (except natoms and prop) will be interpreted as property names.  Values for each property must be given for each atom, or only one value given in which case all atoms will be assigned the same value.\n",
    "\n",
    "By default, each Atoms instance has two per-atom properties: \n",
    "\n",
    "- __atype__ is an integer atomic type. If not given, atype will be set to 1 for all atoms.\n",
    "\n",
    "- __pos__ is the 3D vector position.  If not given, pos will be set to [0,0,0] for all atoms."
   ]
  },
  {
   "cell_type": "code",
   "execution_count": 5,
   "metadata": {},
   "outputs": [],
   "source": [
    "# Create Atoms for an fcc unit cell\n",
    "atype = 1\n",
    "pos = [[0.0, 0.0, 0.0], \n",
    "       [0.5, 0.5, 0.0], \n",
    "       [0.5, 0.0, 0.5], \n",
    "       [0.0, 0.5, 0.5]]\n",
    "\n",
    "atoms = am.Atoms(atype=atype, pos=pos)"
   ]
  },
  {
   "cell_type": "markdown",
   "metadata": {},
   "source": [
    "#### 2.2.2. Accessing Atoms properties"
   ]
  },
  {
   "cell_type": "markdown",
   "metadata": {},
   "source": [
    "The string of Atoms shows id, atype, and pos for all atoms."
   ]
  },
  {
   "cell_type": "code",
   "execution_count": 6,
   "metadata": {},
   "outputs": [
    {
     "name": "stdout",
     "output_type": "stream",
     "text": [
      "per-atom properties = ['atype', 'pos']\n",
      "     id |   atype |  pos[0] |  pos[1] |  pos[2]\n",
      "      0 |       1 |   0.000 |   0.000 |   0.000\n",
      "      1 |       1 |   0.500 |   0.500 |   0.000\n",
      "      2 |       1 |   0.500 |   0.000 |   0.500\n",
      "      3 |       1 |   0.000 |   0.500 |   0.500\n"
     ]
    }
   ],
   "source": [
    "print(atoms)"
   ]
  },
  {
   "cell_type": "markdown",
   "metadata": {},
   "source": [
    "The per-atom properties can be accessed as attributes of the object."
   ]
  },
  {
   "cell_type": "code",
   "execution_count": 7,
   "metadata": {},
   "outputs": [
    {
     "name": "stdout",
     "output_type": "stream",
     "text": [
      "atoms.atype -> [1 1 1 1]\n",
      "atoms.pos[2] -> [0.5 0.  0.5]\n"
     ]
    }
   ],
   "source": [
    "print('atoms.atype ->', atoms.atype)\n",
    "print('atoms.pos[2] ->', atoms.pos[2])"
   ]
  },
  {
   "cell_type": "markdown",
   "metadata": {},
   "source": [
    "The per-atom properties can also be converted into a flat pandas.DataFrame with the df() method."
   ]
  },
  {
   "cell_type": "code",
   "execution_count": 8,
   "metadata": {},
   "outputs": [
    {
     "data": {
      "text/html": [
       "<div>\n",
       "<style scoped>\n",
       "    .dataframe tbody tr th:only-of-type {\n",
       "        vertical-align: middle;\n",
       "    }\n",
       "\n",
       "    .dataframe tbody tr th {\n",
       "        vertical-align: top;\n",
       "    }\n",
       "\n",
       "    .dataframe thead th {\n",
       "        text-align: right;\n",
       "    }\n",
       "</style>\n",
       "<table border=\"1\" class=\"dataframe\">\n",
       "  <thead>\n",
       "    <tr style=\"text-align: right;\">\n",
       "      <th></th>\n",
       "      <th>atype</th>\n",
       "      <th>pos[0]</th>\n",
       "      <th>pos[1]</th>\n",
       "      <th>pos[2]</th>\n",
       "    </tr>\n",
       "  </thead>\n",
       "  <tbody>\n",
       "    <tr>\n",
       "      <th>0</th>\n",
       "      <td>1</td>\n",
       "      <td>0.0</td>\n",
       "      <td>0.0</td>\n",
       "      <td>0.0</td>\n",
       "    </tr>\n",
       "    <tr>\n",
       "      <th>1</th>\n",
       "      <td>1</td>\n",
       "      <td>0.5</td>\n",
       "      <td>0.5</td>\n",
       "      <td>0.0</td>\n",
       "    </tr>\n",
       "    <tr>\n",
       "      <th>2</th>\n",
       "      <td>1</td>\n",
       "      <td>0.5</td>\n",
       "      <td>0.0</td>\n",
       "      <td>0.5</td>\n",
       "    </tr>\n",
       "    <tr>\n",
       "      <th>3</th>\n",
       "      <td>1</td>\n",
       "      <td>0.0</td>\n",
       "      <td>0.5</td>\n",
       "      <td>0.5</td>\n",
       "    </tr>\n",
       "  </tbody>\n",
       "</table>\n",
       "</div>"
      ],
      "text/plain": [
       "   atype  pos[0]  pos[1]  pos[2]\n",
       "0      1     0.0     0.0     0.0\n",
       "1      1     0.5     0.5     0.0\n",
       "2      1     0.5     0.0     0.5\n",
       "3      1     0.0     0.5     0.5"
      ]
     },
     "execution_count": 8,
     "metadata": {},
     "output_type": "execute_result"
    }
   ],
   "source": [
    "atoms.df()"
   ]
  },
  {
   "cell_type": "markdown",
   "metadata": {},
   "source": [
    "### 2.3. System\n",
    "\n",
    "The System class gives a full representation of an atomic configuration by combining an atoms instance, a box instance, periodic boundary condition settings, and a list of element symbols. \n",
    "\n",
    "See the [1.3. System class Jupyter Notebook](1.3. System class.ipynb) for more detailed information and options."
   ]
  },
  {
   "cell_type": "markdown",
   "metadata": {},
   "source": [
    "#### 2.3.1. Create system\n",
    "\n",
    "A System is created by combining its components:\n",
    "\n",
    "- **atoms** is an Atoms object.\n",
    "\n",
    "- **box** is a Box object.\n",
    "\n",
    "- **pbc** is a list of three bools, where True indicates the box is periodic along the corresponding box vector.\n",
    "\n",
    "- **symbols** is a list of element model symbols for each unique atype value.\n",
    "\n",
    "- **scale** is a bool that indicates if atoms.pos are to be scaled relative to the box vectors."
   ]
  },
  {
   "cell_type": "code",
   "execution_count": 9,
   "metadata": {},
   "outputs": [
    {
     "name": "stdout",
     "output_type": "stream",
     "text": [
      "avect =  [ 4.050,  0.000,  0.000]\n",
      "bvect =  [ 0.000,  4.050,  0.000]\n",
      "cvect =  [ 0.000,  0.000,  4.050]\n",
      "origin = [ 0.000,  0.000,  0.000]\n",
      "natoms = 4\n",
      "natypes = 1\n",
      "symbols = ('Al',)\n",
      "pbc = [ True False  True]\n",
      "per-atom properties = ['atype', 'pos']\n",
      "     id |   atype |  pos[0] |  pos[1] |  pos[2]\n",
      "      0 |       1 |   0.000 |   0.000 |   0.000\n",
      "      1 |       1 |   2.025 |   2.025 |   0.000\n",
      "      2 |       1 |   2.025 |   0.000 |   2.025\n",
      "      3 |       1 |   0.000 |   2.025 |   2.025\n"
     ]
    }
   ],
   "source": [
    "system = am.System(atoms=atoms, box=box, pbc=[True, False, True], symbols='Al', scale=True)\n",
    "print(system)"
   ]
  },
  {
   "cell_type": "markdown",
   "metadata": {},
   "source": [
    "#### 2.3.2. View system\n",
    "\n",
    "*Preliminary feature added 1.4.10*\n",
    "\n",
    "You can view a system from within a Jupyter environment.  This is useful for taking a quick peak at smaller structures to check that they are correct.\n",
    "\n",
    "__Caution__: plotting methods are still preliminary and the method calls are likely to change!\n"
   ]
  },
  {
   "cell_type": "code",
   "execution_count": 10,
   "metadata": {
    "tags": []
   },
   "outputs": [
    {
     "data": {
      "application/3dmoljs_load.v0": "<div id=\"3dmolviewer_17404132092314014\"  style=\"position: relative; width: 400px; height: 400px;\">\n        <p id=\"3dmolwarning_17404132092314014\" style=\"background-color:#ffcccc;color:black\">3Dmol.js failed to load for some reason.  Please check your browser console for error messages.<br></p>\n        </div>\n<script>\n\nvar loadScriptAsync = function(uri){\n  return new Promise((resolve, reject) => {\n    //this is to ignore the existence of requirejs amd\n    var savedexports, savedmodule;\n    if (typeof exports !== 'undefined') savedexports = exports;\n    else exports = {}\n    if (typeof module !== 'undefined') savedmodule = module;\n    else module = {}\n\n    var tag = document.createElement('script');\n    tag.src = uri;\n    tag.async = true;\n    tag.onload = () => {\n        exports = savedexports;\n        module = savedmodule;\n        resolve();\n    };\n  var firstScriptTag = document.getElementsByTagName('script')[0];\n  firstScriptTag.parentNode.insertBefore(tag, firstScriptTag);\n});\n};\n\nif(typeof $3Dmolpromise === 'undefined') {\n$3Dmolpromise = null;\n  $3Dmolpromise = loadScriptAsync('https://cdnjs.cloudflare.com/ajax/libs/3Dmol/2.4.2/3Dmol-min.js');\n}\n\nvar viewer_17404132092314014 = null;\nvar warn = document.getElementById(\"3dmolwarning_17404132092314014\");\nif(warn) {\n    warn.parentNode.removeChild(warn);\n}\n$3Dmolpromise.then(function() {\nviewer_17404132092314014 = $3Dmol.createViewer(document.getElementById(\"3dmolviewer_17404132092314014\"),{backgroundColor:\"white\"});\nviewer_17404132092314014.zoomTo();\n\tviewer_17404132092314014.addModel(\"CRYST1    4.050    4.050    4.050  90.00  90.00  90.00 P 1\\nMODEL     1\\nHETATM    1 UNX  MOL     1       0.000   0.000   0.000  1.00  0.00          X1\\nHETATM    2 UNX  MOL     1       2.025   2.025   0.000  1.00  0.00          X1\\nHETATM    3 UNX  MOL     1       2.025   0.000   2.025  1.00  0.00          X1\\nHETATM    4 UNX  MOL     1       0.000   2.025   2.025  1.00  0.00          X1\\nENDMDL\\n\",\"pdb\");\n\tviewer_17404132092314014.addUnitCell();\n\tviewer_17404132092314014.setStyle({\"model\": -1, \"serial\": 1},{\"sphere\": {\"radius\": 1.0, \"color\": \"#7dff7a\"}});\n\tviewer_17404132092314014.setStyle({\"model\": -1, \"serial\": 2},{\"sphere\": {\"radius\": 1.0, \"color\": \"#7dff7a\"}});\n\tviewer_17404132092314014.setStyle({\"model\": -1, \"serial\": 3},{\"sphere\": {\"radius\": 1.0, \"color\": \"#7dff7a\"}});\n\tviewer_17404132092314014.setStyle({\"model\": -1, \"serial\": 4},{\"sphere\": {\"radius\": 1.0, \"color\": \"#7dff7a\"}});\n\tviewer_17404132092314014.zoomTo();\nviewer_17404132092314014.render();\n});\n</script>",
      "text/html": [
       "<div id=\"3dmolviewer_17404132092314014\"  style=\"position: relative; width: 400px; height: 400px;\">\n",
       "        <p id=\"3dmolwarning_17404132092314014\" style=\"background-color:#ffcccc;color:black\">3Dmol.js failed to load for some reason.  Please check your browser console for error messages.<br></p>\n",
       "        </div>\n",
       "<script>\n",
       "\n",
       "var loadScriptAsync = function(uri){\n",
       "  return new Promise((resolve, reject) => {\n",
       "    //this is to ignore the existence of requirejs amd\n",
       "    var savedexports, savedmodule;\n",
       "    if (typeof exports !== 'undefined') savedexports = exports;\n",
       "    else exports = {}\n",
       "    if (typeof module !== 'undefined') savedmodule = module;\n",
       "    else module = {}\n",
       "\n",
       "    var tag = document.createElement('script');\n",
       "    tag.src = uri;\n",
       "    tag.async = true;\n",
       "    tag.onload = () => {\n",
       "        exports = savedexports;\n",
       "        module = savedmodule;\n",
       "        resolve();\n",
       "    };\n",
       "  var firstScriptTag = document.getElementsByTagName('script')[0];\n",
       "  firstScriptTag.parentNode.insertBefore(tag, firstScriptTag);\n",
       "});\n",
       "};\n",
       "\n",
       "if(typeof $3Dmolpromise === 'undefined') {\n",
       "$3Dmolpromise = null;\n",
       "  $3Dmolpromise = loadScriptAsync('https://cdnjs.cloudflare.com/ajax/libs/3Dmol/2.4.2/3Dmol-min.js');\n",
       "}\n",
       "\n",
       "var viewer_17404132092314014 = null;\n",
       "var warn = document.getElementById(\"3dmolwarning_17404132092314014\");\n",
       "if(warn) {\n",
       "    warn.parentNode.removeChild(warn);\n",
       "}\n",
       "$3Dmolpromise.then(function() {\n",
       "viewer_17404132092314014 = $3Dmol.createViewer(document.getElementById(\"3dmolviewer_17404132092314014\"),{backgroundColor:\"white\"});\n",
       "viewer_17404132092314014.zoomTo();\n",
       "\tviewer_17404132092314014.addModel(\"CRYST1    4.050    4.050    4.050  90.00  90.00  90.00 P 1\\nMODEL     1\\nHETATM    1 UNX  MOL     1       0.000   0.000   0.000  1.00  0.00          X1\\nHETATM    2 UNX  MOL     1       2.025   2.025   0.000  1.00  0.00          X1\\nHETATM    3 UNX  MOL     1       2.025   0.000   2.025  1.00  0.00          X1\\nHETATM    4 UNX  MOL     1       0.000   2.025   2.025  1.00  0.00          X1\\nENDMDL\\n\",\"pdb\");\n",
       "\tviewer_17404132092314014.addUnitCell();\n",
       "\tviewer_17404132092314014.setStyle({\"model\": -1, \"serial\": 1},{\"sphere\": {\"radius\": 1.0, \"color\": \"#7dff7a\"}});\n",
       "\tviewer_17404132092314014.setStyle({\"model\": -1, \"serial\": 2},{\"sphere\": {\"radius\": 1.0, \"color\": \"#7dff7a\"}});\n",
       "\tviewer_17404132092314014.setStyle({\"model\": -1, \"serial\": 3},{\"sphere\": {\"radius\": 1.0, \"color\": \"#7dff7a\"}});\n",
       "\tviewer_17404132092314014.setStyle({\"model\": -1, \"serial\": 4},{\"sphere\": {\"radius\": 1.0, \"color\": \"#7dff7a\"}});\n",
       "\tviewer_17404132092314014.zoomTo();\n",
       "viewer_17404132092314014.render();\n",
       "});\n",
       "</script>"
      ]
     },
     "metadata": {},
     "output_type": "display_data"
    }
   ],
   "source": [
    "am.plot.py3Dmol.view_3d(system, width=400, height=400)"
   ]
  },
  {
   "cell_type": "markdown",
   "metadata": {},
   "source": [
    "## 3. Load a System <a id='section3'></a>\n",
    "\n",
    "\n",
    "Systems can also be created by loading in atomic configurations from either\n",
    "\n",
    "- files of many different formats,\n",
    "- representations of configurations used by other Python packages, or\n",
    "- records stored in the potentials database.\n",
    "\n",
    "See the [1.4. Load and dump conversions Jupyter Notebook](1.4. Load and dump conversions.ipynb) for more detailed information on all the different available styles and options."
   ]
  },
  {
   "cell_type": "markdown",
   "metadata": {},
   "source": [
    "### 3.1. Load from POSCAR\n",
    "\n",
    "Create content in POSCAR format"
   ]
  },
  {
   "cell_type": "code",
   "execution_count": 11,
   "metadata": {},
   "outputs": [],
   "source": [
    "fcc_poscar = \"\"\"POSCAR for fcc Al standard unit cell\n",
    "1.0\n",
    "4.05 0.00 0.00\n",
    "0.00 4.05 0.00\n",
    "0.00 0.00 4.05\n",
    "Al\n",
    "4 \n",
    "direct\n",
    "0.00 0.00 0.00\n",
    "0.50 0.50 0.00\n",
    "0.50 0.00 0.50\n",
    "0.00 0.50 0.50\"\"\""
   ]
  },
  {
   "cell_type": "markdown",
   "metadata": {},
   "source": [
    "Load content.  The load() function parameters are:\n",
    "\n",
    "- **style** (*str*) indicates the format of the content being loaded.\n",
    "\n",
    "- **content** (*any*) the content to be loaded.  For text formats, can be a str of the content, a file path or a file-like object.\n",
    "\n",
    "- **\\*\\*kwargs** (*any*) any extra style-specific keyword arguments."
   ]
  },
  {
   "cell_type": "code",
   "execution_count": 12,
   "metadata": {},
   "outputs": [
    {
     "name": "stdout",
     "output_type": "stream",
     "text": [
      "avect =  [ 4.050,  0.000,  0.000]\n",
      "bvect =  [ 0.000,  4.050,  0.000]\n",
      "cvect =  [ 0.000,  0.000,  4.050]\n",
      "origin = [ 0.000,  0.000,  0.000]\n",
      "natoms = 4\n",
      "natypes = 1\n",
      "symbols = ('Al',)\n",
      "pbc = [ True  True  True]\n",
      "per-atom properties = ['atype', 'pos']\n",
      "     id |   atype |  pos[0] |  pos[1] |  pos[2]\n",
      "      0 |       1 |   0.000 |   0.000 |   0.000\n",
      "      1 |       1 |   2.025 |   2.025 |   0.000\n",
      "      2 |       1 |   2.025 |   0.000 |   2.025\n",
      "      3 |       1 |   0.000 |   2.025 |   2.025\n"
     ]
    }
   ],
   "source": [
    "new_system = am.load('poscar', fcc_poscar)\n",
    "print(new_system)"
   ]
  },
  {
   "cell_type": "markdown",
   "metadata": {},
   "source": [
    "### 3.2. Load a database prototype"
   ]
  },
  {
   "cell_type": "markdown",
   "metadata": {},
   "source": [
    "The potentials database stores structure information for many crystal prototypes, i.e. space group + wykoff sites without elemental information.  Crystals can easily be created from this by loading the prototype and specifying the element(s) and the necessary lattice constants."
   ]
  },
  {
   "cell_type": "code",
   "execution_count": 13,
   "metadata": {},
   "outputs": [],
   "source": [
    "potdb = am.library.Database()"
   ]
  },
  {
   "cell_type": "code",
   "execution_count": 14,
   "metadata": {},
   "outputs": [
    {
     "name": "stdout",
     "output_type": "stream",
     "text": [
      "database style local at /home/lmh1/library\n"
     ]
    }
   ],
   "source": [
    "print(potdb.local_database)"
   ]
  },
  {
   "cell_type": "code",
   "execution_count": 15,
   "metadata": {},
   "outputs": [
    {
     "name": "stdout",
     "output_type": "stream",
     "text": [
      "avect =  [ 4.050,  0.000,  0.000]\n",
      "bvect =  [ 0.000,  4.050,  0.000]\n",
      "cvect =  [ 0.000,  0.000,  4.050]\n",
      "origin = [ 0.000,  0.000,  0.000]\n",
      "natoms = 4\n",
      "natypes = 1\n",
      "symbols = ('Al',)\n",
      "pbc = [ True  True  True]\n",
      "per-atom properties = ['atype', 'pos']\n",
      "     id |   atype |  pos[0] |  pos[1] |  pos[2]\n",
      "      0 |       1 |   0.000 |   0.000 |   0.000\n",
      "      1 |       1 |   0.000 |   2.025 |   2.025\n",
      "      2 |       1 |   2.025 |   0.000 |   2.025\n",
      "      3 |       1 |   2.025 |   2.025 |   0.000\n"
     ]
    }
   ],
   "source": [
    "new_system = am.load('prototype', name='A1--Cu--fcc', a=4.05, symbols='Al')\n",
    "print(new_system)"
   ]
  },
  {
   "cell_type": "markdown",
   "metadata": {},
   "source": [
    "### 3.3. Load a database  crystal\n",
    "\n",
    "The potentials database also contains relaxed crystal structures for the hosted interatomic potentials. If you know which potential you want to use, then you can load the appropriate relaxed structure."
   ]
  },
  {
   "cell_type": "code",
   "execution_count": 16,
   "metadata": {},
   "outputs": [
    {
     "name": "stdout",
     "output_type": "stream",
     "text": [
      "avect =  [ 4.050,  0.000,  0.000]\n",
      "bvect =  [ 0.000,  4.050,  0.000]\n",
      "cvect =  [ 0.000,  0.000,  4.050]\n",
      "origin = [ 0.000,  0.000,  0.000]\n",
      "natoms = 4\n",
      "natypes = 1\n",
      "symbols = ('Al',)\n",
      "pbc = [ True  True  True]\n",
      "per-atom properties = ['atype', 'pos']\n",
      "     id |   atype |  pos[0] |  pos[1] |  pos[2]\n",
      "      0 |       1 |   0.000 |   0.000 |   0.000\n",
      "      1 |       1 |   0.000 |   2.025 |   2.025\n",
      "      2 |       1 |   2.025 |   0.000 |   2.025\n",
      "      3 |       1 |   2.025 |   2.025 |   0.000\n"
     ]
    }
   ],
   "source": [
    "new_system = am.load('crystal', family='A1--Cu--fcc', potential_LAMMPS_id='2003--Zope-R-R--Al--LAMMPS--ipr1')\n",
    "print(new_system)"
   ]
  },
  {
   "cell_type": "markdown",
   "metadata": {},
   "source": [
    "## 4. System Manipulations <a id='section4'></a>\n",
    "\n",
    "The System class was defined to make it easy for users to manipulate systems and atomic properties.  Additionally, there are a few System class methods that assist with some common manipulations.\n",
    "\n",
    "See the [1.3. System class Jupyter Notebook](1.3. System class.ipynb) for more detailed information and options."
   ]
  },
  {
   "cell_type": "markdown",
   "metadata": {},
   "source": [
    "### 4.1. System.rotate()\n",
    "\n",
    "The rotate() method transforms the system such that the new box vectors correspond to three integer [uvw] crystal vectors with respect to the current box vectors. This ensures that atomic compatibilities across all periodic boundaries."
   ]
  },
  {
   "cell_type": "code",
   "execution_count": 17,
   "metadata": {},
   "outputs": [
    {
     "name": "stdout",
     "output_type": "stream",
     "text": [
      "avect =  [ 5.728,  0.000,  0.000]\n",
      "bvect =  [ 0.000,  5.728,  0.000]\n",
      "cvect =  [ 0.000,  0.000,  4.050]\n",
      "origin = [ 0.000,  0.000,  0.000]\n",
      "natoms = 8\n",
      "natypes = 1\n",
      "symbols = ('Al',)\n",
      "pbc = [ True  True  True]\n",
      "per-atom properties = ['atype', 'pos']\n",
      "     id |   atype |  pos[0] |  pos[1] |  pos[2]\n",
      "      0 |       1 |   5.728 |   2.864 |   4.050\n",
      "      1 |       1 |   0.000 |   0.000 |   4.050\n",
      "      2 |       1 |   2.864 |   5.728 |   4.050\n",
      "      3 |       1 |   1.432 |   1.432 |   2.025\n",
      "      4 |       1 |   1.432 |   4.296 |   2.025\n",
      "      5 |       1 |   2.864 |   2.864 |   4.050\n",
      "      6 |       1 |   4.296 |   1.432 |   2.025\n",
      "      7 |       1 |   4.296 |   4.296 |   2.025\n"
     ]
    }
   ],
   "source": [
    "# Rotate system to crystal vectors [110], [-110], [001]\n",
    "uvws = [[ 1, 1, 0],\n",
    "        [-1, 1, 0], \n",
    "        [ 0, 0, 1]]\n",
    "system = system.rotate(uvws)\n",
    "\n",
    "# Show system is transformed and expanded\n",
    "print(system)"
   ]
  },
  {
   "cell_type": "markdown",
   "metadata": {},
   "source": [
    "### 4.2. System.supersize()\n",
    "\n",
    "A larger System (i.e. supercell) can be generated using the supersize() method"
   ]
  },
  {
   "cell_type": "code",
   "execution_count": 18,
   "metadata": {},
   "outputs": [
    {
     "name": "stdout",
     "output_type": "stream",
     "text": [
      "avect =  [11.455,  0.000,  0.000]\n",
      "bvect =  [ 0.000, 11.455,  0.000]\n",
      "cvect =  [ 0.000,  0.000,  8.100]\n",
      "origin = [ 0.000,  0.000,  0.000]\n",
      "natoms = 64\n",
      "natypes = 1\n",
      "symbols = ('Al',)\n",
      "pbc = [ True  True  True]\n",
      "per-atom properties = ['atype', 'pos']\n",
      "     id |   atype |  pos[0] |  pos[1] |  pos[2]\n",
      "      0 |       1 |   5.728 |   2.864 |   4.050\n",
      "      1 |       1 |   0.000 |   0.000 |   4.050\n",
      "      2 |       1 |   2.864 |   5.728 |   4.050\n",
      "      3 |       1 |   1.432 |   1.432 |   2.025\n",
      "      4 |       1 |   1.432 |   4.296 |   2.025\n",
      "      5 |       1 |   2.864 |   2.864 |   4.050\n",
      "      6 |       1 |   4.296 |   1.432 |   2.025\n",
      "      7 |       1 |   4.296 |   4.296 |   2.025\n",
      "      8 |       1 |  11.455 |   2.864 |   4.050\n",
      "      9 |       1 |   5.728 |   0.000 |   4.050\n",
      "     10 |       1 |   8.591 |   5.728 |   4.050\n",
      "     11 |       1 |   7.159 |   1.432 |   2.025\n",
      "     12 |       1 |   7.159 |   4.296 |   2.025\n",
      "     13 |       1 |   8.591 |   2.864 |   4.050\n",
      "     14 |       1 |  10.023 |   1.432 |   2.025\n",
      "     15 |       1 |  10.023 |   4.296 |   2.025\n",
      "     16 |       1 |   5.728 |   8.591 |   4.050\n",
      "     17 |       1 |   0.000 |   5.728 |   4.050\n",
      "     18 |       1 |   2.864 |  11.455 |   4.050\n",
      "     19 |       1 |   1.432 |   7.159 |   2.025\n",
      "     20 |       1 |   1.432 |  10.023 |   2.025\n",
      "     21 |       1 |   2.864 |   8.591 |   4.050\n",
      "     22 |       1 |   4.296 |   7.159 |   2.025\n",
      "     23 |       1 |   4.296 |  10.023 |   2.025\n",
      "     24 |       1 |  11.455 |   8.591 |   4.050\n",
      "     25 |       1 |   5.728 |   5.728 |   4.050\n",
      "     26 |       1 |   8.591 |  11.455 |   4.050\n",
      "     27 |       1 |   7.159 |   7.159 |   2.025\n",
      "     28 |       1 |   7.159 |  10.023 |   2.025\n",
      "     29 |       1 |   8.591 |   8.591 |   4.050\n",
      "     30 |       1 |  10.023 |   7.159 |   2.025\n",
      "     31 |       1 |  10.023 |  10.023 |   2.025\n",
      "     32 |       1 |   5.728 |   2.864 |   8.100\n",
      "     33 |       1 |   0.000 |   0.000 |   8.100\n",
      "     34 |       1 |   2.864 |   5.728 |   8.100\n",
      "     35 |       1 |   1.432 |   1.432 |   6.075\n",
      "     36 |       1 |   1.432 |   4.296 |   6.075\n",
      "     37 |       1 |   2.864 |   2.864 |   8.100\n",
      "     38 |       1 |   4.296 |   1.432 |   6.075\n",
      "     39 |       1 |   4.296 |   4.296 |   6.075\n",
      "     40 |       1 |  11.455 |   2.864 |   8.100\n",
      "     41 |       1 |   5.728 |   0.000 |   8.100\n",
      "     42 |       1 |   8.591 |   5.728 |   8.100\n",
      "     43 |       1 |   7.159 |   1.432 |   6.075\n",
      "     44 |       1 |   7.159 |   4.296 |   6.075\n",
      "     45 |       1 |   8.591 |   2.864 |   8.100\n",
      "     46 |       1 |  10.023 |   1.432 |   6.075\n",
      "     47 |       1 |  10.023 |   4.296 |   6.075\n",
      "     48 |       1 |   5.728 |   8.591 |   8.100\n",
      "     49 |       1 |   0.000 |   5.728 |   8.100\n",
      "     50 |       1 |   2.864 |  11.455 |   8.100\n",
      "     51 |       1 |   1.432 |   7.159 |   6.075\n",
      "     52 |       1 |   1.432 |  10.023 |   6.075\n",
      "     53 |       1 |   2.864 |   8.591 |   8.100\n",
      "     54 |       1 |   4.296 |   7.159 |   6.075\n",
      "     55 |       1 |   4.296 |  10.023 |   6.075\n",
      "     56 |       1 |  11.455 |   8.591 |   8.100\n",
      "     57 |       1 |   5.728 |   5.728 |   8.100\n",
      "     58 |       1 |   8.591 |  11.455 |   8.100\n",
      "     59 |       1 |   7.159 |   7.159 |   6.075\n",
      "     60 |       1 |   7.159 |  10.023 |   6.075\n",
      "     61 |       1 |   8.591 |   8.591 |   8.100\n",
      "     62 |       1 |  10.023 |   7.159 |   6.075\n",
      "     63 |       1 |  10.023 |  10.023 |   6.075\n"
     ]
    }
   ],
   "source": [
    "# Make system a 2x2x2 supercell of itself\n",
    "system = system.supersize(2, 2, 2)\n",
    "\n",
    "print(system)"
   ]
  },
  {
   "cell_type": "code",
   "execution_count": 19,
   "metadata": {},
   "outputs": [
    {
     "data": {
      "application/3dmoljs_load.v0": "<div id=\"3dmolviewer_1740413230829094\"  style=\"position: relative; width: 400px; height: 400px;\">\n        <p id=\"3dmolwarning_1740413230829094\" style=\"background-color:#ffcccc;color:black\">3Dmol.js failed to load for some reason.  Please check your browser console for error messages.<br></p>\n        </div>\n<script>\n\nvar loadScriptAsync = function(uri){\n  return new Promise((resolve, reject) => {\n    //this is to ignore the existence of requirejs amd\n    var savedexports, savedmodule;\n    if (typeof exports !== 'undefined') savedexports = exports;\n    else exports = {}\n    if (typeof module !== 'undefined') savedmodule = module;\n    else module = {}\n\n    var tag = document.createElement('script');\n    tag.src = uri;\n    tag.async = true;\n    tag.onload = () => {\n        exports = savedexports;\n        module = savedmodule;\n        resolve();\n    };\n  var firstScriptTag = document.getElementsByTagName('script')[0];\n  firstScriptTag.parentNode.insertBefore(tag, firstScriptTag);\n});\n};\n\nif(typeof $3Dmolpromise === 'undefined') {\n$3Dmolpromise = null;\n  $3Dmolpromise = loadScriptAsync('https://cdnjs.cloudflare.com/ajax/libs/3Dmol/2.4.2/3Dmol-min.js');\n}\n\nvar viewer_1740413230829094 = null;\nvar warn = document.getElementById(\"3dmolwarning_1740413230829094\");\nif(warn) {\n    warn.parentNode.removeChild(warn);\n}\n$3Dmolpromise.then(function() {\nviewer_1740413230829094 = $3Dmol.createViewer(document.getElementById(\"3dmolviewer_1740413230829094\"),{backgroundColor:\"white\"});\nviewer_1740413230829094.zoomTo();\n\tviewer_1740413230829094.addModel(\"CRYST1   11.455   11.455    8.100  90.00  90.00  90.00 P 1\\nMODEL     1\\nHETATM    1 UNX  MOL     1       5.728   2.864   4.050  1.00  0.00          X1.0\\nHETATM    2 UNX  MOL     1       0.000   0.000   4.050  1.00  0.00          X1.0\\nHETATM    3 UNX  MOL     1       2.864   5.728   4.050  1.00  0.00          X1.0\\nHETATM    4 UNX  MOL     1       1.432   1.432   2.025  1.00  0.00          X1.0\\nHETATM    5 UNX  MOL     1       1.432   4.296   2.025  1.00  0.00          X1.0\\nHETATM    6 UNX  MOL     1       2.864   2.864   4.050  1.00  0.00          X1.0\\nHETATM    7 UNX  MOL     1       4.296   1.432   2.025  1.00  0.00          X1.0\\nHETATM    8 UNX  MOL     1       4.296   4.296   2.025  1.00  0.00          X1.0\\nHETATM    9 UNX  MOL     1      11.455   2.864   4.050  1.00  0.00          X1.0\\nHETATM   10 UNX  MOL     1       5.728   0.000   4.050  1.00  0.00          X1.0\\nHETATM   11 UNX  MOL     1       8.591   5.728   4.050  1.00  0.00          X1.0\\nHETATM   12 UNX  MOL     1       7.159   1.432   2.025  1.00  0.00          X1.0\\nHETATM   13 UNX  MOL     1       7.159   4.296   2.025  1.00  0.00          X1.0\\nHETATM   14 UNX  MOL     1       8.591   2.864   4.050  1.00  0.00          X1.0\\nHETATM   15 UNX  MOL     1      10.023   1.432   2.025  1.00  0.00          X1.0\\nHETATM   16 UNX  MOL     1      10.023   4.296   2.025  1.00  0.00          X1.0\\nHETATM   17 UNX  MOL     1       5.728   8.591   4.050  1.00  0.00          X1.0\\nHETATM   18 UNX  MOL     1       0.000   5.728   4.050  1.00  0.00          X1.0\\nHETATM   19 UNX  MOL     1       2.864  11.455   4.050  1.00  0.00          X1.0\\nHETATM   20 UNX  MOL     1       1.432   7.159   2.025  1.00  0.00          X1.0\\nHETATM   21 UNX  MOL     1       1.432  10.023   2.025  1.00  0.00          X1.0\\nHETATM   22 UNX  MOL     1       2.864   8.591   4.050  1.00  0.00          X1.0\\nHETATM   23 UNX  MOL     1       4.296   7.159   2.025  1.00  0.00          X1.0\\nHETATM   24 UNX  MOL     1       4.296  10.023   2.025  1.00  0.00          X1.0\\nHETATM   25 UNX  MOL     1      11.455   8.591   4.050  1.00  0.00          X1.0\\nHETATM   26 UNX  MOL     1       5.728   5.728   4.050  1.00  0.00          X1.0\\nHETATM   27 UNX  MOL     1       8.591  11.455   4.050  1.00  0.00          X1.0\\nHETATM   28 UNX  MOL     1       7.159   7.159   2.025  1.00  0.00          X1.0\\nHETATM   29 UNX  MOL     1       7.159  10.023   2.025  1.00  0.00          X1.0\\nHETATM   30 UNX  MOL     1       8.591   8.591   4.050  1.00  0.00          X1.0\\nHETATM   31 UNX  MOL     1      10.023   7.159   2.025  1.00  0.00          X1.0\\nHETATM   32 UNX  MOL     1      10.023  10.023   2.025  1.00  0.00          X1.0\\nHETATM   33 UNX  MOL     1       5.728   2.864   8.100  1.00  0.00          X1.0\\nHETATM   34 UNX  MOL     1       0.000   0.000   8.100  1.00  0.00          X1.0\\nHETATM   35 UNX  MOL     1       2.864   5.728   8.100  1.00  0.00          X1.0\\nHETATM   36 UNX  MOL     1       1.432   1.432   6.075  1.00  0.00          X1.0\\nHETATM   37 UNX  MOL     1       1.432   4.296   6.075  1.00  0.00          X1.0\\nHETATM   38 UNX  MOL     1       2.864   2.864   8.100  1.00  0.00          X1.0\\nHETATM   39 UNX  MOL     1       4.296   1.432   6.075  1.00  0.00          X1.0\\nHETATM   40 UNX  MOL     1       4.296   4.296   6.075  1.00  0.00          X1.0\\nHETATM   41 UNX  MOL     1      11.455   2.864   8.100  1.00  0.00          X1.0\\nHETATM   42 UNX  MOL     1       5.728   0.000   8.100  1.00  0.00          X1.0\\nHETATM   43 UNX  MOL     1       8.591   5.728   8.100  1.00  0.00          X1.0\\nHETATM   44 UNX  MOL     1       7.159   1.432   6.075  1.00  0.00          X1.0\\nHETATM   45 UNX  MOL     1       7.159   4.296   6.075  1.00  0.00          X1.0\\nHETATM   46 UNX  MOL     1       8.591   2.864   8.100  1.00  0.00          X1.0\\nHETATM   47 UNX  MOL     1      10.023   1.432   6.075  1.00  0.00          X1.0\\nHETATM   48 UNX  MOL     1      10.023   4.296   6.075  1.00  0.00          X1.0\\nHETATM   49 UNX  MOL     1       5.728   8.591   8.100  1.00  0.00          X1.0\\nHETATM   50 UNX  MOL     1       0.000   5.728   8.100  1.00  0.00          X1.0\\nHETATM   51 UNX  MOL     1       2.864  11.455   8.100  1.00  0.00          X1.0\\nHETATM   52 UNX  MOL     1       1.432   7.159   6.075  1.00  0.00          X1.0\\nHETATM   53 UNX  MOL     1       1.432  10.023   6.075  1.00  0.00          X1.0\\nHETATM   54 UNX  MOL     1       2.864   8.591   8.100  1.00  0.00          X1.0\\nHETATM   55 UNX  MOL     1       4.296   7.159   6.075  1.00  0.00          X1.0\\nHETATM   56 UNX  MOL     1       4.296  10.023   6.075  1.00  0.00          X1.0\\nHETATM   57 UNX  MOL     1      11.455   8.591   8.100  1.00  0.00          X1.0\\nHETATM   58 UNX  MOL     1       5.728   5.728   8.100  1.00  0.00          X1.0\\nHETATM   59 UNX  MOL     1       8.591  11.455   8.100  1.00  0.00          X1.0\\nHETATM   60 UNX  MOL     1       7.159   7.159   6.075  1.00  0.00          X1.0\\nHETATM   61 UNX  MOL     1       7.159  10.023   6.075  1.00  0.00          X1.0\\nHETATM   62 UNX  MOL     1       8.591   8.591   8.100  1.00  0.00          X1.0\\nHETATM   63 UNX  MOL     1      10.023   7.159   6.075  1.00  0.00          X1.0\\nHETATM   64 UNX  MOL     1      10.023  10.023   6.075  1.00  0.00          X1.0\\nENDMDL\\n\",\"pdb\");\n\tviewer_1740413230829094.addUnitCell();\n\tviewer_1740413230829094.setStyle({\"model\": -1, \"serial\": 1},{\"sphere\": {\"radius\": 1.0, \"color\": \"#7dff7a\"}});\n\tviewer_1740413230829094.setStyle({\"model\": -1, \"serial\": 2},{\"sphere\": {\"radius\": 1.0, \"color\": \"#7dff7a\"}});\n\tviewer_1740413230829094.setStyle({\"model\": -1, \"serial\": 3},{\"sphere\": {\"radius\": 1.0, \"color\": \"#7dff7a\"}});\n\tviewer_1740413230829094.setStyle({\"model\": -1, \"serial\": 4},{\"sphere\": {\"radius\": 1.0, \"color\": \"#7dff7a\"}});\n\tviewer_1740413230829094.setStyle({\"model\": -1, \"serial\": 5},{\"sphere\": {\"radius\": 1.0, \"color\": \"#7dff7a\"}});\n\tviewer_1740413230829094.setStyle({\"model\": -1, \"serial\": 6},{\"sphere\": {\"radius\": 1.0, \"color\": \"#7dff7a\"}});\n\tviewer_1740413230829094.setStyle({\"model\": -1, \"serial\": 7},{\"sphere\": {\"radius\": 1.0, \"color\": \"#7dff7a\"}});\n\tviewer_1740413230829094.setStyle({\"model\": -1, \"serial\": 8},{\"sphere\": {\"radius\": 1.0, \"color\": \"#7dff7a\"}});\n\tviewer_1740413230829094.setStyle({\"model\": -1, \"serial\": 9},{\"sphere\": {\"radius\": 1.0, \"color\": \"#7dff7a\"}});\n\tviewer_1740413230829094.setStyle({\"model\": -1, \"serial\": 10},{\"sphere\": {\"radius\": 1.0, \"color\": \"#7dff7a\"}});\n\tviewer_1740413230829094.setStyle({\"model\": -1, \"serial\": 11},{\"sphere\": {\"radius\": 1.0, \"color\": \"#7dff7a\"}});\n\tviewer_1740413230829094.setStyle({\"model\": -1, \"serial\": 12},{\"sphere\": {\"radius\": 1.0, \"color\": \"#7dff7a\"}});\n\tviewer_1740413230829094.setStyle({\"model\": -1, \"serial\": 13},{\"sphere\": {\"radius\": 1.0, \"color\": \"#7dff7a\"}});\n\tviewer_1740413230829094.setStyle({\"model\": -1, \"serial\": 14},{\"sphere\": {\"radius\": 1.0, \"color\": \"#7dff7a\"}});\n\tviewer_1740413230829094.setStyle({\"model\": -1, \"serial\": 15},{\"sphere\": {\"radius\": 1.0, \"color\": \"#7dff7a\"}});\n\tviewer_1740413230829094.setStyle({\"model\": -1, \"serial\": 16},{\"sphere\": {\"radius\": 1.0, \"color\": \"#7dff7a\"}});\n\tviewer_1740413230829094.setStyle({\"model\": -1, \"serial\": 17},{\"sphere\": {\"radius\": 1.0, \"color\": \"#7dff7a\"}});\n\tviewer_1740413230829094.setStyle({\"model\": -1, \"serial\": 18},{\"sphere\": {\"radius\": 1.0, \"color\": \"#7dff7a\"}});\n\tviewer_1740413230829094.setStyle({\"model\": -1, \"serial\": 19},{\"sphere\": {\"radius\": 1.0, \"color\": \"#7dff7a\"}});\n\tviewer_1740413230829094.setStyle({\"model\": -1, \"serial\": 20},{\"sphere\": {\"radius\": 1.0, \"color\": \"#7dff7a\"}});\n\tviewer_1740413230829094.setStyle({\"model\": -1, \"serial\": 21},{\"sphere\": {\"radius\": 1.0, \"color\": \"#7dff7a\"}});\n\tviewer_1740413230829094.setStyle({\"model\": -1, \"serial\": 22},{\"sphere\": {\"radius\": 1.0, \"color\": \"#7dff7a\"}});\n\tviewer_1740413230829094.setStyle({\"model\": -1, \"serial\": 23},{\"sphere\": {\"radius\": 1.0, \"color\": \"#7dff7a\"}});\n\tviewer_1740413230829094.setStyle({\"model\": -1, \"serial\": 24},{\"sphere\": {\"radius\": 1.0, \"color\": \"#7dff7a\"}});\n\tviewer_1740413230829094.setStyle({\"model\": -1, \"serial\": 25},{\"sphere\": {\"radius\": 1.0, \"color\": \"#7dff7a\"}});\n\tviewer_1740413230829094.setStyle({\"model\": -1, \"serial\": 26},{\"sphere\": {\"radius\": 1.0, \"color\": \"#7dff7a\"}});\n\tviewer_1740413230829094.setStyle({\"model\": -1, \"serial\": 27},{\"sphere\": {\"radius\": 1.0, \"color\": \"#7dff7a\"}});\n\tviewer_1740413230829094.setStyle({\"model\": -1, \"serial\": 28},{\"sphere\": {\"radius\": 1.0, \"color\": \"#7dff7a\"}});\n\tviewer_1740413230829094.setStyle({\"model\": -1, \"serial\": 29},{\"sphere\": {\"radius\": 1.0, \"color\": \"#7dff7a\"}});\n\tviewer_1740413230829094.setStyle({\"model\": -1, \"serial\": 30},{\"sphere\": {\"radius\": 1.0, \"color\": \"#7dff7a\"}});\n\tviewer_1740413230829094.setStyle({\"model\": -1, \"serial\": 31},{\"sphere\": {\"radius\": 1.0, \"color\": \"#7dff7a\"}});\n\tviewer_1740413230829094.setStyle({\"model\": -1, \"serial\": 32},{\"sphere\": {\"radius\": 1.0, \"color\": \"#7dff7a\"}});\n\tviewer_1740413230829094.setStyle({\"model\": -1, \"serial\": 33},{\"sphere\": {\"radius\": 1.0, \"color\": \"#7dff7a\"}});\n\tviewer_1740413230829094.setStyle({\"model\": -1, \"serial\": 34},{\"sphere\": {\"radius\": 1.0, \"color\": \"#7dff7a\"}});\n\tviewer_1740413230829094.setStyle({\"model\": -1, \"serial\": 35},{\"sphere\": {\"radius\": 1.0, \"color\": \"#7dff7a\"}});\n\tviewer_1740413230829094.setStyle({\"model\": -1, \"serial\": 36},{\"sphere\": {\"radius\": 1.0, \"color\": \"#7dff7a\"}});\n\tviewer_1740413230829094.setStyle({\"model\": -1, \"serial\": 37},{\"sphere\": {\"radius\": 1.0, \"color\": \"#7dff7a\"}});\n\tviewer_1740413230829094.setStyle({\"model\": -1, \"serial\": 38},{\"sphere\": {\"radius\": 1.0, \"color\": \"#7dff7a\"}});\n\tviewer_1740413230829094.setStyle({\"model\": -1, \"serial\": 39},{\"sphere\": {\"radius\": 1.0, \"color\": \"#7dff7a\"}});\n\tviewer_1740413230829094.setStyle({\"model\": -1, \"serial\": 40},{\"sphere\": {\"radius\": 1.0, \"color\": \"#7dff7a\"}});\n\tviewer_1740413230829094.setStyle({\"model\": -1, \"serial\": 41},{\"sphere\": {\"radius\": 1.0, \"color\": \"#7dff7a\"}});\n\tviewer_1740413230829094.setStyle({\"model\": -1, \"serial\": 42},{\"sphere\": {\"radius\": 1.0, \"color\": \"#7dff7a\"}});\n\tviewer_1740413230829094.setStyle({\"model\": -1, \"serial\": 43},{\"sphere\": {\"radius\": 1.0, \"color\": \"#7dff7a\"}});\n\tviewer_1740413230829094.setStyle({\"model\": -1, \"serial\": 44},{\"sphere\": {\"radius\": 1.0, \"color\": \"#7dff7a\"}});\n\tviewer_1740413230829094.setStyle({\"model\": -1, \"serial\": 45},{\"sphere\": {\"radius\": 1.0, \"color\": \"#7dff7a\"}});\n\tviewer_1740413230829094.setStyle({\"model\": -1, \"serial\": 46},{\"sphere\": {\"radius\": 1.0, \"color\": \"#7dff7a\"}});\n\tviewer_1740413230829094.setStyle({\"model\": -1, \"serial\": 47},{\"sphere\": {\"radius\": 1.0, \"color\": \"#7dff7a\"}});\n\tviewer_1740413230829094.setStyle({\"model\": -1, \"serial\": 48},{\"sphere\": {\"radius\": 1.0, \"color\": \"#7dff7a\"}});\n\tviewer_1740413230829094.setStyle({\"model\": -1, \"serial\": 49},{\"sphere\": {\"radius\": 1.0, \"color\": \"#7dff7a\"}});\n\tviewer_1740413230829094.setStyle({\"model\": -1, \"serial\": 50},{\"sphere\": {\"radius\": 1.0, \"color\": \"#7dff7a\"}});\n\tviewer_1740413230829094.setStyle({\"model\": -1, \"serial\": 51},{\"sphere\": {\"radius\": 1.0, \"color\": \"#7dff7a\"}});\n\tviewer_1740413230829094.setStyle({\"model\": -1, \"serial\": 52},{\"sphere\": {\"radius\": 1.0, \"color\": \"#7dff7a\"}});\n\tviewer_1740413230829094.setStyle({\"model\": -1, \"serial\": 53},{\"sphere\": {\"radius\": 1.0, \"color\": \"#7dff7a\"}});\n\tviewer_1740413230829094.setStyle({\"model\": -1, \"serial\": 54},{\"sphere\": {\"radius\": 1.0, \"color\": \"#7dff7a\"}});\n\tviewer_1740413230829094.setStyle({\"model\": -1, \"serial\": 55},{\"sphere\": {\"radius\": 1.0, \"color\": \"#7dff7a\"}});\n\tviewer_1740413230829094.setStyle({\"model\": -1, \"serial\": 56},{\"sphere\": {\"radius\": 1.0, \"color\": \"#7dff7a\"}});\n\tviewer_1740413230829094.setStyle({\"model\": -1, \"serial\": 57},{\"sphere\": {\"radius\": 1.0, \"color\": \"#7dff7a\"}});\n\tviewer_1740413230829094.setStyle({\"model\": -1, \"serial\": 58},{\"sphere\": {\"radius\": 1.0, \"color\": \"#7dff7a\"}});\n\tviewer_1740413230829094.setStyle({\"model\": -1, \"serial\": 59},{\"sphere\": {\"radius\": 1.0, \"color\": \"#7dff7a\"}});\n\tviewer_1740413230829094.setStyle({\"model\": -1, \"serial\": 60},{\"sphere\": {\"radius\": 1.0, \"color\": \"#7dff7a\"}});\n\tviewer_1740413230829094.setStyle({\"model\": -1, \"serial\": 61},{\"sphere\": {\"radius\": 1.0, \"color\": \"#7dff7a\"}});\n\tviewer_1740413230829094.setStyle({\"model\": -1, \"serial\": 62},{\"sphere\": {\"radius\": 1.0, \"color\": \"#7dff7a\"}});\n\tviewer_1740413230829094.setStyle({\"model\": -1, \"serial\": 63},{\"sphere\": {\"radius\": 1.0, \"color\": \"#7dff7a\"}});\n\tviewer_1740413230829094.setStyle({\"model\": -1, \"serial\": 64},{\"sphere\": {\"radius\": 1.0, \"color\": \"#7dff7a\"}});\n\tviewer_1740413230829094.zoomTo();\nviewer_1740413230829094.render();\n});\n</script>",
      "text/html": [
       "<div id=\"3dmolviewer_1740413230829094\"  style=\"position: relative; width: 400px; height: 400px;\">\n",
       "        <p id=\"3dmolwarning_1740413230829094\" style=\"background-color:#ffcccc;color:black\">3Dmol.js failed to load for some reason.  Please check your browser console for error messages.<br></p>\n",
       "        </div>\n",
       "<script>\n",
       "\n",
       "var loadScriptAsync = function(uri){\n",
       "  return new Promise((resolve, reject) => {\n",
       "    //this is to ignore the existence of requirejs amd\n",
       "    var savedexports, savedmodule;\n",
       "    if (typeof exports !== 'undefined') savedexports = exports;\n",
       "    else exports = {}\n",
       "    if (typeof module !== 'undefined') savedmodule = module;\n",
       "    else module = {}\n",
       "\n",
       "    var tag = document.createElement('script');\n",
       "    tag.src = uri;\n",
       "    tag.async = true;\n",
       "    tag.onload = () => {\n",
       "        exports = savedexports;\n",
       "        module = savedmodule;\n",
       "        resolve();\n",
       "    };\n",
       "  var firstScriptTag = document.getElementsByTagName('script')[0];\n",
       "  firstScriptTag.parentNode.insertBefore(tag, firstScriptTag);\n",
       "});\n",
       "};\n",
       "\n",
       "if(typeof $3Dmolpromise === 'undefined') {\n",
       "$3Dmolpromise = null;\n",
       "  $3Dmolpromise = loadScriptAsync('https://cdnjs.cloudflare.com/ajax/libs/3Dmol/2.4.2/3Dmol-min.js');\n",
       "}\n",
       "\n",
       "var viewer_1740413230829094 = null;\n",
       "var warn = document.getElementById(\"3dmolwarning_1740413230829094\");\n",
       "if(warn) {\n",
       "    warn.parentNode.removeChild(warn);\n",
       "}\n",
       "$3Dmolpromise.then(function() {\n",
       "viewer_1740413230829094 = $3Dmol.createViewer(document.getElementById(\"3dmolviewer_1740413230829094\"),{backgroundColor:\"white\"});\n",
       "viewer_1740413230829094.zoomTo();\n",
       "\tviewer_1740413230829094.addModel(\"CRYST1   11.455   11.455    8.100  90.00  90.00  90.00 P 1\\nMODEL     1\\nHETATM    1 UNX  MOL     1       5.728   2.864   4.050  1.00  0.00          X1.0\\nHETATM    2 UNX  MOL     1       0.000   0.000   4.050  1.00  0.00          X1.0\\nHETATM    3 UNX  MOL     1       2.864   5.728   4.050  1.00  0.00          X1.0\\nHETATM    4 UNX  MOL     1       1.432   1.432   2.025  1.00  0.00          X1.0\\nHETATM    5 UNX  MOL     1       1.432   4.296   2.025  1.00  0.00          X1.0\\nHETATM    6 UNX  MOL     1       2.864   2.864   4.050  1.00  0.00          X1.0\\nHETATM    7 UNX  MOL     1       4.296   1.432   2.025  1.00  0.00          X1.0\\nHETATM    8 UNX  MOL     1       4.296   4.296   2.025  1.00  0.00          X1.0\\nHETATM    9 UNX  MOL     1      11.455   2.864   4.050  1.00  0.00          X1.0\\nHETATM   10 UNX  MOL     1       5.728   0.000   4.050  1.00  0.00          X1.0\\nHETATM   11 UNX  MOL     1       8.591   5.728   4.050  1.00  0.00          X1.0\\nHETATM   12 UNX  MOL     1       7.159   1.432   2.025  1.00  0.00          X1.0\\nHETATM   13 UNX  MOL     1       7.159   4.296   2.025  1.00  0.00          X1.0\\nHETATM   14 UNX  MOL     1       8.591   2.864   4.050  1.00  0.00          X1.0\\nHETATM   15 UNX  MOL     1      10.023   1.432   2.025  1.00  0.00          X1.0\\nHETATM   16 UNX  MOL     1      10.023   4.296   2.025  1.00  0.00          X1.0\\nHETATM   17 UNX  MOL     1       5.728   8.591   4.050  1.00  0.00          X1.0\\nHETATM   18 UNX  MOL     1       0.000   5.728   4.050  1.00  0.00          X1.0\\nHETATM   19 UNX  MOL     1       2.864  11.455   4.050  1.00  0.00          X1.0\\nHETATM   20 UNX  MOL     1       1.432   7.159   2.025  1.00  0.00          X1.0\\nHETATM   21 UNX  MOL     1       1.432  10.023   2.025  1.00  0.00          X1.0\\nHETATM   22 UNX  MOL     1       2.864   8.591   4.050  1.00  0.00          X1.0\\nHETATM   23 UNX  MOL     1       4.296   7.159   2.025  1.00  0.00          X1.0\\nHETATM   24 UNX  MOL     1       4.296  10.023   2.025  1.00  0.00          X1.0\\nHETATM   25 UNX  MOL     1      11.455   8.591   4.050  1.00  0.00          X1.0\\nHETATM   26 UNX  MOL     1       5.728   5.728   4.050  1.00  0.00          X1.0\\nHETATM   27 UNX  MOL     1       8.591  11.455   4.050  1.00  0.00          X1.0\\nHETATM   28 UNX  MOL     1       7.159   7.159   2.025  1.00  0.00          X1.0\\nHETATM   29 UNX  MOL     1       7.159  10.023   2.025  1.00  0.00          X1.0\\nHETATM   30 UNX  MOL     1       8.591   8.591   4.050  1.00  0.00          X1.0\\nHETATM   31 UNX  MOL     1      10.023   7.159   2.025  1.00  0.00          X1.0\\nHETATM   32 UNX  MOL     1      10.023  10.023   2.025  1.00  0.00          X1.0\\nHETATM   33 UNX  MOL     1       5.728   2.864   8.100  1.00  0.00          X1.0\\nHETATM   34 UNX  MOL     1       0.000   0.000   8.100  1.00  0.00          X1.0\\nHETATM   35 UNX  MOL     1       2.864   5.728   8.100  1.00  0.00          X1.0\\nHETATM   36 UNX  MOL     1       1.432   1.432   6.075  1.00  0.00          X1.0\\nHETATM   37 UNX  MOL     1       1.432   4.296   6.075  1.00  0.00          X1.0\\nHETATM   38 UNX  MOL     1       2.864   2.864   8.100  1.00  0.00          X1.0\\nHETATM   39 UNX  MOL     1       4.296   1.432   6.075  1.00  0.00          X1.0\\nHETATM   40 UNX  MOL     1       4.296   4.296   6.075  1.00  0.00          X1.0\\nHETATM   41 UNX  MOL     1      11.455   2.864   8.100  1.00  0.00          X1.0\\nHETATM   42 UNX  MOL     1       5.728   0.000   8.100  1.00  0.00          X1.0\\nHETATM   43 UNX  MOL     1       8.591   5.728   8.100  1.00  0.00          X1.0\\nHETATM   44 UNX  MOL     1       7.159   1.432   6.075  1.00  0.00          X1.0\\nHETATM   45 UNX  MOL     1       7.159   4.296   6.075  1.00  0.00          X1.0\\nHETATM   46 UNX  MOL     1       8.591   2.864   8.100  1.00  0.00          X1.0\\nHETATM   47 UNX  MOL     1      10.023   1.432   6.075  1.00  0.00          X1.0\\nHETATM   48 UNX  MOL     1      10.023   4.296   6.075  1.00  0.00          X1.0\\nHETATM   49 UNX  MOL     1       5.728   8.591   8.100  1.00  0.00          X1.0\\nHETATM   50 UNX  MOL     1       0.000   5.728   8.100  1.00  0.00          X1.0\\nHETATM   51 UNX  MOL     1       2.864  11.455   8.100  1.00  0.00          X1.0\\nHETATM   52 UNX  MOL     1       1.432   7.159   6.075  1.00  0.00          X1.0\\nHETATM   53 UNX  MOL     1       1.432  10.023   6.075  1.00  0.00          X1.0\\nHETATM   54 UNX  MOL     1       2.864   8.591   8.100  1.00  0.00          X1.0\\nHETATM   55 UNX  MOL     1       4.296   7.159   6.075  1.00  0.00          X1.0\\nHETATM   56 UNX  MOL     1       4.296  10.023   6.075  1.00  0.00          X1.0\\nHETATM   57 UNX  MOL     1      11.455   8.591   8.100  1.00  0.00          X1.0\\nHETATM   58 UNX  MOL     1       5.728   5.728   8.100  1.00  0.00          X1.0\\nHETATM   59 UNX  MOL     1       8.591  11.455   8.100  1.00  0.00          X1.0\\nHETATM   60 UNX  MOL     1       7.159   7.159   6.075  1.00  0.00          X1.0\\nHETATM   61 UNX  MOL     1       7.159  10.023   6.075  1.00  0.00          X1.0\\nHETATM   62 UNX  MOL     1       8.591   8.591   8.100  1.00  0.00          X1.0\\nHETATM   63 UNX  MOL     1      10.023   7.159   6.075  1.00  0.00          X1.0\\nHETATM   64 UNX  MOL     1      10.023  10.023   6.075  1.00  0.00          X1.0\\nENDMDL\\n\",\"pdb\");\n",
       "\tviewer_1740413230829094.addUnitCell();\n",
       "\tviewer_1740413230829094.setStyle({\"model\": -1, \"serial\": 1},{\"sphere\": {\"radius\": 1.0, \"color\": \"#7dff7a\"}});\n",
       "\tviewer_1740413230829094.setStyle({\"model\": -1, \"serial\": 2},{\"sphere\": {\"radius\": 1.0, \"color\": \"#7dff7a\"}});\n",
       "\tviewer_1740413230829094.setStyle({\"model\": -1, \"serial\": 3},{\"sphere\": {\"radius\": 1.0, \"color\": \"#7dff7a\"}});\n",
       "\tviewer_1740413230829094.setStyle({\"model\": -1, \"serial\": 4},{\"sphere\": {\"radius\": 1.0, \"color\": \"#7dff7a\"}});\n",
       "\tviewer_1740413230829094.setStyle({\"model\": -1, \"serial\": 5},{\"sphere\": {\"radius\": 1.0, \"color\": \"#7dff7a\"}});\n",
       "\tviewer_1740413230829094.setStyle({\"model\": -1, \"serial\": 6},{\"sphere\": {\"radius\": 1.0, \"color\": \"#7dff7a\"}});\n",
       "\tviewer_1740413230829094.setStyle({\"model\": -1, \"serial\": 7},{\"sphere\": {\"radius\": 1.0, \"color\": \"#7dff7a\"}});\n",
       "\tviewer_1740413230829094.setStyle({\"model\": -1, \"serial\": 8},{\"sphere\": {\"radius\": 1.0, \"color\": \"#7dff7a\"}});\n",
       "\tviewer_1740413230829094.setStyle({\"model\": -1, \"serial\": 9},{\"sphere\": {\"radius\": 1.0, \"color\": \"#7dff7a\"}});\n",
       "\tviewer_1740413230829094.setStyle({\"model\": -1, \"serial\": 10},{\"sphere\": {\"radius\": 1.0, \"color\": \"#7dff7a\"}});\n",
       "\tviewer_1740413230829094.setStyle({\"model\": -1, \"serial\": 11},{\"sphere\": {\"radius\": 1.0, \"color\": \"#7dff7a\"}});\n",
       "\tviewer_1740413230829094.setStyle({\"model\": -1, \"serial\": 12},{\"sphere\": {\"radius\": 1.0, \"color\": \"#7dff7a\"}});\n",
       "\tviewer_1740413230829094.setStyle({\"model\": -1, \"serial\": 13},{\"sphere\": {\"radius\": 1.0, \"color\": \"#7dff7a\"}});\n",
       "\tviewer_1740413230829094.setStyle({\"model\": -1, \"serial\": 14},{\"sphere\": {\"radius\": 1.0, \"color\": \"#7dff7a\"}});\n",
       "\tviewer_1740413230829094.setStyle({\"model\": -1, \"serial\": 15},{\"sphere\": {\"radius\": 1.0, \"color\": \"#7dff7a\"}});\n",
       "\tviewer_1740413230829094.setStyle({\"model\": -1, \"serial\": 16},{\"sphere\": {\"radius\": 1.0, \"color\": \"#7dff7a\"}});\n",
       "\tviewer_1740413230829094.setStyle({\"model\": -1, \"serial\": 17},{\"sphere\": {\"radius\": 1.0, \"color\": \"#7dff7a\"}});\n",
       "\tviewer_1740413230829094.setStyle({\"model\": -1, \"serial\": 18},{\"sphere\": {\"radius\": 1.0, \"color\": \"#7dff7a\"}});\n",
       "\tviewer_1740413230829094.setStyle({\"model\": -1, \"serial\": 19},{\"sphere\": {\"radius\": 1.0, \"color\": \"#7dff7a\"}});\n",
       "\tviewer_1740413230829094.setStyle({\"model\": -1, \"serial\": 20},{\"sphere\": {\"radius\": 1.0, \"color\": \"#7dff7a\"}});\n",
       "\tviewer_1740413230829094.setStyle({\"model\": -1, \"serial\": 21},{\"sphere\": {\"radius\": 1.0, \"color\": \"#7dff7a\"}});\n",
       "\tviewer_1740413230829094.setStyle({\"model\": -1, \"serial\": 22},{\"sphere\": {\"radius\": 1.0, \"color\": \"#7dff7a\"}});\n",
       "\tviewer_1740413230829094.setStyle({\"model\": -1, \"serial\": 23},{\"sphere\": {\"radius\": 1.0, \"color\": \"#7dff7a\"}});\n",
       "\tviewer_1740413230829094.setStyle({\"model\": -1, \"serial\": 24},{\"sphere\": {\"radius\": 1.0, \"color\": \"#7dff7a\"}});\n",
       "\tviewer_1740413230829094.setStyle({\"model\": -1, \"serial\": 25},{\"sphere\": {\"radius\": 1.0, \"color\": \"#7dff7a\"}});\n",
       "\tviewer_1740413230829094.setStyle({\"model\": -1, \"serial\": 26},{\"sphere\": {\"radius\": 1.0, \"color\": \"#7dff7a\"}});\n",
       "\tviewer_1740413230829094.setStyle({\"model\": -1, \"serial\": 27},{\"sphere\": {\"radius\": 1.0, \"color\": \"#7dff7a\"}});\n",
       "\tviewer_1740413230829094.setStyle({\"model\": -1, \"serial\": 28},{\"sphere\": {\"radius\": 1.0, \"color\": \"#7dff7a\"}});\n",
       "\tviewer_1740413230829094.setStyle({\"model\": -1, \"serial\": 29},{\"sphere\": {\"radius\": 1.0, \"color\": \"#7dff7a\"}});\n",
       "\tviewer_1740413230829094.setStyle({\"model\": -1, \"serial\": 30},{\"sphere\": {\"radius\": 1.0, \"color\": \"#7dff7a\"}});\n",
       "\tviewer_1740413230829094.setStyle({\"model\": -1, \"serial\": 31},{\"sphere\": {\"radius\": 1.0, \"color\": \"#7dff7a\"}});\n",
       "\tviewer_1740413230829094.setStyle({\"model\": -1, \"serial\": 32},{\"sphere\": {\"radius\": 1.0, \"color\": \"#7dff7a\"}});\n",
       "\tviewer_1740413230829094.setStyle({\"model\": -1, \"serial\": 33},{\"sphere\": {\"radius\": 1.0, \"color\": \"#7dff7a\"}});\n",
       "\tviewer_1740413230829094.setStyle({\"model\": -1, \"serial\": 34},{\"sphere\": {\"radius\": 1.0, \"color\": \"#7dff7a\"}});\n",
       "\tviewer_1740413230829094.setStyle({\"model\": -1, \"serial\": 35},{\"sphere\": {\"radius\": 1.0, \"color\": \"#7dff7a\"}});\n",
       "\tviewer_1740413230829094.setStyle({\"model\": -1, \"serial\": 36},{\"sphere\": {\"radius\": 1.0, \"color\": \"#7dff7a\"}});\n",
       "\tviewer_1740413230829094.setStyle({\"model\": -1, \"serial\": 37},{\"sphere\": {\"radius\": 1.0, \"color\": \"#7dff7a\"}});\n",
       "\tviewer_1740413230829094.setStyle({\"model\": -1, \"serial\": 38},{\"sphere\": {\"radius\": 1.0, \"color\": \"#7dff7a\"}});\n",
       "\tviewer_1740413230829094.setStyle({\"model\": -1, \"serial\": 39},{\"sphere\": {\"radius\": 1.0, \"color\": \"#7dff7a\"}});\n",
       "\tviewer_1740413230829094.setStyle({\"model\": -1, \"serial\": 40},{\"sphere\": {\"radius\": 1.0, \"color\": \"#7dff7a\"}});\n",
       "\tviewer_1740413230829094.setStyle({\"model\": -1, \"serial\": 41},{\"sphere\": {\"radius\": 1.0, \"color\": \"#7dff7a\"}});\n",
       "\tviewer_1740413230829094.setStyle({\"model\": -1, \"serial\": 42},{\"sphere\": {\"radius\": 1.0, \"color\": \"#7dff7a\"}});\n",
       "\tviewer_1740413230829094.setStyle({\"model\": -1, \"serial\": 43},{\"sphere\": {\"radius\": 1.0, \"color\": \"#7dff7a\"}});\n",
       "\tviewer_1740413230829094.setStyle({\"model\": -1, \"serial\": 44},{\"sphere\": {\"radius\": 1.0, \"color\": \"#7dff7a\"}});\n",
       "\tviewer_1740413230829094.setStyle({\"model\": -1, \"serial\": 45},{\"sphere\": {\"radius\": 1.0, \"color\": \"#7dff7a\"}});\n",
       "\tviewer_1740413230829094.setStyle({\"model\": -1, \"serial\": 46},{\"sphere\": {\"radius\": 1.0, \"color\": \"#7dff7a\"}});\n",
       "\tviewer_1740413230829094.setStyle({\"model\": -1, \"serial\": 47},{\"sphere\": {\"radius\": 1.0, \"color\": \"#7dff7a\"}});\n",
       "\tviewer_1740413230829094.setStyle({\"model\": -1, \"serial\": 48},{\"sphere\": {\"radius\": 1.0, \"color\": \"#7dff7a\"}});\n",
       "\tviewer_1740413230829094.setStyle({\"model\": -1, \"serial\": 49},{\"sphere\": {\"radius\": 1.0, \"color\": \"#7dff7a\"}});\n",
       "\tviewer_1740413230829094.setStyle({\"model\": -1, \"serial\": 50},{\"sphere\": {\"radius\": 1.0, \"color\": \"#7dff7a\"}});\n",
       "\tviewer_1740413230829094.setStyle({\"model\": -1, \"serial\": 51},{\"sphere\": {\"radius\": 1.0, \"color\": \"#7dff7a\"}});\n",
       "\tviewer_1740413230829094.setStyle({\"model\": -1, \"serial\": 52},{\"sphere\": {\"radius\": 1.0, \"color\": \"#7dff7a\"}});\n",
       "\tviewer_1740413230829094.setStyle({\"model\": -1, \"serial\": 53},{\"sphere\": {\"radius\": 1.0, \"color\": \"#7dff7a\"}});\n",
       "\tviewer_1740413230829094.setStyle({\"model\": -1, \"serial\": 54},{\"sphere\": {\"radius\": 1.0, \"color\": \"#7dff7a\"}});\n",
       "\tviewer_1740413230829094.setStyle({\"model\": -1, \"serial\": 55},{\"sphere\": {\"radius\": 1.0, \"color\": \"#7dff7a\"}});\n",
       "\tviewer_1740413230829094.setStyle({\"model\": -1, \"serial\": 56},{\"sphere\": {\"radius\": 1.0, \"color\": \"#7dff7a\"}});\n",
       "\tviewer_1740413230829094.setStyle({\"model\": -1, \"serial\": 57},{\"sphere\": {\"radius\": 1.0, \"color\": \"#7dff7a\"}});\n",
       "\tviewer_1740413230829094.setStyle({\"model\": -1, \"serial\": 58},{\"sphere\": {\"radius\": 1.0, \"color\": \"#7dff7a\"}});\n",
       "\tviewer_1740413230829094.setStyle({\"model\": -1, \"serial\": 59},{\"sphere\": {\"radius\": 1.0, \"color\": \"#7dff7a\"}});\n",
       "\tviewer_1740413230829094.setStyle({\"model\": -1, \"serial\": 60},{\"sphere\": {\"radius\": 1.0, \"color\": \"#7dff7a\"}});\n",
       "\tviewer_1740413230829094.setStyle({\"model\": -1, \"serial\": 61},{\"sphere\": {\"radius\": 1.0, \"color\": \"#7dff7a\"}});\n",
       "\tviewer_1740413230829094.setStyle({\"model\": -1, \"serial\": 62},{\"sphere\": {\"radius\": 1.0, \"color\": \"#7dff7a\"}});\n",
       "\tviewer_1740413230829094.setStyle({\"model\": -1, \"serial\": 63},{\"sphere\": {\"radius\": 1.0, \"color\": \"#7dff7a\"}});\n",
       "\tviewer_1740413230829094.setStyle({\"model\": -1, \"serial\": 64},{\"sphere\": {\"radius\": 1.0, \"color\": \"#7dff7a\"}});\n",
       "\tviewer_1740413230829094.zoomTo();\n",
       "viewer_1740413230829094.render();\n",
       "});\n",
       "</script>"
      ]
     },
     "metadata": {},
     "output_type": "display_data"
    }
   ],
   "source": [
    "am.plot.py3Dmol.view_3d(system, width=400, height=400)"
   ]
  },
  {
   "cell_type": "markdown",
   "metadata": {},
   "source": [
    "### 4.3. Other Methods\n",
    "\n",
    "Other methods include:\n",
    "\n",
    "- **wrap()** wraps atoms around periodic boundaries and expands non-periodic boundaries to ensure all atom positions are within the box.\n",
    "\n",
    "- **normalize()** transforms the system such that box vectors and atomic positions are compatible with simulation codes, such as LAMMPS."
   ]
  },
  {
   "cell_type": "markdown",
   "metadata": {},
   "source": [
    "  "
   ]
  }
 ],
 "metadata": {
  "anaconda-cloud": {},
  "kernelspec": {
   "display_name": "ipr",
   "language": "python",
   "name": "ipr"
  },
  "language_info": {
   "codemirror_mode": {
    "name": "ipython",
    "version": 3
   },
   "file_extension": ".py",
   "mimetype": "text/x-python",
   "name": "python",
   "nbconvert_exporter": "python",
   "pygments_lexer": "ipython3",
   "version": "3.11.11"
  }
 },
 "nbformat": 4,
 "nbformat_minor": 4
}
