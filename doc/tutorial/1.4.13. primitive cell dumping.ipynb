{
 "cells": [
  {
   "cell_type": "markdown",
   "id": "3ed392e9",
   "metadata": {},
   "source": [
    "# Introduction to atomman: Primitive cell dumping\n",
    "\n",
    "__Lucas M. Hale__, [lucas.hale@nist.gov](mailto:lucas.hale@nist.gov?Subject=ipr-demo), _Materials Science and Engineering Division, NIST_.\n",
    "    \n",
    "[Disclaimers](http://www.nist.gov/public_affairs/disclaimer.cfm) "
   ]
  },
  {
   "cell_type": "markdown",
   "id": "ac7ad7a0",
   "metadata": {},
   "source": [
    "## 1. Introduction<a id='section1'></a>\n",
    "\n",
    "This is a utility dump method that uses [spglib](https://github.com/spglib/spglib) to analyze the symmetry of a given atomman System and return the corresponding primitive cell.  It is slightly different from the other dump methods in that it returns a new System rather than another type of object.\n",
    "\n",
    "**NOTE**: Requires that spglib be installed.\n",
    "\n",
    "*Added version 1.4.6*"
   ]
  },
  {
   "cell_type": "markdown",
   "id": "98f526e4",
   "metadata": {},
   "source": [
    "**Library Imports**"
   ]
  },
  {
   "cell_type": "code",
   "execution_count": 1,
   "id": "ec71591a",
   "metadata": {},
   "outputs": [
    {
     "name": "stdout",
     "output_type": "stream",
     "text": [
      "atomman version = 1.5.0\n",
      "Notebook executed on 2024-12-11\n"
     ]
    }
   ],
   "source": [
    "# Standard Python libraries\n",
    "import datetime\n",
    "\n",
    "# http://www.numpy.org/\n",
    "import numpy as np\n",
    "\n",
    "import atomman as am\n",
    "import atomman.unitconvert as uc\n",
    "\n",
    "# Show atomman version\n",
    "print('atomman version =', am.__version__)\n",
    "\n",
    "# Show date of Notebook execution\n",
    "print('Notebook executed on', datetime.date.today())"
   ]
  },
  {
   "cell_type": "markdown",
   "id": "7a7fadd8",
   "metadata": {},
   "source": [
    "## 2. Dump<a id='section2'></a>"
   ]
  },
  {
   "cell_type": "markdown",
   "id": "fc3aecfc",
   "metadata": {},
   "source": [
    "### 2.1. System.dump('primitive_cell')\n",
    "\n",
    "Create a new System based on the identified symmetric primitive unit cell of the current System.\n",
    "\n",
    "Parameters\n",
    "\n",
    "- **symprec** (*float, optional*) Absolute length tolerance to use in identifying symmetry of atomic sites and system boundaries. Default value is 1e-5.\n",
    "\n",
    "- **normalize** (*str  or None, optional*) Indicates which normalization scheme, if any, to use on the identified primitive cell.  None will return exactly as obtained from spglib. Default value is 'lammps', meaning that the cell will be compatible with LAMMPS.\n",
    "        \n",
    "Returns\n",
    "\n",
    "- **ucell** (*atomman.System*) The identified primitive unit cell as a System object."
   ]
  },
  {
   "cell_type": "code",
   "execution_count": 2,
   "id": "e6e6fa25",
   "metadata": {
    "tags": []
   },
   "outputs": [
    {
     "name": "stdout",
     "output_type": "stream",
     "text": [
      "avect =  [ 2.864,  0.000,  0.000]\n",
      "bvect =  [ 1.432,  2.480,  0.000]\n",
      "cvect =  [ 1.432,  0.827,  2.338]\n",
      "origin = [ 0.000,  0.000,  0.000]\n",
      "natoms = 1\n",
      "natypes = 1\n",
      "symbols = ('Al',)\n",
      "pbc = [ True  True  True]\n",
      "per-atom properties = ['atype', 'pos']\n",
      "     id |   atype |  pos[0] |  pos[1] |  pos[2]\n",
      "      0 |       1 |   5.728 |   3.307 |   2.338\n"
     ]
    }
   ],
   "source": [
    "# Create a 3x3x3 fcc supercell\n",
    "fcc = am.load('prototype', 'A1--Cu--fcc', a=4.05, symbols='Al')\n",
    "system = fcc.supersize(3,3,3)\n",
    "\n",
    "# Dump the primitive cell\n",
    "p_ucell = system.dump('primitive_cell')\n",
    "print(p_ucell)"
   ]
  }
 ],
 "metadata": {
  "kernelspec": {
   "display_name": "Python 311",
   "language": "python",
   "name": "py11"
  },
  "language_info": {
   "codemirror_mode": {
    "name": "ipython",
    "version": 3
   },
   "file_extension": ".py",
   "mimetype": "text/x-python",
   "name": "python",
   "nbconvert_exporter": "python",
   "pygments_lexer": "ipython3",
   "version": "3.11.5"
  }
 },
 "nbformat": 4,
 "nbformat_minor": 5
}
