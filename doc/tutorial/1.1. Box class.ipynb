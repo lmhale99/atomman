{
 "cells": [
  {
   "cell_type": "markdown",
   "metadata": {},
   "source": [
    "# Introduction to atomman: Box class\n",
    "\n",
    "__Lucas M. Hale__, [lucas.hale@nist.gov](mailto:lucas.hale@nist.gov?Subject=ipr-demo), _Materials Science and Engineering Division, NIST_.\n",
    "    \n",
    "[Disclaimers](http://www.nist.gov/public_affairs/disclaimer.cfm) "
   ]
  },
  {
   "cell_type": "markdown",
   "metadata": {},
   "source": [
    "## 1. Introduction <a id='section1'></a>\n",
    "\n",
    "The atomman.Box class represents a generic parallelepiped that can be used as a simulation box/cell allowing for translational symmetry in all three dimensions.  The underlying data structure consists of three 3D vectors:\n",
    "\n",
    "- **avect** is the Cartesian vector associated with the Box's a lattice vector.\n",
    "\n",
    "- **bvect** is the Cartesian vector associated with the Box's b lattice vector.\n",
    "\n",
    "- **cvect** is the Cartesian vector associated with the Box's c lattice vector.\n",
    "\n",
    "- **origin** is the Cartesian position vector for the Box's origin.  The positions of the Box's eight corners are given by adding combinations of avect, bvect and cvect to the origin."
   ]
  },
  {
   "cell_type": "markdown",
   "metadata": {},
   "source": [
    "**Library Imports**"
   ]
  },
  {
   "cell_type": "code",
   "execution_count": 1,
   "metadata": {},
   "outputs": [
    {
     "name": "stdout",
     "output_type": "stream",
     "text": [
      "atomman version = 1.5.0\n",
      "Notebook executed on 2024-12-11\n"
     ]
    }
   ],
   "source": [
    "# Standard Python libraries\n",
    "import datetime\n",
    "\n",
    "# http://www.numpy.org/\n",
    "import numpy as np\n",
    "\n",
    "# https://github.com/usnistgov/atomman\n",
    "import atomman as am\n",
    "import atomman.unitconvert as uc\n",
    "\n",
    "# Show atomman version\n",
    "print('atomman version =', am.__version__)\n",
    "\n",
    "# Show date of Notebook execution\n",
    "print('Notebook executed on', datetime.date.today())"
   ]
  },
  {
   "cell_type": "markdown",
   "metadata": {},
   "source": [
    "Create a default box with vects that are normal unit vectors."
   ]
  },
  {
   "cell_type": "code",
   "execution_count": 2,
   "metadata": {},
   "outputs": [
    {
     "name": "stdout",
     "output_type": "stream",
     "text": [
      "avect =  [ 1.000,  0.000,  0.000]\n",
      "bvect =  [ 0.000,  1.000,  0.000]\n",
      "cvect =  [ 0.000,  0.000,  1.000]\n",
      "origin = [ 0.000,  0.000,  0.000]\n"
     ]
    }
   ],
   "source": [
    "box = am.Box()\n",
    "\n",
    "print(box)"
   ]
  },
  {
   "cell_type": "markdown",
   "metadata": {},
   "source": [
    "## 2. Box parameters <a id='section2'></a>\n",
    "\n",
    "The Box class supports a number of different parameters to represent the underlying box. All of these parameters can be fetched as class attributes.\n",
    "\n",
    "- **avect, bvect, cvect** are the Cartesian vectors associated with the Box's lattice vectors.\n",
    "\n",
    "- **origin** is the Cartesian position vector for the Box's origin.\n",
    "\n",
    "- **vects** is a 3x3 array containing [avect, bvect, cvect].\n",
    "\n",
    "- **a, b, c** are the Box's lattice parameters (magnitudes of avect, bvect, cvect, respectively).\n",
    "\n",
    "- **alpha, beta, gamma** are the Box's lattice angles in degrees.\n",
    "\n",
    "- **xlo, xhi, ylo, yhi, zlo, zhi** are the LAMMPS hi/lo box dimensions.\n",
    "\n",
    "- **lx, ly, lz** are the LAMMPS box dimensions (lx = xhi - xlo, etc.)\n",
    "\n",
    "- **xy, xz, yz** are the LAMMPS box tilt factors.\n",
    "\n",
    "- **volume** is the box's volume (added version 1.2.5).\n"
   ]
  },
  {
   "cell_type": "code",
   "execution_count": 3,
   "metadata": {},
   "outputs": [
    {
     "name": "stdout",
     "output_type": "stream",
     "text": [
      "box.avect -> [1. 0. 0.]\n",
      "box.bvect -> [0. 1. 0.]\n",
      "box.cvect -> [0. 0. 1.]\n",
      "\n",
      "box.origin -> [0. 0. 0.]\n",
      "\n",
      "box.vects ->\n",
      "[[1. 0. 0.]\n",
      " [0. 1. 0.]\n",
      " [0. 0. 1.]]\n",
      "\n",
      "box.a -> 1.0\n",
      "box.b -> 1.0\n",
      "box.c -> 1.0\n",
      "box.alpha -> 90.0\n",
      "box.beta  -> 90.0\n",
      "box.gamma -> 90.0\n",
      "\n",
      "box.xlo -> 0.0\n",
      "box.xhi -> 1.0\n",
      "box.ylo -> 0.0\n",
      "box.yhi -> 1.0\n",
      "box.zlo -> 0.0\n",
      "box.zhi -> 1.0\n",
      "box.lx -> 1.0\n",
      "box.ly -> 1.0\n",
      "box.lz -> 1.0\n",
      "box.xy -> 0.0\n",
      "box.xz -> 0.0\n",
      "box.yz -> 0.0\n",
      "\n",
      "box.volume -> 1.0\n"
     ]
    }
   ],
   "source": [
    "# Individual box vectors\n",
    "print('box.avect ->', box.avect)\n",
    "print('box.bvect ->', box.bvect)\n",
    "print('box.cvect ->', box.cvect)\n",
    "print()\n",
    "\n",
    "# Box origin position\n",
    "print('box.origin ->', box.origin)\n",
    "print()\n",
    "\n",
    "# Array of box vectors\n",
    "print('box.vects ->')\n",
    "print(box.vects)\n",
    "print()\n",
    "\n",
    "# Crystal lattice parameters\n",
    "print('box.a ->', box.a)\n",
    "print('box.b ->', box.b)\n",
    "print('box.c ->', box.c)\n",
    "print('box.alpha ->', box.alpha)\n",
    "print('box.beta  ->', box.beta)\n",
    "print('box.gamma ->', box.gamma)\n",
    "print()\n",
    "\n",
    "# LAMMPS parameters\n",
    "print('box.xlo ->', box.xlo)\n",
    "print('box.xhi ->', box.xhi)\n",
    "print('box.ylo ->', box.ylo)\n",
    "print('box.yhi ->', box.yhi)\n",
    "print('box.zlo ->', box.zlo)\n",
    "print('box.zhi ->', box.zhi)\n",
    "print('box.lx ->', box.lx)\n",
    "print('box.ly ->', box.ly)\n",
    "print('box.lz ->', box.lz)\n",
    "print('box.xy ->', box.xy)\n",
    "print('box.xz ->', box.xz)\n",
    "print('box.yz ->', box.yz)\n",
    "print()\n",
    "\n",
    "# Box volume\n",
    "print('box.volume ->', box.volume)"
   ]
  },
  {
   "cell_type": "markdown",
   "metadata": {},
   "source": [
    "## 3. Initializing and setting Box parameters <a id='section3'></a>\n",
    "\n",
    "Only a few of the parameters listed in [Section #2](#section2) can be directly set.  This is done as setting some of the parameters independent of others can lead to ambiguous answers.  For better control, set() functions are defined that allow for the setting of complete parameter sets for defining the box."
   ]
  },
  {
   "cell_type": "markdown",
   "metadata": {},
   "source": [
    "### 3.1. Direct setting box vects and origin\n",
    "\n",
    "Only vects and origin can be directly set."
   ]
  },
  {
   "cell_type": "code",
   "execution_count": 4,
   "metadata": {},
   "outputs": [
    {
     "name": "stdout",
     "output_type": "stream",
     "text": [
      "avect =  [ 0.289,  2.526,  3.573]\n",
      "bvect =  [ 1.686,  1.442,  2.628]\n",
      "cvect =  [ 2.673,  1.054,  0.924]\n",
      "origin = [ 0.896,  0.542,  0.338]\n"
     ]
    }
   ],
   "source": [
    "# Set avect, bvect, cvect and origin with random vectors\n",
    "box.vects = 4 * np.random.rand(3,3)\n",
    "box.origin = np.random.rand(3)\n",
    "print(box)"
   ]
  },
  {
   "cell_type": "markdown",
   "metadata": {},
   "source": [
    "### 3.2. Box initializing and Box.set() method \n",
    "\n",
    "A new Box can be initialized or an existing Box can be changed using the Box.set() method by using one of the following sets of parameters (optional terms in parenthesis):\n",
    "\n",
    "- vects (and origin)\n",
    "\n",
    "- avect, bvect, cvect (and origin)\n",
    "\n",
    "- a, b, c, (alpha, beta, gamma and origin)\n",
    "\n",
    "- xlo, xhi, ylo, yhi, zlo, zhi, (xy, xz and yz)\n",
    "\n",
    "- lx, ly, lz, (xy, xz, yz, and origin)"
   ]
  },
  {
   "cell_type": "code",
   "execution_count": 5,
   "metadata": {},
   "outputs": [
    {
     "name": "stdout",
     "output_type": "stream",
     "text": [
      "avect =  [ 1.000,  2.000,  3.000]\n",
      "bvect =  [ 2.000,  3.000,  1.000]\n",
      "cvect =  [ 3.000,  1.000,  2.000]\n",
      "origin = [ 0.000,  0.000,  0.000]\n"
     ]
    }
   ],
   "source": [
    "# Use set with vects (default origin is [0,0,0])\n",
    "box.set(vects=[[1,2,3], [2,3,1], [3,1,2]])\n",
    "print(box)"
   ]
  },
  {
   "cell_type": "code",
   "execution_count": 6,
   "metadata": {},
   "outputs": [
    {
     "name": "stdout",
     "output_type": "stream",
     "text": [
      "avect =  [ 3.200,  0.000,  0.000]\n",
      "bvect =  [ 0.000,  3.200,  0.000]\n",
      "cvect =  [ 0.000,  0.000,  3.200]\n",
      "origin = [ 0.000,  0.000,  0.000]\n"
     ]
    }
   ],
   "source": [
    "# Use set with avect, bvect, cvect (default origin is [0,0,0])\n",
    "box.set(avect=[3.2, 0.0, 0.0], bvect=[0.0, 3.2, 0.0], cvect=[0.0, 0.0, 3.2])\n",
    "print(box)"
   ]
  },
  {
   "cell_type": "code",
   "execution_count": 7,
   "metadata": {},
   "outputs": [
    {
     "name": "stdout",
     "output_type": "stream",
     "text": [
      "avect =  [ 4.300,  0.000,  0.000]\n",
      "bvect =  [ 0.000,  3.200,  0.000]\n",
      "cvect =  [ 0.000, -2.770,  7.612]\n",
      "origin = [ 0.000,  0.000,  0.000]\n",
      "\n",
      "box.a -> 4.3\n",
      "box.b -> 3.2\n",
      "box.c -> 8.1\n",
      "box.alpha -> 110.0\n",
      "box.beta  -> 90.0\n",
      "box.gamma -> 90.0\n"
     ]
    }
   ],
   "source": [
    "# Use set with a, b, c and alpha (default angles are 90, origin is [0,0,0])\n",
    "box.set(a=4.3, b=3.2, c=8.1, alpha=110)\n",
    "print(box)\n",
    "print()\n",
    "\n",
    "# Show that box definition coincides with parameters set\n",
    "print('box.a ->', box.a)\n",
    "print('box.b ->', box.b)\n",
    "print('box.c ->', box.c)\n",
    "print('box.alpha ->', box.alpha)\n",
    "print('box.beta  ->', box.beta)\n",
    "print('box.gamma ->', box.gamma)"
   ]
  },
  {
   "cell_type": "code",
   "execution_count": 8,
   "metadata": {},
   "outputs": [
    {
     "name": "stdout",
     "output_type": "stream",
     "text": [
      "avect =  [ 6.000,  0.000,  0.000]\n",
      "bvect =  [ 0.500,  7.100,  0.000]\n",
      "cvect =  [ 0.000,  0.000,  3.000]\n",
      "origin = [-1.000, -2.100,  0.100]\n",
      "\n",
      "box.xlo -> -1.0\n",
      "box.xhi -> 5.0\n",
      "box.ylo -> -2.1\n",
      "box.yhi -> 5.0\n",
      "box.zlo -> 0.1\n",
      "box.zhi -> 3.1\n",
      "box.xy -> 0.5\n",
      "box.xz -> 0.0\n",
      "box.yz -> 0.0\n"
     ]
    }
   ],
   "source": [
    "# Use set with xlo, xhi, ylo, yhi, zlo, zhi and xy (default tilts are 0)\n",
    "box.set(xlo=-1, xhi=5, ylo=-2.1, yhi=5, zlo=0.1, zhi=3.1, xy=0.5)\n",
    "print(box)\n",
    "print()\n",
    "\n",
    "# Show that box definition coincides with parameters set\n",
    "print('box.xlo ->', box.xlo)\n",
    "print('box.xhi ->', box.xhi)\n",
    "print('box.ylo ->', box.ylo)\n",
    "print('box.yhi ->', box.yhi)\n",
    "print('box.zlo ->', box.zlo)\n",
    "print('box.zhi ->', box.zhi)\n",
    "print('box.xy ->', box.xy)\n",
    "print('box.xz ->', box.xz)\n",
    "print('box.yz ->', box.yz)"
   ]
  },
  {
   "cell_type": "code",
   "execution_count": 9,
   "metadata": {},
   "outputs": [
    {
     "name": "stdout",
     "output_type": "stream",
     "text": [
      "avect =  [42.000,  0.000,  0.000]\n",
      "bvect =  [ 0.000, 57.000,  0.000]\n",
      "cvect =  [15.000,  0.000, 112.000]\n",
      "origin = [ 1.000,  2.000,  3.000]\n",
      "\n",
      "box.lx -> 42.0\n",
      "box.ly -> 57.0\n",
      "box.lz -> 112.0\n",
      "box.xy -> 0.0\n",
      "box.xz -> 15.0\n",
      "box.yz -> 0.0\n"
     ]
    }
   ],
   "source": [
    "# Use set with lx, ly, lz and xz (default tilts are 0, origin is [0,0,0])\n",
    "box.set(lx=42, ly=57, lz=112, xz=15, origin=[1,2,3])\n",
    "print(box)\n",
    "print()\n",
    "\n",
    "# Show that box definition coincides with parameters set\n",
    "print('box.lx ->', box.lx)\n",
    "print('box.ly ->', box.ly)\n",
    "print('box.lz ->', box.lz)\n",
    "print('box.xy ->', box.xy)\n",
    "print('box.xz ->', box.xz)\n",
    "print('box.yz ->', box.yz)"
   ]
  },
  {
   "cell_type": "markdown",
   "metadata": {},
   "source": [
    "### 3.3. Crystal family static methods\n",
    "\n",
    "*Added version 1.2.5*\n",
    "\n",
    "There are also methods for each of the seven crystal families that are convenient for the construction of unit cell systems in standard representations:\n",
    "\n",
    "- **cubic(a)**: $a = b = c; \\alpha = \\beta = \\gamma = 90^\\circ$\n",
    "\n",
    "- **hexagonal(a, c)**: $a = b \\ne c; \\alpha = \\beta = 90^\\circ; \\gamma = 120^\\circ$\n",
    "\n",
    "- **tetragonal(a, c)**: $a = b \\ne c; \\alpha = \\beta = \\gamma = 90^\\circ$\n",
    "\n",
    "- **trigonal(a, alpha)**: $a = b = c; \\alpha = \\beta = \\gamma < 120^\\circ$\n",
    "\n",
    "- **orthorhombic(a, b, c)**: $a \\ne b \\ne c; \\alpha = \\beta = \\gamma = 90^\\circ$\n",
    "\n",
    "- **monoclinic(a, b, c, beta)**: $a \\ne b \\ne c; \\alpha = \\gamma = 90^\\circ; \\beta > 90^\\circ$\n",
    "\n",
    "- **triclinic(a, b, c, alpha, beta, gamma)**: $a \\ne b \\ne c; \\alpha \\ne \\beta \\ne \\gamma$\n"
   ]
  },
  {
   "cell_type": "code",
   "execution_count": 10,
   "metadata": {},
   "outputs": [
    {
     "name": "stdout",
     "output_type": "stream",
     "text": [
      "am.Box.cubic(4.25) ->\n",
      "box.a -> 4.25\n",
      "box.b -> 4.25\n",
      "box.c -> 4.25\n",
      "box.alpha -> 90.0\n",
      "box.beta  -> 90.0\n",
      "box.gamma -> 90.0\n"
     ]
    }
   ],
   "source": [
    "print('am.Box.cubic(4.25) ->')\n",
    "box = am.Box.cubic(4.25)\n",
    "print('box.a ->', box.a)\n",
    "print('box.b ->', box.b)\n",
    "print('box.c ->', box.c)\n",
    "print('box.alpha ->', box.alpha)\n",
    "print('box.beta  ->', box.beta)\n",
    "print('box.gamma ->', box.gamma)"
   ]
  },
  {
   "cell_type": "code",
   "execution_count": 11,
   "metadata": {},
   "outputs": [
    {
     "name": "stdout",
     "output_type": "stream",
     "text": [
      "am.Box.hexagonal(3.12, 5.14) ->\n",
      "box.a -> 3.12\n",
      "box.b -> 3.12\n",
      "box.c -> 5.14\n",
      "box.alpha -> 90.0\n",
      "box.beta  -> 90.0\n",
      "box.gamma -> 119.99999999999999\n"
     ]
    }
   ],
   "source": [
    "print('am.Box.hexagonal(3.12, 5.14) ->')\n",
    "box = am.Box.hexagonal(3.12, 5.14)\n",
    "print('box.a ->', box.a)\n",
    "print('box.b ->', box.b)\n",
    "print('box.c ->', box.c)\n",
    "print('box.alpha ->', box.alpha)\n",
    "print('box.beta  ->', box.beta)\n",
    "print('box.gamma ->', box.gamma)"
   ]
  },
  {
   "cell_type": "markdown",
   "metadata": {},
   "source": [
    "## 4. Box model <a id='section5'></a>\n",
    "\n",
    "*Added version 1.2.7*\n",
    "\n",
    "A JSON/XML equivalent data model representation of the Box object can be generated using the model() method. "
   ]
  },
  {
   "cell_type": "markdown",
   "metadata": {},
   "source": [
    "The units of length used in the model can be set using the 'length_unit' parameter."
   ]
  },
  {
   "cell_type": "code",
   "execution_count": 12,
   "metadata": {},
   "outputs": [
    {
     "name": "stdout",
     "output_type": "stream",
     "text": [
      "{\"box\": {\"avect\": {\"value\": [3.12, 0.0, 0.0], \"unit\": \"angstrom\"}, \"bvect\": {\"value\": [-1.5599999999999994, 2.701999259807449, 0.0], \"unit\": \"angstrom\"}, \"cvect\": {\"value\": [0.0, 0.0, 5.14], \"unit\": \"angstrom\"}, \"origin\": {\"value\": [0.0, 0.0, 0.0], \"unit\": \"angstrom\"}}}\n",
      "\n",
      "<?xml version=\"1.0\" encoding=\"utf-8\"?>\n",
      "<box><avect><value>3.12</value><value>0.0</value><value>0.0</value><unit>angstrom</unit></avect><bvect><value>-1.5599999999999994</value><value>2.701999259807449</value><value>0.0</value><unit>angstrom</unit></bvect><cvect><value>0.0</value><value>0.0</value><value>5.14</value><unit>angstrom</unit></cvect><origin><value>0.0</value><value>0.0</value><value>0.0</value><unit>angstrom</unit></origin></box>\n"
     ]
    }
   ],
   "source": [
    "model = box.model()\n",
    "print(model.json())\n",
    "print()\n",
    "print(model.xml())"
   ]
  },
  {
   "cell_type": "code",
   "execution_count": 13,
   "metadata": {},
   "outputs": [
    {
     "name": "stdout",
     "output_type": "stream",
     "text": [
      "{\"box\": {\"avect\": {\"value\": [0.312, 0.0, 0.0], \"unit\": \"nm\"}, \"bvect\": {\"value\": [-0.15599999999999994, 0.27019992598074494, 0.0], \"unit\": \"nm\"}, \"cvect\": {\"value\": [0.0, 0.0, 0.514], \"unit\": \"nm\"}, \"origin\": {\"value\": [0.0, 0.0, 0.0], \"unit\": \"nm\"}}}\n"
     ]
    }
   ],
   "source": [
    "model = box.model(length_unit='nm')\n",
    "print(model.json())"
   ]
  },
  {
   "cell_type": "markdown",
   "metadata": {},
   "source": [
    "Any stored model information can then be reloaded in as a Box object by passing the 'model' parameter to either the class initializer or the model() method."
   ]
  },
  {
   "cell_type": "code",
   "execution_count": 14,
   "metadata": {},
   "outputs": [
    {
     "name": "stdout",
     "output_type": "stream",
     "text": [
      "avect =  [ 3.120,  0.000,  0.000]\n",
      "bvect =  [-1.560,  2.702,  0.000]\n",
      "cvect =  [ 0.000,  0.000,  5.140]\n",
      "origin = [ 0.000,  0.000,  0.000]\n"
     ]
    }
   ],
   "source": [
    "print(am.Box(model=model))"
   ]
  },
  {
   "cell_type": "code",
   "execution_count": 15,
   "metadata": {},
   "outputs": [
    {
     "name": "stdout",
     "output_type": "stream",
     "text": [
      "avect =  [ 3.120,  0.000,  0.000]\n",
      "bvect =  [-1.560,  2.702,  0.000]\n",
      "cvect =  [ 0.000,  0.000,  5.140]\n",
      "origin = [ 0.000,  0.000,  0.000]\n"
     ]
    }
   ],
   "source": [
    "box.model(model=model)\n",
    "print(box)"
   ]
  },
  {
   "cell_type": "markdown",
   "metadata": {},
   "source": [
    "## 5. Characterization and utility methods\n",
    "\n",
    "This section describes some additional useful methods built into the Box class."
   ]
  },
  {
   "cell_type": "markdown",
   "metadata": {},
   "source": [
    "### 5.1. LAMMPS-compatible Boxes <a id='section4'></a>\n",
    "\n",
    "For boxes to be compatible with LAMMPS, they have to adhere to the following conditions:\n",
    "\n",
    "- avect, bvect, cvect are right-handed.\n",
    "\n",
    "- Only certain components of the lattice vectors are allowed to be non-zero:\n",
    "\n",
    "        avect = [lx, 0.0, 0.0]\n",
    "        bvect = [xy,  ly, 0.0]\n",
    "        cvect = [xz,  yz,  lz]\n",
    "        \n",
    "- The tilt factors are limited to being between -1/2 and 1/2 the corresponding length terms. \n",
    "\n",
    "The first two conditions are automatically adhered to if the box is set with LAMMPS terms or crystal lattice parameters, but may not be true if the box was set using the crystal vectors. The third condition is not checked by atomman. Large tilt factors are allowed by LAMMPS if the \"box tilt large\" command is used."
   ]
  },
  {
   "cell_type": "markdown",
   "metadata": {},
   "source": [
    "### 5.1.1. Box.is_lammps_norm()\n",
    "\n",
    "This function returns True if the Box is compatible with the first two LAMMPS condtions and False otherwise. "
   ]
  },
  {
   "cell_type": "code",
   "execution_count": 16,
   "metadata": {},
   "outputs": [
    {
     "name": "stdout",
     "output_type": "stream",
     "text": [
      "box.is_lammps_norm() -> True\n"
     ]
    }
   ],
   "source": [
    "# The current box was defined with LAMMPS parameters, therefore is compatible\n",
    "print('box.is_lammps_norm() ->', box.is_lammps_norm())"
   ]
  },
  {
   "cell_type": "code",
   "execution_count": 17,
   "metadata": {},
   "outputs": [
    {
     "name": "stdout",
     "output_type": "stream",
     "text": [
      "box.is_lammps_norm() -> False\n"
     ]
    }
   ],
   "source": [
    "# Define a non-lammps compatible box using set(avect, bvect, cvect)\n",
    "box.set(avect=[10, 0.1, 0.0], bvect=[0.2, 9.0, 0.0], cvect=[-0.2, 0.5, 14])\n",
    "\n",
    "print('box.is_lammps_norm() ->', box.is_lammps_norm())"
   ]
  },
  {
   "cell_type": "markdown",
   "metadata": {},
   "source": [
    "Trying to access LAMMPS box parameters for incompatible boxes will issue an error."
   ]
  },
  {
   "cell_type": "code",
   "execution_count": 18,
   "metadata": {},
   "outputs": [
    {
     "name": "stdout",
     "output_type": "stream",
     "text": [
      "AssertionError: Box is not normalized for LAMMPS style parameters\n"
     ]
    }
   ],
   "source": [
    "try:\n",
    "    box.lx\n",
    "except AssertionError as e:\n",
    "    print('AssertionError:', e)"
   ]
  },
  {
   "cell_type": "markdown",
   "metadata": {},
   "source": [
    "### 5.2. Inside/outside <a id='section6'></a>\n",
    "\n",
    "*Added version 1.3.0*\n",
    "\n",
    "The Box is treated as a regional shape object (see [3.3. Region selectors.ipynb](3.3. Region selectors.ipynb)) and has methods inside() and outside() that indicate whether any 3D coordinate(s) are located inside or outside the shape."
   ]
  },
  {
   "cell_type": "code",
   "execution_count": 19,
   "metadata": {},
   "outputs": [
    {
     "name": "stdout",
     "output_type": "stream",
     "text": [
      "[[7.55218813 9.0387365  1.32653584]\n",
      " [3.33404481 7.81787862 1.91010947]\n",
      " [0.84792512 5.95297887 9.18227381]\n",
      " [0.42581323 6.76715123 4.44717802]\n",
      " [3.43079024 6.13526631 8.74371317]\n",
      " [1.41719085 0.36259527 6.41290531]\n",
      " [4.17884768 2.74218542 0.25070515]\n",
      " [3.86380712 9.48186665 8.32401934]\n",
      " [7.27170742 5.4052548  7.00564735]\n",
      " [3.08085255 7.15584267 8.71259598]\n",
      " [1.61486222 7.6707407  5.04232435]\n",
      " [3.54316133 6.51512622 4.6847017 ]\n",
      " [6.25319172 6.40550286 8.83574485]\n",
      " [5.26046081 6.64317448 6.74903998]\n",
      " [7.54220495 2.67451063 4.04504201]\n",
      " [5.76829011 6.43980472 5.03818552]\n",
      " [9.72509442 1.78526719 5.71016421]\n",
      " [8.42115207 3.59255389 5.24036428]\n",
      " [3.65470305 3.64167714 9.90014729]\n",
      " [5.57788537 7.09641652 0.17555737]]\n"
     ]
    }
   ],
   "source": [
    "# Build random list of points\n",
    "points = np.random.rand(20,3) * 10\n",
    "print(points)"
   ]
  },
  {
   "cell_type": "code",
   "execution_count": 20,
   "metadata": {},
   "outputs": [
    {
     "name": "stdout",
     "output_type": "stream",
     "text": [
      "Points inside:\n",
      "[ True  True  True  True  True  True  True False  True  True  True  True\n",
      "  True  True  True  True  True  True  True  True]\n",
      "Points outside:\n",
      "[False False False False False False False  True False False False False\n",
      " False False False False False False False False]\n"
     ]
    }
   ],
   "source": [
    "print('Points inside:')\n",
    "print(box.inside(points))\n",
    "print('Points outside:')\n",
    "print(box.outside(points))"
   ]
  },
  {
   "cell_type": "markdown",
   "metadata": {},
   "source": [
    "### 5.3. Vector/plane conversions\n",
    "\n",
    "*Added version 1.4.4:*\n",
    "\n",
    "It is often convenient to define positions, vectors and planes relative to a Box.  These methods perform the appropriate conversions.  \n",
    "\n",
    "- __vector_crystal_to_cartesian(indices)__ Converts crystal indices to Cartesian vectors relative to the box's lattice vectors. \n",
    "\n",
    "- __plane_crystal_to_cartesian(indices)__ Converts crystal planar indices to Cartesian plane normal vectors based on the box's lattice vectors.  Note: the algorithm used requires that the planar indices be integers.\n",
    "        \n",
    "- __position_relative_to_cartesian(relpos)__ Converts position vectors from relative box coordinates to absolute Cartesian coordinates based on the box's vects and origin.\n",
    "\n",
    "- __position_cartesian_to_relative(cartpos)__ Converts position vectors from absolute Cartesian coordinates to relative box coordinates based on the box's vects and origin."
   ]
  },
  {
   "cell_type": "code",
   "execution_count": 21,
   "metadata": {},
   "outputs": [],
   "source": [
    "# Define an orthogonal box\n",
    "a = uc.set_in_units(2.51, 'angstrom')\n",
    "b = uc.set_in_units(3.13, 'angstrom')\n",
    "c = uc.set_in_units(4.07, 'angstrom')\n",
    "box = am.Box(a=a, b=b, c=c)"
   ]
  },
  {
   "cell_type": "code",
   "execution_count": 22,
   "metadata": {},
   "outputs": [
    {
     "data": {
      "text/plain": [
       "array([2.51, 3.13, 4.07])"
      ]
     },
     "execution_count": 22,
     "metadata": {},
     "output_type": "execute_result"
    }
   ],
   "source": [
    "box.vector_crystal_to_cartesian([1,1,1])"
   ]
  },
  {
   "cell_type": "code",
   "execution_count": 23,
   "metadata": {},
   "outputs": [
    {
     "data": {
      "text/plain": [
       "array([0.70300632, 0.56375267, 0.43354935])"
      ]
     },
     "execution_count": 23,
     "metadata": {},
     "output_type": "execute_result"
    }
   ],
   "source": [
    "box.plane_crystal_to_cartesian([1,1,1])"
   ]
  },
  {
   "cell_type": "code",
   "execution_count": 24,
   "metadata": {},
   "outputs": [
    {
     "name": "stdout",
     "output_type": "stream",
     "text": [
      "[1.255 1.565 2.035]\n",
      "[0.5 0.5 0.5]\n"
     ]
    }
   ],
   "source": [
    "relpos = [0.5, 0.5, 0.5]\n",
    "cartpos = box.position_relative_to_cartesian(relpos)\n",
    "print(cartpos)\n",
    "\n",
    "relpos2 = box.position_cartesian_to_relative(cartpos)\n",
    "print(relpos2)"
   ]
  },
  {
   "cell_type": "markdown",
   "metadata": {},
   "source": [
    "### 5.4. Crystal lattice identification\n",
    "\n",
    "*Added version 1.4.4*\n",
    "\n",
    "There are also a few tests for identifying if the box is consistent with a standard representation of a crystal family unit cell.\n",
    "\n",
    "- __identifyfamily()__ returns str crystal family if box corresponds to a standard crystal representation. Otherwise, returns None.\n",
    "- __iscubic()__ returns bool indicating if box is a standard cubic box.\n",
    "- __ishexagonal()__ returns bool indicating if box is a standard hexagonal box.\n",
    "- __istetragonal()__ returns bool indicating if box is a standard tetragonal box.\n",
    "- __isrhombohedral()__ returns bool indicating if box is a standard rhombohedral box.\n",
    "- __isorthorhombic()__ returns bool indicating if box is a standard orthorhombic box.\n",
    "- __ismonoclinic()__ returns bool indicating if box is a standard monoclinic box.\n",
    "- __istriclinic()__ returns bool indicating if box is a standard triclinic box."
   ]
  },
  {
   "cell_type": "code",
   "execution_count": 25,
   "metadata": {},
   "outputs": [
    {
     "name": "stdout",
     "output_type": "stream",
     "text": [
      "identifyfamily = orthorhombic\n",
      "iscubic =        False\n",
      "ishexagonal =    False\n",
      "istetragonal =   False\n",
      "isrhombohedral = False\n",
      "isorthorhombic = True\n",
      "ismonoclinic =   False\n",
      "istriclinic =    False\n"
     ]
    }
   ],
   "source": [
    "print('identifyfamily =', box.identifyfamily())\n",
    "print('iscubic =       ', box.iscubic())\n",
    "print('ishexagonal =   ', box.ishexagonal())\n",
    "print('istetragonal =  ', box.istetragonal())\n",
    "print('isrhombohedral =', box.isrhombohedral())\n",
    "print('isorthorhombic =', box.isorthorhombic())\n",
    "print('ismonoclinic =  ', box.ismonoclinic())\n",
    "print('istriclinic =   ', box.istriclinic()) "
   ]
  },
  {
   "cell_type": "markdown",
   "metadata": {},
   "source": [
    "  "
   ]
  }
 ],
 "metadata": {
  "kernelspec": {
   "display_name": "Python 311",
   "language": "python",
   "name": "py11"
  },
  "language_info": {
   "codemirror_mode": {
    "name": "ipython",
    "version": 3
   },
   "file_extension": ".py",
   "mimetype": "text/x-python",
   "name": "python",
   "nbconvert_exporter": "python",
   "pygments_lexer": "ipython3",
   "version": "3.11.5"
  }
 },
 "nbformat": 4,
 "nbformat_minor": 4
}
